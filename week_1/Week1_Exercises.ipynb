{
  "cells": [
    {
      "cell_type": "markdown",
      "metadata": {
        "id": "W9WNVv9iUm0X"
      },
      "source": [
        "## Numpy\n"
      ]
    },
    {
      "cell_type": "code",
      "execution_count": 1,
      "metadata": {
        "id": "sxi83B8qUpv5"
      },
      "outputs": [],
      "source": [
        "import numpy as np\n"
      ]
    },
    {
      "cell_type": "markdown",
      "metadata": {
        "id": "YwyT3EQxVCgm"
      },
      "source": [
        "1. Create an `ndarray` of shape (3,5). All values of the array are 100.\n"
      ]
    },
    {
      "cell_type": "code",
      "execution_count": 2,
      "metadata": {
        "id": "bdsABaxNUqVr"
      },
      "outputs": [
        {
          "name": "stdout",
          "output_type": "stream",
          "text": [
            "[[100. 100. 100. 100. 100.]\n",
            " [100. 100. 100. 100. 100.]\n",
            " [100. 100. 100. 100. 100.]]\n"
          ]
        }
      ],
      "source": [
        "x1 = np.ones((3, 5)) * 100\n",
        "print(x1)\n"
      ]
    },
    {
      "cell_type": "markdown",
      "metadata": {
        "id": "iYTCppLJVU3O"
      },
      "source": [
        "2. Create a border of zeros that surround the result in Question 1, so that the output is of shape (5,7), the outside values are 0 and the inside values are 100.\n"
      ]
    },
    {
      "cell_type": "code",
      "execution_count": 3,
      "metadata": {
        "id": "zYVIlzrrUqYY"
      },
      "outputs": [
        {
          "name": "stdout",
          "output_type": "stream",
          "text": [
            "[[  0.   0.   0.   0.   0.   0.   0.]\n",
            " [  0. 100. 100. 100. 100. 100.   0.]\n",
            " [  0. 100. 100. 100. 100. 100.   0.]\n",
            " [  0. 100. 100. 100. 100. 100.   0.]\n",
            " [  0.   0.   0.   0.   0.   0.   0.]]\n"
          ]
        }
      ],
      "source": [
        "x2 = np.c_[np.zeros((3, 1)), x1, np.zeros((3, 1))]\n",
        "x2 = np.r_[np.zeros((1, 7)), x2, np.zeros((1, 7))]\n",
        "print(x2)\n"
      ]
    },
    {
      "cell_type": "markdown",
      "metadata": {
        "id": "YDJndwA2V1Af"
      },
      "source": [
        "3. Create a 5x5 matrix with values 1,2,3,4 just below the diagonal.\n"
      ]
    },
    {
      "cell_type": "code",
      "execution_count": 4,
      "metadata": {
        "id": "MGK4UJutUqd3"
      },
      "outputs": [
        {
          "name": "stdout",
          "output_type": "stream",
          "text": [
            "[[0. 0. 0. 0. 0.]\n",
            " [1. 0. 0. 0. 0.]\n",
            " [0. 2. 0. 0. 0.]\n",
            " [0. 0. 3. 0. 0.]\n",
            " [0. 0. 0. 4. 0.]]\n"
          ]
        }
      ],
      "source": [
        "x3 = np.diag(np.arange(1, 5))\n",
        "x3 = np.c_[x3, np.zeros((4, 1))]\n",
        "x3 = np.r_[np.zeros((1, 5)), x3]\n",
        "print(x3)\n"
      ]
    },
    {
      "cell_type": "markdown",
      "metadata": {
        "id": "NYrOwCPzWMeD"
      },
      "source": [
        "4. Create a checkerboard 8x8 matrix using the tile function\n"
      ]
    },
    {
      "cell_type": "code",
      "execution_count": 5,
      "metadata": {
        "id": "3pEOA810WL07"
      },
      "outputs": [
        {
          "name": "stdout",
          "output_type": "stream",
          "text": [
            "[[1 0 1 0 1 0 1 0]\n",
            " [0 1 0 1 0 1 0 1]\n",
            " [1 0 1 0 1 0 1 0]\n",
            " [0 1 0 1 0 1 0 1]\n",
            " [1 0 1 0 1 0 1 0]\n",
            " [0 1 0 1 0 1 0 1]\n",
            " [1 0 1 0 1 0 1 0]\n",
            " [0 1 0 1 0 1 0 1]]\n"
          ]
        }
      ],
      "source": [
        "x4 = np.tile(np.array([[1, 0], [0, 1]]), (4, 4))\n",
        "print(x4)\n"
      ]
    },
    {
      "cell_type": "markdown",
      "metadata": {
        "id": "1HNTk70SWHjV"
      },
      "source": [
        "5. Sort a 2d-array by the nth column\n"
      ]
    },
    {
      "cell_type": "code",
      "execution_count": 6,
      "metadata": {
        "id": "9cxSyDIkUqgi"
      },
      "outputs": [
        {
          "name": "stdout",
          "output_type": "stream",
          "text": [
            "before sort:\n",
            "[[1 0 1]\n",
            " [2 5 2]\n",
            " [3 4 3]]\n",
            "after sort:\n",
            "[[1 0 1]\n",
            " [2 5 2]\n",
            " [3 4 3]]\n"
          ]
        }
      ],
      "source": [
        "def sort_2d_arr_by_nth_col(arr, n):\n",
        "    return arr[arr[:, n].argsort()]\n",
        "\n",
        "\n",
        "x5 = np.array([[1, 0, 1], [2, 5, 2], [3, 4, 3]])\n",
        "print(\"before sort:\")\n",
        "print(x5)\n",
        "xt = sort_2d_arr_by_nth_col(x5, 1)\n",
        "print(\"after sort:\")\n",
        "print(x5)\n"
      ]
    },
    {
      "cell_type": "markdown",
      "metadata": {
        "id": "z__MABZ1W19Z"
      },
      "source": [
        "6. Compute a matrix rank\n"
      ]
    },
    {
      "cell_type": "code",
      "execution_count": 7,
      "metadata": {
        "id": "EKcIavS4UqjG"
      },
      "outputs": [
        {
          "name": "stdout",
          "output_type": "stream",
          "text": [
            "[[1 2 3]\n",
            " [4 5 6]\n",
            " [7 8 9]]\n",
            "rank of above matrix 2\n"
          ]
        }
      ],
      "source": [
        "def rank(A):\n",
        "    return np.linalg.matrix_rank(A)\n",
        "\n",
        "\n",
        "x6 = np.arange(1, 10).reshape(3, 3)\n",
        "print(x6)\n",
        "print(\"rank of above matrix\", rank(x6))\n"
      ]
    },
    {
      "cell_type": "markdown",
      "metadata": {
        "id": "Edizw3vbXOC6"
      },
      "source": [
        "7. Consider an array of dimension (5,5,3), how to mulitply it by an array with dimensions (5,5)?\n"
      ]
    },
    {
      "cell_type": "code",
      "execution_count": 8,
      "metadata": {
        "id": "JITZPgiyXhHJ"
      },
      "outputs": [
        {
          "name": "stdout",
          "output_type": "stream",
          "text": [
            "[[[2. 2. 2.]\n",
            "  [2. 2. 2.]\n",
            "  [2. 2. 2.]\n",
            "  [2. 2. 2.]\n",
            "  [2. 2. 2.]]\n",
            "\n",
            " [[2. 2. 2.]\n",
            "  [2. 2. 2.]\n",
            "  [2. 2. 2.]\n",
            "  [2. 2. 2.]\n",
            "  [2. 2. 2.]]\n",
            "\n",
            " [[2. 2. 2.]\n",
            "  [2. 2. 2.]\n",
            "  [2. 2. 2.]\n",
            "  [2. 2. 2.]\n",
            "  [2. 2. 2.]]\n",
            "\n",
            " [[2. 2. 2.]\n",
            "  [2. 2. 2.]\n",
            "  [2. 2. 2.]\n",
            "  [2. 2. 2.]\n",
            "  [2. 2. 2.]]\n",
            "\n",
            " [[2. 2. 2.]\n",
            "  [2. 2. 2.]\n",
            "  [2. 2. 2.]\n",
            "  [2. 2. 2.]\n",
            "  [2. 2. 2.]]]\n"
          ]
        }
      ],
      "source": [
        "x7 = np.ones((5, 5, 3))\n",
        "y7 = np.ones((5, 5)) * 2\n",
        "z7 = np.multiply(x7, y7[:, :, None])\n",
        "print(z7)\n"
      ]
    },
    {
      "cell_type": "markdown",
      "metadata": {
        "id": "toN4wwRfXhka"
      },
      "source": [
        "8. Consider a 16x16 array, how to get the block-sum (block size is 4x4)?\n"
      ]
    },
    {
      "cell_type": "code",
      "execution_count": 9,
      "metadata": {
        "id": "ZxEeQA4DXh5W"
      },
      "outputs": [
        {
          "name": "stdout",
          "output_type": "stream",
          "text": [
            "[[4. 4. 4. 4. 4. 4. 4. 4. 4. 4. 4. 4. 4. 4. 4. 4.]\n",
            " [4. 4. 4. 4. 4. 4. 4. 4. 4. 4. 4. 4. 4. 4. 4. 4.]\n",
            " [4. 4. 4. 4. 4. 4. 4. 4. 4. 4. 4. 4. 4. 4. 4. 4.]\n",
            " [4. 4. 4. 4. 4. 4. 4. 4. 4. 4. 4. 4. 4. 4. 4. 4.]]\n",
            "[[16. 16. 16. 16.]\n",
            " [16. 16. 16. 16.]\n",
            " [16. 16. 16. 16.]\n",
            " [16. 16. 16. 16.]]\n"
          ]
        }
      ],
      "source": [
        "x8 = np.ones((16, 16))\n",
        "# 4 x 4 block sum\n",
        "y8 = np.add.reduceat(x8, np.arange(0, x8.shape[0], 4), axis=0)\n",
        "print(y8)\n",
        "z8 = np.add.reduceat(y8, np.arange(0, y8.shape[1], 4), axis=1)\n",
        "print(z8)\n"
      ]
    },
    {
      "cell_type": "markdown",
      "metadata": {
        "id": "L15y9mOiXirL"
      },
      "source": [
        "9. Get the n largest values of an array\n"
      ]
    },
    {
      "cell_type": "code",
      "execution_count": 10,
      "metadata": {
        "id": "-tp-G1PpXi-3"
      },
      "outputs": [
        {
          "name": "stdout",
          "output_type": "stream",
          "text": [
            "[[0.03483791 0.56727939 0.63853556]\n",
            " [0.58042302 0.52457163 0.54933942]\n",
            " [0.11021765 0.48732845 0.70198158]]\n",
            "[0.701981578852234, 0.6385355577620561, 0.5804230151325775, 0.5672793915412853, 0.5493394238496175]\n"
          ]
        }
      ],
      "source": [
        "n = 5\n",
        "x8 = np.random.rand(3, 3)\n",
        "print(x8)\n",
        "y8 = x8.flatten()\n",
        "y8 = sorted(y8, reverse=True)[:n]\n",
        "print(y8)\n"
      ]
    },
    {
      "cell_type": "markdown",
      "metadata": {
        "id": "_cI2xR4mXjJd"
      },
      "source": [
        "10. Implement the Game of Life using numpy arrays\n"
      ]
    },
    {
      "cell_type": "markdown",
      "metadata": {},
      "source": [
        "> ### Rules (from Wiki)\n",
        ">\n",
        "> The universe of the Game of Life is an infinite, two-dimensional orthogonal grid of square cells, each of which is in one of two possible states, \n",
        "> live or dead (or populated and unpopulated, respectively). Every cell interacts with its eight neighbours, which are the cells that are\n",
        "> horizontally, vertically, or diagonally adjacent. At each step in time, the following transitions occur:\n",
        ">\n",
        "> -   Any live cell with fewer than two live neighbours dies, as if by underpopulation.\n",
        "> -   Any live cell with two or three live neighbours lives on to the next generation.\n",
        "> -   Any live cell with more than three live neighbours dies, as if by overpopulation.\n",
        "> -   Any dead cell with exactly three live neighbours becomes a live cell, as if by reproduction.\n"
      ]
    },
    {
      "cell_type": "code",
      "execution_count": 11,
      "metadata": {},
      "outputs": [],
      "source": [
        "# functions\n",
        "\n",
        "\n",
        "def get_block_sum(grid):\n",
        "    # pad zeros\n",
        "    grid_pad = np.pad(grid, [0, 1], \"constant\")\n",
        "    m, n = grid_pad.shape\n",
        "    grid_sum = np.pad(grid_pad, [0, 1], \"constant\")\n",
        "    # sum nearby columns\n",
        "    idx_c = np.arange(n)\n",
        "    idx_c = (\n",
        "        np.concatenate(((idx_c - 1).reshape(-1, 1), (idx_c + 2).reshape(-1, 1)), axis=1)\n",
        "        .flatten()\n",
        "        .clip(0, n - 1)\n",
        "    )\n",
        "    idx_c = idx_c[:-1]\n",
        "    grid_sum = np.add.reduceat(grid_sum, idx_c, axis=1)[:-1, ::2]\n",
        "    # sum nearby rows\n",
        "    idx_r = np.arange(m)\n",
        "    idx_r = (\n",
        "        np.concatenate(((idx_r - 1).reshape(-1, 1), (idx_r + 2).reshape(-1, 1)), axis=1)\n",
        "        .flatten()\n",
        "        .clip(0, m - 1)\n",
        "    )\n",
        "    idx_r = idx_r[:-1]\n",
        "    grid_sum = np.add.reduceat(grid_sum, idx_r, axis=0)[:-1:2, :-1]\n",
        "    return grid_sum\n",
        "\n",
        "\n",
        "def evolve(grid: np.ndarray):\n",
        "    # get grid sum\n",
        "    grid_sum = get_block_sum(grid)\n",
        "    status = grid_sum - grid\n",
        "    # update by status\n",
        "    idx_die = np.where((grid == 1) & (status < 2) | (status > 3))\n",
        "    idx_live = np.where(\n",
        "        ((grid == 1) & ((status == 2) | (status == 3))) | ((grid == 0) & (status == 3))\n",
        "    )\n",
        "    grid[idx_die] = 0\n",
        "    grid[idx_live] = 1\n",
        "    return grid\n"
      ]
    },
    {
      "cell_type": "code",
      "execution_count": 12,
      "metadata": {},
      "outputs": [
        {
          "name": "stdout",
          "output_type": "stream",
          "text": [
            "step 19\n"
          ]
        },
        {
          "data": {
            "image/png": "[encoded data removed]",
            "text/plain": [
              "<Figure size 576x576 with 1 Axes>"
            ]
          },
          "metadata": {
            "needs_background": "light"
          },
          "output_type": "display_data"
        }
      ],
      "source": [
        "import time\n",
        "from IPython.display import clear_output\n",
        "\n",
        "import matplotlib.pyplot as plt\n",
        "\n",
        "grid = np.random.randint(0, 2, (100, 100))\n",
        "# Display\n",
        "for i in range(20):\n",
        "    clear_output()\n",
        "    print(f\"step {i}\")\n",
        "    #print(grid)\n",
        "    plt.figure(figsize=(8, 8))\n",
        "    plt.imshow(grid,interpolation='nearest')\n",
        "    plt.show()\n",
        "    grid = evolve(grid)\n",
        "    time.sleep(1)\n",
        "# clear plt\n",
        "plt.close()\n"
      ]
    },
    {
      "cell_type": "markdown",
      "metadata": {
        "id": "JjTspHcYYy1r"
      },
      "source": [
        "Check https://github.com/rougier/numpy-100/blob/master/100_Numpy_exercises.ipynb for more Numpy exercises.\n"
      ]
    },
    {
      "cell_type": "markdown",
      "metadata": {
        "id": "duxYLMSbUrIy"
      },
      "source": [
        "## Pandas\n"
      ]
    },
    {
      "cell_type": "code",
      "execution_count": 13,
      "metadata": {
        "id": "X3JdMd73UsfF"
      },
      "outputs": [],
      "source": [
        "import pandas as pd\n",
        "import seaborn as sb\n"
      ]
    },
    {
      "cell_type": "markdown",
      "metadata": {
        "id": "gTqmqHeXYpA9"
      },
      "source": [
        "1. Using NumPy, create a Pandas DataFrame with five rows and three columns\n"
      ]
    },
    {
      "cell_type": "code",
      "execution_count": 14,
      "metadata": {
        "id": "5VtgfgDSUtDq"
      },
      "outputs": [
        {
          "data": {
            "text/html": [
              "<div>\n",
              "<style scoped>\n",
              "    .dataframe tbody tr th:only-of-type {\n",
              "        vertical-align: middle;\n",
              "    }\n",
              "\n",
              "    .dataframe tbody tr th {\n",
              "        vertical-align: top;\n",
              "    }\n",
              "\n",
              "    .dataframe thead th {\n",
              "        text-align: right;\n",
              "    }\n",
              "</style>\n",
              "<table border=\"1\" class=\"dataframe\">\n",
              "  <thead>\n",
              "    <tr style=\"text-align: right;\">\n",
              "      <th></th>\n",
              "      <th>0</th>\n",
              "      <th>1</th>\n",
              "      <th>2</th>\n",
              "    </tr>\n",
              "  </thead>\n",
              "  <tbody>\n",
              "    <tr>\n",
              "      <th>0</th>\n",
              "      <td>13</td>\n",
              "      <td>63</td>\n",
              "      <td>79</td>\n",
              "    </tr>\n",
              "    <tr>\n",
              "      <th>1</th>\n",
              "      <td>48</td>\n",
              "      <td>57</td>\n",
              "      <td>78</td>\n",
              "    </tr>\n",
              "    <tr>\n",
              "      <th>2</th>\n",
              "      <td>82</td>\n",
              "      <td>43</td>\n",
              "      <td>53</td>\n",
              "    </tr>\n",
              "    <tr>\n",
              "      <th>3</th>\n",
              "      <td>39</td>\n",
              "      <td>34</td>\n",
              "      <td>15</td>\n",
              "    </tr>\n",
              "    <tr>\n",
              "      <th>4</th>\n",
              "      <td>76</td>\n",
              "      <td>34</td>\n",
              "      <td>90</td>\n",
              "    </tr>\n",
              "  </tbody>\n",
              "</table>\n",
              "</div>"
            ],
            "text/plain": [
              "    0   1   2\n",
              "0  13  63  79\n",
              "1  48  57  78\n",
              "2  82  43  53\n",
              "3  39  34  15\n",
              "4  76  34  90"
            ]
          },
          "execution_count": 14,
          "metadata": {},
          "output_type": "execute_result"
        }
      ],
      "source": [
        "df1 = pd.DataFrame(np.random.randint(0, 100, (5, 3)))\n",
        "df1.head()"
      ]
    },
    {
      "cell_type": "markdown",
      "metadata": {
        "id": "9qC1OJHFYryX"
      },
      "source": [
        "The following six questions depend on the penguins dataset.\n"
      ]
    },
    {
      "cell_type": "code",
      "execution_count": 15,
      "metadata": {
        "id": "iz_sYU_7UtGZ"
      },
      "outputs": [
        {
          "data": {
            "text/html": [
              "<div>\n",
              "<style scoped>\n",
              "    .dataframe tbody tr th:only-of-type {\n",
              "        vertical-align: middle;\n",
              "    }\n",
              "\n",
              "    .dataframe tbody tr th {\n",
              "        vertical-align: top;\n",
              "    }\n",
              "\n",
              "    .dataframe thead th {\n",
              "        text-align: right;\n",
              "    }\n",
              "</style>\n",
              "<table border=\"1\" class=\"dataframe\">\n",
              "  <thead>\n",
              "    <tr style=\"text-align: right;\">\n",
              "      <th></th>\n",
              "      <th>species</th>\n",
              "      <th>island</th>\n",
              "      <th>bill_length_mm</th>\n",
              "      <th>bill_depth_mm</th>\n",
              "      <th>flipper_length_mm</th>\n",
              "      <th>body_mass_g</th>\n",
              "      <th>sex</th>\n",
              "    </tr>\n",
              "  </thead>\n",
              "  <tbody>\n",
              "    <tr>\n",
              "      <th>0</th>\n",
              "      <td>Adelie</td>\n",
              "      <td>Torgersen</td>\n",
              "      <td>39.1</td>\n",
              "      <td>18.7</td>\n",
              "      <td>181.0</td>\n",
              "      <td>3750.0</td>\n",
              "      <td>Male</td>\n",
              "    </tr>\n",
              "    <tr>\n",
              "      <th>1</th>\n",
              "      <td>Adelie</td>\n",
              "      <td>Torgersen</td>\n",
              "      <td>39.5</td>\n",
              "      <td>17.4</td>\n",
              "      <td>186.0</td>\n",
              "      <td>3800.0</td>\n",
              "      <td>Female</td>\n",
              "    </tr>\n",
              "    <tr>\n",
              "      <th>2</th>\n",
              "      <td>Adelie</td>\n",
              "      <td>Torgersen</td>\n",
              "      <td>40.3</td>\n",
              "      <td>18.0</td>\n",
              "      <td>195.0</td>\n",
              "      <td>3250.0</td>\n",
              "      <td>Female</td>\n",
              "    </tr>\n",
              "    <tr>\n",
              "      <th>3</th>\n",
              "      <td>Adelie</td>\n",
              "      <td>Torgersen</td>\n",
              "      <td>NaN</td>\n",
              "      <td>NaN</td>\n",
              "      <td>NaN</td>\n",
              "      <td>NaN</td>\n",
              "      <td>NaN</td>\n",
              "    </tr>\n",
              "    <tr>\n",
              "      <th>4</th>\n",
              "      <td>Adelie</td>\n",
              "      <td>Torgersen</td>\n",
              "      <td>36.7</td>\n",
              "      <td>19.3</td>\n",
              "      <td>193.0</td>\n",
              "      <td>3450.0</td>\n",
              "      <td>Female</td>\n",
              "    </tr>\n",
              "  </tbody>\n",
              "</table>\n",
              "</div>"
            ],
            "text/plain": [
              "  species     island  bill_length_mm  bill_depth_mm  flipper_length_mm  \\\n",
              "0  Adelie  Torgersen            39.1           18.7              181.0   \n",
              "1  Adelie  Torgersen            39.5           17.4              186.0   \n",
              "2  Adelie  Torgersen            40.3           18.0              195.0   \n",
              "3  Adelie  Torgersen             NaN            NaN                NaN   \n",
              "4  Adelie  Torgersen            36.7           19.3              193.0   \n",
              "\n",
              "   body_mass_g     sex  \n",
              "0       3750.0    Male  \n",
              "1       3800.0  Female  \n",
              "2       3250.0  Female  \n",
              "3          NaN     NaN  \n",
              "4       3450.0  Female  "
            ]
          },
          "execution_count": 15,
          "metadata": {},
          "output_type": "execute_result"
        }
      ],
      "source": [
        "df_penguins = sb.load_dataset(\"penguins\")\n",
        "df_penguins.head()"
      ]
    },
    {
      "cell_type": "markdown",
      "metadata": {
        "id": "zewpETumaw2B"
      },
      "source": [
        "2. What function can we use to drop the rows that have missing data?\n"
      ]
    },
    {
      "cell_type": "code",
      "execution_count": 16,
      "metadata": {
        "id": "GzqdIEsqayY9"
      },
      "outputs": [
        {
          "data": {
            "text/html": [
              "<div>\n",
              "<style scoped>\n",
              "    .dataframe tbody tr th:only-of-type {\n",
              "        vertical-align: middle;\n",
              "    }\n",
              "\n",
              "    .dataframe tbody tr th {\n",
              "        vertical-align: top;\n",
              "    }\n",
              "\n",
              "    .dataframe thead th {\n",
              "        text-align: right;\n",
              "    }\n",
              "</style>\n",
              "<table border=\"1\" class=\"dataframe\">\n",
              "  <thead>\n",
              "    <tr style=\"text-align: right;\">\n",
              "      <th></th>\n",
              "      <th>species</th>\n",
              "      <th>island</th>\n",
              "      <th>bill_length_mm</th>\n",
              "      <th>bill_depth_mm</th>\n",
              "      <th>flipper_length_mm</th>\n",
              "      <th>body_mass_g</th>\n",
              "      <th>sex</th>\n",
              "    </tr>\n",
              "  </thead>\n",
              "  <tbody>\n",
              "    <tr>\n",
              "      <th>0</th>\n",
              "      <td>Adelie</td>\n",
              "      <td>Torgersen</td>\n",
              "      <td>39.1</td>\n",
              "      <td>18.7</td>\n",
              "      <td>181.0</td>\n",
              "      <td>3750.0</td>\n",
              "      <td>Male</td>\n",
              "    </tr>\n",
              "    <tr>\n",
              "      <th>1</th>\n",
              "      <td>Adelie</td>\n",
              "      <td>Torgersen</td>\n",
              "      <td>39.5</td>\n",
              "      <td>17.4</td>\n",
              "      <td>186.0</td>\n",
              "      <td>3800.0</td>\n",
              "      <td>Female</td>\n",
              "    </tr>\n",
              "    <tr>\n",
              "      <th>2</th>\n",
              "      <td>Adelie</td>\n",
              "      <td>Torgersen</td>\n",
              "      <td>40.3</td>\n",
              "      <td>18.0</td>\n",
              "      <td>195.0</td>\n",
              "      <td>3250.0</td>\n",
              "      <td>Female</td>\n",
              "    </tr>\n",
              "    <tr>\n",
              "      <th>4</th>\n",
              "      <td>Adelie</td>\n",
              "      <td>Torgersen</td>\n",
              "      <td>36.7</td>\n",
              "      <td>19.3</td>\n",
              "      <td>193.0</td>\n",
              "      <td>3450.0</td>\n",
              "      <td>Female</td>\n",
              "    </tr>\n",
              "    <tr>\n",
              "      <th>5</th>\n",
              "      <td>Adelie</td>\n",
              "      <td>Torgersen</td>\n",
              "      <td>39.3</td>\n",
              "      <td>20.6</td>\n",
              "      <td>190.0</td>\n",
              "      <td>3650.0</td>\n",
              "      <td>Male</td>\n",
              "    </tr>\n",
              "  </tbody>\n",
              "</table>\n",
              "</div>"
            ],
            "text/plain": [
              "  species     island  bill_length_mm  bill_depth_mm  flipper_length_mm  \\\n",
              "0  Adelie  Torgersen            39.1           18.7              181.0   \n",
              "1  Adelie  Torgersen            39.5           17.4              186.0   \n",
              "2  Adelie  Torgersen            40.3           18.0              195.0   \n",
              "4  Adelie  Torgersen            36.7           19.3              193.0   \n",
              "5  Adelie  Torgersen            39.3           20.6              190.0   \n",
              "\n",
              "   body_mass_g     sex  \n",
              "0       3750.0    Male  \n",
              "1       3800.0  Female  \n",
              "2       3250.0  Female  \n",
              "4       3450.0  Female  \n",
              "5       3650.0    Male  "
            ]
          },
          "execution_count": 16,
          "metadata": {},
          "output_type": "execute_result"
        }
      ],
      "source": [
        "df_2 = df_penguins.dropna()\n",
        "df_2.head()"
      ]
    },
    {
      "cell_type": "markdown",
      "metadata": {
        "id": "H5-OiNdwazAl"
      },
      "source": [
        "3. By default, will the function in Question 2 modify df_penguins or will it return a copy?\n",
        "- copy"
      ]
    },
    {
      "cell_type": "markdown",
      "metadata": {
        "id": "fGpQs-HxbE-4"
      },
      "source": [
        "4. Let df_full be the dataframe obtained from dropping rows with missing data. What is the average bill length of a penguin, in millimeters, in this (df_full) data set?"
      ]
    },
    {
      "cell_type": "code",
      "execution_count": 17,
      "metadata": {},
      "outputs": [
        {
          "data": {
            "text/html": [
              "<div>\n",
              "<style scoped>\n",
              "    .dataframe tbody tr th:only-of-type {\n",
              "        vertical-align: middle;\n",
              "    }\n",
              "\n",
              "    .dataframe tbody tr th {\n",
              "        vertical-align: top;\n",
              "    }\n",
              "\n",
              "    .dataframe thead th {\n",
              "        text-align: right;\n",
              "    }\n",
              "</style>\n",
              "<table border=\"1\" class=\"dataframe\">\n",
              "  <thead>\n",
              "    <tr style=\"text-align: right;\">\n",
              "      <th></th>\n",
              "      <th>species</th>\n",
              "      <th>island</th>\n",
              "      <th>bill_length_mm</th>\n",
              "      <th>bill_depth_mm</th>\n",
              "      <th>flipper_length_mm</th>\n",
              "      <th>body_mass_g</th>\n",
              "      <th>sex</th>\n",
              "    </tr>\n",
              "  </thead>\n",
              "  <tbody>\n",
              "    <tr>\n",
              "      <th>3</th>\n",
              "      <td>Adelie</td>\n",
              "      <td>Torgersen</td>\n",
              "      <td>NaN</td>\n",
              "      <td>NaN</td>\n",
              "      <td>NaN</td>\n",
              "      <td>NaN</td>\n",
              "      <td>NaN</td>\n",
              "    </tr>\n",
              "    <tr>\n",
              "      <th>8</th>\n",
              "      <td>Adelie</td>\n",
              "      <td>Torgersen</td>\n",
              "      <td>34.1</td>\n",
              "      <td>18.1</td>\n",
              "      <td>193.0</td>\n",
              "      <td>3475.0</td>\n",
              "      <td>NaN</td>\n",
              "    </tr>\n",
              "    <tr>\n",
              "      <th>9</th>\n",
              "      <td>Adelie</td>\n",
              "      <td>Torgersen</td>\n",
              "      <td>42.0</td>\n",
              "      <td>20.2</td>\n",
              "      <td>190.0</td>\n",
              "      <td>4250.0</td>\n",
              "      <td>NaN</td>\n",
              "    </tr>\n",
              "    <tr>\n",
              "      <th>10</th>\n",
              "      <td>Adelie</td>\n",
              "      <td>Torgersen</td>\n",
              "      <td>37.8</td>\n",
              "      <td>17.1</td>\n",
              "      <td>186.0</td>\n",
              "      <td>3300.0</td>\n",
              "      <td>NaN</td>\n",
              "    </tr>\n",
              "    <tr>\n",
              "      <th>11</th>\n",
              "      <td>Adelie</td>\n",
              "      <td>Torgersen</td>\n",
              "      <td>37.8</td>\n",
              "      <td>17.3</td>\n",
              "      <td>180.0</td>\n",
              "      <td>3700.0</td>\n",
              "      <td>NaN</td>\n",
              "    </tr>\n",
              "  </tbody>\n",
              "</table>\n",
              "</div>"
            ],
            "text/plain": [
              "   species     island  bill_length_mm  bill_depth_mm  flipper_length_mm  \\\n",
              "3   Adelie  Torgersen             NaN            NaN                NaN   \n",
              "8   Adelie  Torgersen            34.1           18.1              193.0   \n",
              "9   Adelie  Torgersen            42.0           20.2              190.0   \n",
              "10  Adelie  Torgersen            37.8           17.1              186.0   \n",
              "11  Adelie  Torgersen            37.8           17.3              180.0   \n",
              "\n",
              "    body_mass_g  sex  \n",
              "3           NaN  NaN  \n",
              "8        3475.0  NaN  \n",
              "9        4250.0  NaN  \n",
              "10       3300.0  NaN  \n",
              "11       3700.0  NaN  "
            ]
          },
          "execution_count": 17,
          "metadata": {},
          "output_type": "execute_result"
        }
      ],
      "source": [
        "# get rows with na\n",
        "df_full = df_penguins[df_penguins.isnull().any(axis=1)]\n",
        "df_full.head()"
      ]
    },
    {
      "cell_type": "markdown",
      "metadata": {
        "id": "8G2PTyWXZu3Q"
      },
      "source": [
        "5. Which species has the longest flippers?\n"
      ]
    },
    {
      "cell_type": "code",
      "execution_count": 18,
      "metadata": {
        "id": "3t2CXujeUtJO"
      },
      "outputs": [
        {
          "name": "stdout",
          "output_type": "stream",
          "text": [
            "Gentoo\n"
          ]
        }
      ],
      "source": [
        "df_5 = df_penguins.groupby(\"species\")[[\"flipper_length_mm\"]].max().reset_index()\n",
        "ans_5 = df_5.loc[df_5[\"flipper_length_mm\"].idxmax(), \"species\"]\n",
        "print(ans_5)"
      ]
    },
    {
      "cell_type": "markdown",
      "metadata": {
        "id": "1cIOry3KZwVt"
      },
      "source": [
        "6. Which two species have the most similar mean weight?\n"
      ]
    },
    {
      "cell_type": "code",
      "execution_count": 19,
      "metadata": {
        "id": "SxrsVLOjUtLy"
      },
      "outputs": [
        {
          "data": {
            "text/html": [
              "<div>\n",
              "<style scoped>\n",
              "    .dataframe tbody tr th:only-of-type {\n",
              "        vertical-align: middle;\n",
              "    }\n",
              "\n",
              "    .dataframe tbody tr th {\n",
              "        vertical-align: top;\n",
              "    }\n",
              "\n",
              "    .dataframe thead th {\n",
              "        text-align: right;\n",
              "    }\n",
              "</style>\n",
              "<table border=\"1\" class=\"dataframe\">\n",
              "  <thead>\n",
              "    <tr style=\"text-align: right;\">\n",
              "      <th></th>\n",
              "      <th>species</th>\n",
              "      <th>body_mass_g</th>\n",
              "    </tr>\n",
              "  </thead>\n",
              "  <tbody>\n",
              "    <tr>\n",
              "      <th>0</th>\n",
              "      <td>Adelie</td>\n",
              "      <td>3700.662252</td>\n",
              "    </tr>\n",
              "    <tr>\n",
              "      <th>1</th>\n",
              "      <td>Chinstrap</td>\n",
              "      <td>3733.088235</td>\n",
              "    </tr>\n",
              "    <tr>\n",
              "      <th>2</th>\n",
              "      <td>Gentoo</td>\n",
              "      <td>5076.016260</td>\n",
              "    </tr>\n",
              "  </tbody>\n",
              "</table>\n",
              "</div>"
            ],
            "text/plain": [
              "     species  body_mass_g\n",
              "0     Adelie  3700.662252\n",
              "1  Chinstrap  3733.088235\n",
              "2     Gentoo  5076.016260"
            ]
          },
          "execution_count": 19,
          "metadata": {},
          "output_type": "execute_result"
        }
      ],
      "source": [
        "df_6 = df_penguins.groupby(\"species\")[[\"body_mass_g\"]].mean().reset_index()\n",
        "df_6 = df_6.sort_values(by=\"body_mass_g\")\n",
        "df_6.head()"
      ]
    },
    {
      "cell_type": "code",
      "execution_count": 20,
      "metadata": {},
      "outputs": [
        {
          "data": {
            "text/plain": [
              "0            NaN\n",
              "1      32.425984\n",
              "2    1342.928025\n",
              "Name: body_mass_g, dtype: float64"
            ]
          },
          "execution_count": 20,
          "metadata": {},
          "output_type": "execute_result"
        }
      ],
      "source": [
        "df_6_diff = df_6[\"body_mass_g\"].diff()\n",
        "df_6_diff.head()"
      ]
    },
    {
      "cell_type": "code",
      "execution_count": 21,
      "metadata": {},
      "outputs": [
        {
          "name": "stdout",
          "output_type": "stream",
          "text": [
            "Adelie & Chinstrap\n"
          ]
        }
      ],
      "source": [
        "idx_min = df_6_diff.idxmin()\n",
        "ans_6 = df_6.loc[[idx_min - 1, idx_min], \"species\"].values\n",
        "print(\" & \".join(ans_6))"
      ]
    },
    {
      "cell_type": "markdown",
      "metadata": {
        "id": "KwYXrDn8Z1Zs"
      },
      "source": [
        "7. How could you sort by species first, then by body mass?\n"
      ]
    },
    {
      "cell_type": "code",
      "execution_count": 22,
      "metadata": {
        "id": "rPfIrl1HdHWf"
      },
      "outputs": [
        {
          "data": {
            "text/html": [
              "<div>\n",
              "<style scoped>\n",
              "    .dataframe tbody tr th:only-of-type {\n",
              "        vertical-align: middle;\n",
              "    }\n",
              "\n",
              "    .dataframe tbody tr th {\n",
              "        vertical-align: top;\n",
              "    }\n",
              "\n",
              "    .dataframe thead th {\n",
              "        text-align: right;\n",
              "    }\n",
              "</style>\n",
              "<table border=\"1\" class=\"dataframe\">\n",
              "  <thead>\n",
              "    <tr style=\"text-align: right;\">\n",
              "      <th></th>\n",
              "      <th>species</th>\n",
              "      <th>island</th>\n",
              "      <th>bill_length_mm</th>\n",
              "      <th>bill_depth_mm</th>\n",
              "      <th>flipper_length_mm</th>\n",
              "      <th>body_mass_g</th>\n",
              "      <th>sex</th>\n",
              "    </tr>\n",
              "  </thead>\n",
              "  <tbody>\n",
              "    <tr>\n",
              "      <th>58</th>\n",
              "      <td>Adelie</td>\n",
              "      <td>Biscoe</td>\n",
              "      <td>36.5</td>\n",
              "      <td>16.6</td>\n",
              "      <td>181.0</td>\n",
              "      <td>2850.0</td>\n",
              "      <td>Female</td>\n",
              "    </tr>\n",
              "    <tr>\n",
              "      <th>64</th>\n",
              "      <td>Adelie</td>\n",
              "      <td>Biscoe</td>\n",
              "      <td>36.4</td>\n",
              "      <td>17.1</td>\n",
              "      <td>184.0</td>\n",
              "      <td>2850.0</td>\n",
              "      <td>Female</td>\n",
              "    </tr>\n",
              "    <tr>\n",
              "      <th>54</th>\n",
              "      <td>Adelie</td>\n",
              "      <td>Biscoe</td>\n",
              "      <td>34.5</td>\n",
              "      <td>18.1</td>\n",
              "      <td>187.0</td>\n",
              "      <td>2900.0</td>\n",
              "      <td>Female</td>\n",
              "    </tr>\n",
              "    <tr>\n",
              "      <th>98</th>\n",
              "      <td>Adelie</td>\n",
              "      <td>Dream</td>\n",
              "      <td>33.1</td>\n",
              "      <td>16.1</td>\n",
              "      <td>178.0</td>\n",
              "      <td>2900.0</td>\n",
              "      <td>Female</td>\n",
              "    </tr>\n",
              "    <tr>\n",
              "      <th>116</th>\n",
              "      <td>Adelie</td>\n",
              "      <td>Torgersen</td>\n",
              "      <td>38.6</td>\n",
              "      <td>17.0</td>\n",
              "      <td>188.0</td>\n",
              "      <td>2900.0</td>\n",
              "      <td>Female</td>\n",
              "    </tr>\n",
              "  </tbody>\n",
              "</table>\n",
              "</div>"
            ],
            "text/plain": [
              "    species     island  bill_length_mm  bill_depth_mm  flipper_length_mm  \\\n",
              "58   Adelie     Biscoe            36.5           16.6              181.0   \n",
              "64   Adelie     Biscoe            36.4           17.1              184.0   \n",
              "54   Adelie     Biscoe            34.5           18.1              187.0   \n",
              "98   Adelie      Dream            33.1           16.1              178.0   \n",
              "116  Adelie  Torgersen            38.6           17.0              188.0   \n",
              "\n",
              "     body_mass_g     sex  \n",
              "58        2850.0  Female  \n",
              "64        2850.0  Female  \n",
              "54        2900.0  Female  \n",
              "98        2900.0  Female  \n",
              "116       2900.0  Female  "
            ]
          },
          "execution_count": 22,
          "metadata": {},
          "output_type": "execute_result"
        }
      ],
      "source": [
        "df_7 = df_penguins.sort_values(by=[\"species\", \"body_mass_g\"])\n",
        "df_7.head()"
      ]
    },
    {
      "cell_type": "markdown",
      "metadata": {
        "id": "bRR0ove1aLBL"
      },
      "source": [
        "The following three questions depend on the taxis dataset.\n"
      ]
    },
    {
      "cell_type": "code",
      "execution_count": 23,
      "metadata": {
        "id": "UXIN5IwbUtOd"
      },
      "outputs": [
        {
          "data": {
            "text/html": [
              "<div>\n",
              "<style scoped>\n",
              "    .dataframe tbody tr th:only-of-type {\n",
              "        vertical-align: middle;\n",
              "    }\n",
              "\n",
              "    .dataframe tbody tr th {\n",
              "        vertical-align: top;\n",
              "    }\n",
              "\n",
              "    .dataframe thead th {\n",
              "        text-align: right;\n",
              "    }\n",
              "</style>\n",
              "<table border=\"1\" class=\"dataframe\">\n",
              "  <thead>\n",
              "    <tr style=\"text-align: right;\">\n",
              "      <th></th>\n",
              "      <th>pickup</th>\n",
              "      <th>dropoff</th>\n",
              "      <th>passengers</th>\n",
              "      <th>distance</th>\n",
              "      <th>fare</th>\n",
              "      <th>tip</th>\n",
              "      <th>tolls</th>\n",
              "      <th>total</th>\n",
              "      <th>color</th>\n",
              "      <th>payment</th>\n",
              "      <th>pickup_zone</th>\n",
              "      <th>dropoff_zone</th>\n",
              "      <th>pickup_borough</th>\n",
              "      <th>dropoff_borough</th>\n",
              "    </tr>\n",
              "  </thead>\n",
              "  <tbody>\n",
              "    <tr>\n",
              "      <th>0</th>\n",
              "      <td>2019-03-23 20:21:09</td>\n",
              "      <td>2019-03-23 20:27:24</td>\n",
              "      <td>1</td>\n",
              "      <td>1.60</td>\n",
              "      <td>7.0</td>\n",
              "      <td>2.15</td>\n",
              "      <td>0.0</td>\n",
              "      <td>12.95</td>\n",
              "      <td>yellow</td>\n",
              "      <td>credit card</td>\n",
              "      <td>Lenox Hill West</td>\n",
              "      <td>UN/Turtle Bay South</td>\n",
              "      <td>Manhattan</td>\n",
              "      <td>Manhattan</td>\n",
              "    </tr>\n",
              "    <tr>\n",
              "      <th>1</th>\n",
              "      <td>2019-03-04 16:11:55</td>\n",
              "      <td>2019-03-04 16:19:00</td>\n",
              "      <td>1</td>\n",
              "      <td>0.79</td>\n",
              "      <td>5.0</td>\n",
              "      <td>0.00</td>\n",
              "      <td>0.0</td>\n",
              "      <td>9.30</td>\n",
              "      <td>yellow</td>\n",
              "      <td>cash</td>\n",
              "      <td>Upper West Side South</td>\n",
              "      <td>Upper West Side South</td>\n",
              "      <td>Manhattan</td>\n",
              "      <td>Manhattan</td>\n",
              "    </tr>\n",
              "    <tr>\n",
              "      <th>2</th>\n",
              "      <td>2019-03-27 17:53:01</td>\n",
              "      <td>2019-03-27 18:00:25</td>\n",
              "      <td>1</td>\n",
              "      <td>1.37</td>\n",
              "      <td>7.5</td>\n",
              "      <td>2.36</td>\n",
              "      <td>0.0</td>\n",
              "      <td>14.16</td>\n",
              "      <td>yellow</td>\n",
              "      <td>credit card</td>\n",
              "      <td>Alphabet City</td>\n",
              "      <td>West Village</td>\n",
              "      <td>Manhattan</td>\n",
              "      <td>Manhattan</td>\n",
              "    </tr>\n",
              "    <tr>\n",
              "      <th>3</th>\n",
              "      <td>2019-03-10 01:23:59</td>\n",
              "      <td>2019-03-10 01:49:51</td>\n",
              "      <td>1</td>\n",
              "      <td>7.70</td>\n",
              "      <td>27.0</td>\n",
              "      <td>6.15</td>\n",
              "      <td>0.0</td>\n",
              "      <td>36.95</td>\n",
              "      <td>yellow</td>\n",
              "      <td>credit card</td>\n",
              "      <td>Hudson Sq</td>\n",
              "      <td>Yorkville West</td>\n",
              "      <td>Manhattan</td>\n",
              "      <td>Manhattan</td>\n",
              "    </tr>\n",
              "    <tr>\n",
              "      <th>4</th>\n",
              "      <td>2019-03-30 13:27:42</td>\n",
              "      <td>2019-03-30 13:37:14</td>\n",
              "      <td>3</td>\n",
              "      <td>2.16</td>\n",
              "      <td>9.0</td>\n",
              "      <td>1.10</td>\n",
              "      <td>0.0</td>\n",
              "      <td>13.40</td>\n",
              "      <td>yellow</td>\n",
              "      <td>credit card</td>\n",
              "      <td>Midtown East</td>\n",
              "      <td>Yorkville West</td>\n",
              "      <td>Manhattan</td>\n",
              "      <td>Manhattan</td>\n",
              "    </tr>\n",
              "  </tbody>\n",
              "</table>\n",
              "</div>"
            ],
            "text/plain": [
              "                pickup              dropoff  passengers  distance  fare   tip  \\\n",
              "0  2019-03-23 20:21:09  2019-03-23 20:27:24           1      1.60   7.0  2.15   \n",
              "1  2019-03-04 16:11:55  2019-03-04 16:19:00           1      0.79   5.0  0.00   \n",
              "2  2019-03-27 17:53:01  2019-03-27 18:00:25           1      1.37   7.5  2.36   \n",
              "3  2019-03-10 01:23:59  2019-03-10 01:49:51           1      7.70  27.0  6.15   \n",
              "4  2019-03-30 13:27:42  2019-03-30 13:37:14           3      2.16   9.0  1.10   \n",
              "\n",
              "   tolls  total   color      payment            pickup_zone  \\\n",
              "0    0.0  12.95  yellow  credit card        Lenox Hill West   \n",
              "1    0.0   9.30  yellow         cash  Upper West Side South   \n",
              "2    0.0  14.16  yellow  credit card          Alphabet City   \n",
              "3    0.0  36.95  yellow  credit card              Hudson Sq   \n",
              "4    0.0  13.40  yellow  credit card           Midtown East   \n",
              "\n",
              "            dropoff_zone pickup_borough dropoff_borough  \n",
              "0    UN/Turtle Bay South      Manhattan       Manhattan  \n",
              "1  Upper West Side South      Manhattan       Manhattan  \n",
              "2           West Village      Manhattan       Manhattan  \n",
              "3         Yorkville West      Manhattan       Manhattan  \n",
              "4         Yorkville West      Manhattan       Manhattan  "
            ]
          },
          "execution_count": 23,
          "metadata": {},
          "output_type": "execute_result"
        }
      ],
      "source": [
        "df_taxis = sb.load_dataset(\"taxis\")\n",
        "df_taxis.head()"
      ]
    },
    {
      "cell_type": "markdown",
      "metadata": {
        "id": "3oh5_pHEbrQp"
      },
      "source": [
        "8. The 'pickup' column contains the date and time the customer picked up, but it's a string. Add a column to the DataFrame, 'pickup_time', containing the value in 'pickup' as a DateTime.\n"
      ]
    },
    {
      "cell_type": "code",
      "execution_count": 24,
      "metadata": {
        "id": "coNwd-OjUtTp"
      },
      "outputs": [
        {
          "data": {
            "text/html": [
              "<div>\n",
              "<style scoped>\n",
              "    .dataframe tbody tr th:only-of-type {\n",
              "        vertical-align: middle;\n",
              "    }\n",
              "\n",
              "    .dataframe tbody tr th {\n",
              "        vertical-align: top;\n",
              "    }\n",
              "\n",
              "    .dataframe thead th {\n",
              "        text-align: right;\n",
              "    }\n",
              "</style>\n",
              "<table border=\"1\" class=\"dataframe\">\n",
              "  <thead>\n",
              "    <tr style=\"text-align: right;\">\n",
              "      <th></th>\n",
              "      <th>pickup</th>\n",
              "      <th>dropoff</th>\n",
              "      <th>passengers</th>\n",
              "      <th>distance</th>\n",
              "      <th>fare</th>\n",
              "      <th>tip</th>\n",
              "      <th>tolls</th>\n",
              "      <th>total</th>\n",
              "      <th>color</th>\n",
              "      <th>payment</th>\n",
              "      <th>pickup_zone</th>\n",
              "      <th>dropoff_zone</th>\n",
              "      <th>pickup_borough</th>\n",
              "      <th>dropoff_borough</th>\n",
              "      <th>pickup_time</th>\n",
              "    </tr>\n",
              "  </thead>\n",
              "  <tbody>\n",
              "    <tr>\n",
              "      <th>0</th>\n",
              "      <td>2019-03-23 20:21:09</td>\n",
              "      <td>2019-03-23 20:27:24</td>\n",
              "      <td>1</td>\n",
              "      <td>1.60</td>\n",
              "      <td>7.0</td>\n",
              "      <td>2.15</td>\n",
              "      <td>0.0</td>\n",
              "      <td>12.95</td>\n",
              "      <td>yellow</td>\n",
              "      <td>credit card</td>\n",
              "      <td>Lenox Hill West</td>\n",
              "      <td>UN/Turtle Bay South</td>\n",
              "      <td>Manhattan</td>\n",
              "      <td>Manhattan</td>\n",
              "      <td>2019-03-23 20:21:09</td>\n",
              "    </tr>\n",
              "    <tr>\n",
              "      <th>1</th>\n",
              "      <td>2019-03-04 16:11:55</td>\n",
              "      <td>2019-03-04 16:19:00</td>\n",
              "      <td>1</td>\n",
              "      <td>0.79</td>\n",
              "      <td>5.0</td>\n",
              "      <td>0.00</td>\n",
              "      <td>0.0</td>\n",
              "      <td>9.30</td>\n",
              "      <td>yellow</td>\n",
              "      <td>cash</td>\n",
              "      <td>Upper West Side South</td>\n",
              "      <td>Upper West Side South</td>\n",
              "      <td>Manhattan</td>\n",
              "      <td>Manhattan</td>\n",
              "      <td>2019-03-04 16:11:55</td>\n",
              "    </tr>\n",
              "    <tr>\n",
              "      <th>2</th>\n",
              "      <td>2019-03-27 17:53:01</td>\n",
              "      <td>2019-03-27 18:00:25</td>\n",
              "      <td>1</td>\n",
              "      <td>1.37</td>\n",
              "      <td>7.5</td>\n",
              "      <td>2.36</td>\n",
              "      <td>0.0</td>\n",
              "      <td>14.16</td>\n",
              "      <td>yellow</td>\n",
              "      <td>credit card</td>\n",
              "      <td>Alphabet City</td>\n",
              "      <td>West Village</td>\n",
              "      <td>Manhattan</td>\n",
              "      <td>Manhattan</td>\n",
              "      <td>2019-03-27 17:53:01</td>\n",
              "    </tr>\n",
              "    <tr>\n",
              "      <th>3</th>\n",
              "      <td>2019-03-10 01:23:59</td>\n",
              "      <td>2019-03-10 01:49:51</td>\n",
              "      <td>1</td>\n",
              "      <td>7.70</td>\n",
              "      <td>27.0</td>\n",
              "      <td>6.15</td>\n",
              "      <td>0.0</td>\n",
              "      <td>36.95</td>\n",
              "      <td>yellow</td>\n",
              "      <td>credit card</td>\n",
              "      <td>Hudson Sq</td>\n",
              "      <td>Yorkville West</td>\n",
              "      <td>Manhattan</td>\n",
              "      <td>Manhattan</td>\n",
              "      <td>2019-03-10 01:23:59</td>\n",
              "    </tr>\n",
              "    <tr>\n",
              "      <th>4</th>\n",
              "      <td>2019-03-30 13:27:42</td>\n",
              "      <td>2019-03-30 13:37:14</td>\n",
              "      <td>3</td>\n",
              "      <td>2.16</td>\n",
              "      <td>9.0</td>\n",
              "      <td>1.10</td>\n",
              "      <td>0.0</td>\n",
              "      <td>13.40</td>\n",
              "      <td>yellow</td>\n",
              "      <td>credit card</td>\n",
              "      <td>Midtown East</td>\n",
              "      <td>Yorkville West</td>\n",
              "      <td>Manhattan</td>\n",
              "      <td>Manhattan</td>\n",
              "      <td>2019-03-30 13:27:42</td>\n",
              "    </tr>\n",
              "  </tbody>\n",
              "</table>\n",
              "</div>"
            ],
            "text/plain": [
              "                pickup              dropoff  passengers  distance  fare   tip  \\\n",
              "0  2019-03-23 20:21:09  2019-03-23 20:27:24           1      1.60   7.0  2.15   \n",
              "1  2019-03-04 16:11:55  2019-03-04 16:19:00           1      0.79   5.0  0.00   \n",
              "2  2019-03-27 17:53:01  2019-03-27 18:00:25           1      1.37   7.5  2.36   \n",
              "3  2019-03-10 01:23:59  2019-03-10 01:49:51           1      7.70  27.0  6.15   \n",
              "4  2019-03-30 13:27:42  2019-03-30 13:37:14           3      2.16   9.0  1.10   \n",
              "\n",
              "   tolls  total   color      payment            pickup_zone  \\\n",
              "0    0.0  12.95  yellow  credit card        Lenox Hill West   \n",
              "1    0.0   9.30  yellow         cash  Upper West Side South   \n",
              "2    0.0  14.16  yellow  credit card          Alphabet City   \n",
              "3    0.0  36.95  yellow  credit card              Hudson Sq   \n",
              "4    0.0  13.40  yellow  credit card           Midtown East   \n",
              "\n",
              "            dropoff_zone pickup_borough dropoff_borough         pickup_time  \n",
              "0    UN/Turtle Bay South      Manhattan       Manhattan 2019-03-23 20:21:09  \n",
              "1  Upper West Side South      Manhattan       Manhattan 2019-03-04 16:11:55  \n",
              "2           West Village      Manhattan       Manhattan 2019-03-27 17:53:01  \n",
              "3         Yorkville West      Manhattan       Manhattan 2019-03-10 01:23:59  \n",
              "4         Yorkville West      Manhattan       Manhattan 2019-03-30 13:27:42  "
            ]
          },
          "execution_count": 24,
          "metadata": {},
          "output_type": "execute_result"
        }
      ],
      "source": [
        "df_8 = df_taxis.copy()\n",
        "df_8[\"pickup_time\"] = pd.to_datetime(df_8[\"pickup\"])\n",
        "df_8.head()"
      ]
    },
    {
      "cell_type": "markdown",
      "metadata": {
        "id": "f7rfz-d2cSRe"
      },
      "source": [
        "9. Create a subset of the dataframe to create a new DataFrame, taxis_one_day. This new DataFrame should have pickup_time values between '2019-03-23 00:06:00' (inclusive) and '2019-03-24 00:00:00' (exlusive).\n"
      ]
    },
    {
      "cell_type": "code",
      "execution_count": 25,
      "metadata": {
        "id": "AfcUTYPVbjAK"
      },
      "outputs": [
        {
          "data": {
            "text/html": [
              "<div>\n",
              "<style scoped>\n",
              "    .dataframe tbody tr th:only-of-type {\n",
              "        vertical-align: middle;\n",
              "    }\n",
              "\n",
              "    .dataframe tbody tr th {\n",
              "        vertical-align: top;\n",
              "    }\n",
              "\n",
              "    .dataframe thead th {\n",
              "        text-align: right;\n",
              "    }\n",
              "</style>\n",
              "<table border=\"1\" class=\"dataframe\">\n",
              "  <thead>\n",
              "    <tr style=\"text-align: right;\">\n",
              "      <th></th>\n",
              "      <th>pickup</th>\n",
              "      <th>dropoff</th>\n",
              "      <th>passengers</th>\n",
              "      <th>distance</th>\n",
              "      <th>fare</th>\n",
              "      <th>tip</th>\n",
              "      <th>tolls</th>\n",
              "      <th>total</th>\n",
              "      <th>color</th>\n",
              "      <th>payment</th>\n",
              "      <th>pickup_zone</th>\n",
              "      <th>dropoff_zone</th>\n",
              "      <th>pickup_borough</th>\n",
              "      <th>dropoff_borough</th>\n",
              "      <th>pickup_time</th>\n",
              "    </tr>\n",
              "  </thead>\n",
              "  <tbody>\n",
              "    <tr>\n",
              "      <th>6047</th>\n",
              "      <td>2019-03-23 00:07:14</td>\n",
              "      <td>2019-03-23 00:12:16</td>\n",
              "      <td>1</td>\n",
              "      <td>1.03</td>\n",
              "      <td>6.0</td>\n",
              "      <td>0.00</td>\n",
              "      <td>0.0</td>\n",
              "      <td>7.30</td>\n",
              "      <td>green</td>\n",
              "      <td>cash</td>\n",
              "      <td>Central Harlem</td>\n",
              "      <td>Central Harlem North</td>\n",
              "      <td>Manhattan</td>\n",
              "      <td>Manhattan</td>\n",
              "      <td>2019-03-23 00:07:14</td>\n",
              "    </tr>\n",
              "    <tr>\n",
              "      <th>2600</th>\n",
              "      <td>2019-03-23 00:08:00</td>\n",
              "      <td>2019-03-23 00:12:52</td>\n",
              "      <td>1</td>\n",
              "      <td>0.92</td>\n",
              "      <td>5.5</td>\n",
              "      <td>0.00</td>\n",
              "      <td>0.0</td>\n",
              "      <td>9.30</td>\n",
              "      <td>yellow</td>\n",
              "      <td>cash</td>\n",
              "      <td>Greenwich Village North</td>\n",
              "      <td>East Village</td>\n",
              "      <td>Manhattan</td>\n",
              "      <td>Manhattan</td>\n",
              "      <td>2019-03-23 00:08:00</td>\n",
              "    </tr>\n",
              "    <tr>\n",
              "      <th>905</th>\n",
              "      <td>2019-03-23 00:19:20</td>\n",
              "      <td>2019-03-23 00:26:11</td>\n",
              "      <td>1</td>\n",
              "      <td>1.00</td>\n",
              "      <td>6.5</td>\n",
              "      <td>1.50</td>\n",
              "      <td>0.0</td>\n",
              "      <td>11.80</td>\n",
              "      <td>yellow</td>\n",
              "      <td>credit card</td>\n",
              "      <td>Midtown South</td>\n",
              "      <td>Midtown East</td>\n",
              "      <td>Manhattan</td>\n",
              "      <td>Manhattan</td>\n",
              "      <td>2019-03-23 00:19:20</td>\n",
              "    </tr>\n",
              "    <tr>\n",
              "      <th>3743</th>\n",
              "      <td>2019-03-23 00:22:39</td>\n",
              "      <td>2019-03-23 00:33:18</td>\n",
              "      <td>1</td>\n",
              "      <td>1.37</td>\n",
              "      <td>8.5</td>\n",
              "      <td>2.46</td>\n",
              "      <td>0.0</td>\n",
              "      <td>14.76</td>\n",
              "      <td>yellow</td>\n",
              "      <td>credit card</td>\n",
              "      <td>Financial District North</td>\n",
              "      <td>Little Italy/NoLiTa</td>\n",
              "      <td>Manhattan</td>\n",
              "      <td>Manhattan</td>\n",
              "      <td>2019-03-23 00:22:39</td>\n",
              "    </tr>\n",
              "    <tr>\n",
              "      <th>2117</th>\n",
              "      <td>2019-03-23 00:24:03</td>\n",
              "      <td>2019-03-23 00:31:55</td>\n",
              "      <td>1</td>\n",
              "      <td>1.01</td>\n",
              "      <td>7.0</td>\n",
              "      <td>0.00</td>\n",
              "      <td>0.0</td>\n",
              "      <td>10.80</td>\n",
              "      <td>yellow</td>\n",
              "      <td>cash</td>\n",
              "      <td>Murray Hill</td>\n",
              "      <td>Garment District</td>\n",
              "      <td>Manhattan</td>\n",
              "      <td>Manhattan</td>\n",
              "      <td>2019-03-23 00:24:03</td>\n",
              "    </tr>\n",
              "  </tbody>\n",
              "</table>\n",
              "</div>"
            ],
            "text/plain": [
              "                   pickup              dropoff  passengers  distance  fare  \\\n",
              "6047  2019-03-23 00:07:14  2019-03-23 00:12:16           1      1.03   6.0   \n",
              "2600  2019-03-23 00:08:00  2019-03-23 00:12:52           1      0.92   5.5   \n",
              "905   2019-03-23 00:19:20  2019-03-23 00:26:11           1      1.00   6.5   \n",
              "3743  2019-03-23 00:22:39  2019-03-23 00:33:18           1      1.37   8.5   \n",
              "2117  2019-03-23 00:24:03  2019-03-23 00:31:55           1      1.01   7.0   \n",
              "\n",
              "       tip  tolls  total   color      payment               pickup_zone  \\\n",
              "6047  0.00    0.0   7.30   green         cash            Central Harlem   \n",
              "2600  0.00    0.0   9.30  yellow         cash   Greenwich Village North   \n",
              "905   1.50    0.0  11.80  yellow  credit card             Midtown South   \n",
              "3743  2.46    0.0  14.76  yellow  credit card  Financial District North   \n",
              "2117  0.00    0.0  10.80  yellow         cash               Murray Hill   \n",
              "\n",
              "              dropoff_zone pickup_borough dropoff_borough         pickup_time  \n",
              "6047  Central Harlem North      Manhattan       Manhattan 2019-03-23 00:07:14  \n",
              "2600          East Village      Manhattan       Manhattan 2019-03-23 00:08:00  \n",
              "905           Midtown East      Manhattan       Manhattan 2019-03-23 00:19:20  \n",
              "3743   Little Italy/NoLiTa      Manhattan       Manhattan 2019-03-23 00:22:39  \n",
              "2117      Garment District      Manhattan       Manhattan 2019-03-23 00:24:03  "
            ]
          },
          "execution_count": 25,
          "metadata": {},
          "output_type": "execute_result"
        }
      ],
      "source": [
        "taxis_one_day = df_8[\n",
        "    (df_8[\"pickup_time\"] > \"2019-03-23 00:06:00\")\n",
        "    & (df_8[\"pickup_time\"] < \"2019-03-24 00:00:00\")\n",
        "].sort_values(by=\"pickup_time\")\n",
        "taxis_one_day.head()\n"
      ]
    },
    {
      "cell_type": "markdown",
      "metadata": {
        "id": "k9ErqDN-cf84"
      },
      "source": [
        "10. From the dataframe in Question 9, take the mean of the numeric columns, grouped at one hour intervals. Save the result as df_means, and display it.\n"
      ]
    },
    {
      "cell_type": "code",
      "execution_count": 26,
      "metadata": {
        "id": "Ul7rGs1bbjC8"
      },
      "outputs": [
        {
          "name": "stderr",
          "output_type": "stream",
          "text": [
            "c:\\Users\\yz622\\AppData\\Local\\Programs\\Python\\Python310\\lib\\site-packages\\pandas\\core\\indexing.py:1667: SettingWithCopyWarning: \n",
            "A value is trying to be set on a copy of a slice from a DataFrame.\n",
            "Try using .loc[row_indexer,col_indexer] = value instead\n",
            "\n",
            "See the caveats in the documentation: https://pandas.pydata.org/pandas-docs/stable/user_guide/indexing.html#returning-a-view-versus-a-copy\n",
            "  self.obj[key] = value\n"
          ]
        },
        {
          "data": {
            "text/html": [
              "<div>\n",
              "<style scoped>\n",
              "    .dataframe tbody tr th:only-of-type {\n",
              "        vertical-align: middle;\n",
              "    }\n",
              "\n",
              "    .dataframe tbody tr th {\n",
              "        vertical-align: top;\n",
              "    }\n",
              "\n",
              "    .dataframe thead th {\n",
              "        text-align: right;\n",
              "    }\n",
              "</style>\n",
              "<table border=\"1\" class=\"dataframe\">\n",
              "  <thead>\n",
              "    <tr style=\"text-align: right;\">\n",
              "      <th></th>\n",
              "      <th>passengers</th>\n",
              "      <th>distance</th>\n",
              "      <th>fare</th>\n",
              "      <th>tip</th>\n",
              "      <th>tolls</th>\n",
              "      <th>total</th>\n",
              "    </tr>\n",
              "  </thead>\n",
              "  <tbody>\n",
              "    <tr>\n",
              "      <th>0</th>\n",
              "      <td>1.000000</td>\n",
              "      <td>1.911667</td>\n",
              "      <td>8.583333</td>\n",
              "      <td>1.415000</td>\n",
              "      <td>0.0</td>\n",
              "      <td>12.965000</td>\n",
              "    </tr>\n",
              "    <tr>\n",
              "      <th>1</th>\n",
              "      <td>1.250000</td>\n",
              "      <td>1.325000</td>\n",
              "      <td>7.875000</td>\n",
              "      <td>1.525000</td>\n",
              "      <td>0.0</td>\n",
              "      <td>12.575000</td>\n",
              "    </tr>\n",
              "    <tr>\n",
              "      <th>2</th>\n",
              "      <td>1.727273</td>\n",
              "      <td>1.739091</td>\n",
              "      <td>8.181818</td>\n",
              "      <td>1.641818</td>\n",
              "      <td>0.0</td>\n",
              "      <td>13.169091</td>\n",
              "    </tr>\n",
              "    <tr>\n",
              "      <th>3</th>\n",
              "      <td>1.500000</td>\n",
              "      <td>3.377500</td>\n",
              "      <td>11.750000</td>\n",
              "      <td>2.410000</td>\n",
              "      <td>0.0</td>\n",
              "      <td>17.335000</td>\n",
              "    </tr>\n",
              "    <tr>\n",
              "      <th>4</th>\n",
              "      <td>2.000000</td>\n",
              "      <td>0.950000</td>\n",
              "      <td>5.500000</td>\n",
              "      <td>0.915000</td>\n",
              "      <td>0.0</td>\n",
              "      <td>10.215000</td>\n",
              "    </tr>\n",
              "  </tbody>\n",
              "</table>\n",
              "</div>"
            ],
            "text/plain": [
              "   passengers  distance       fare       tip  tolls      total\n",
              "0    1.000000  1.911667   8.583333  1.415000    0.0  12.965000\n",
              "1    1.250000  1.325000   7.875000  1.525000    0.0  12.575000\n",
              "2    1.727273  1.739091   8.181818  1.641818    0.0  13.169091\n",
              "3    1.500000  3.377500  11.750000  2.410000    0.0  17.335000\n",
              "4    2.000000  0.950000   5.500000  0.915000    0.0  10.215000"
            ]
          },
          "execution_count": 26,
          "metadata": {},
          "output_type": "execute_result"
        }
      ],
      "source": [
        "df_9 = taxis_one_day.select_dtypes(include=np.number)\n",
        "df_9.loc[:, \"hh\"] = taxis_one_day[\"pickup_time\"].dt.hour\n",
        "df_means = df_9.groupby([\"hh\"]).mean().reset_index()\n",
        "df_means.drop([\"hh\"], axis=1, inplace=True)\n",
        "df_means.head()\n"
      ]
    },
    {
      "cell_type": "markdown",
      "metadata": {
        "id": "gGLHwogaZX0-"
      },
      "source": [
        "Check https://colab.research.google.com/github/CodeSolid/CodeSolid.github.io/blob/main/booksource/exercises/PandasExercises.ipynb for more Pandas exercises.\n"
      ]
    },
    {
      "cell_type": "code",
      "execution_count": null,
      "metadata": {
        "id": "Yag0a9H7ZbQe"
      },
      "outputs": [],
      "source": []
    }
  ],
  "metadata": {
    "colab": {
      "collapsed_sections": [],
      "name": "Week1_Exercises.ipynb",
      "provenance": []
    },
    "kernelspec": {
      "display_name": "Python 3.10.0 64-bit",
      "language": "python",
      "name": "python3"
    },
    "language_info": {
      "codemirror_mode": {
        "name": "ipython",
        "version": 3
      },
      "file_extension": ".py",
      "mimetype": "text/x-python",
      "name": "python",
      "nbconvert_exporter": "python",
      "pygments_lexer": "ipython3",
      "version": "3.10.0"
    },
    "vscode": {
      "interpreter": {
        "hash": "d61fb1c9c1f36aaf9707d2bd1787bf73f0fc295d8c0685ea10d8cbbca9077e0c"
      }
    }
  },
  "nbformat": 4,
  "nbformat_minor": 0
}
