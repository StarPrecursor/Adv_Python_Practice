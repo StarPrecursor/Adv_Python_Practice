{
 "cells": [
  {
   "cell_type": "markdown",
   "metadata": {
    "colab_type": "text",
    "id": "view-in-github"
   },
   "source": [
    "# Some words at first\n",
    "The book doesn't cover much of this topic. Many of the contents of accelerated linear algebra are actually more on the underlying architecture, such as the underlying XLA architecture of Tensorflow, and many frameworks are not that much relevant to python. (Content related to accelerated numerical linear algebra computation is more often written in faster languages such as C++.) \n",
    "\n",
    "In the process of preparing the share I investigated many resources, and this sharing is mainly to inspire interested students to continue learning related knowledge, not an exhaustive cover."
   ]
  },
  {
   "cell_type": "code",
   "execution_count": 45,
   "metadata": {
    "id": "8UuiVx9qaSs-"
   },
   "outputs": [],
   "source": [
    "import jax.numpy as jnp\n",
    "from jax import grad, vmap, jit\n",
    "import jax\n",
    "\n",
    "import numpy as np\n",
    "from sklearn.datasets import make_blobs, make_moons\n",
    "from sklearn.svm import SVC\n",
    "\n",
    "import matplotlib.pyplot as plt\n",
    "from tqdm import tqdm"
   ]
  },
  {
   "cell_type": "markdown",
   "metadata": {},
   "source": [
    "We saw performance speedup achieved with a single line of code changed using the function transformation, jit. However complicated the functions you are working with are, if they are JAX-compatible, you can simply pass them through jit to enjoy the benefits of JIT compilation.\n",
    "\n",
    "Through week 3's lecture, we have explored several powerful techniques to accelerate our machine learning pipeline: automatic differentiation, JIT compilation, etc. You can refer to week 3's notebook if you don't remember very well. :)\n",
    "\n",
    "In today's section, we will first look at another valuable feature of JAX – automatic vectorization."
   ]
  },
  {
   "cell_type": "markdown",
   "metadata": {},
   "source": [
    "# Automatic Vectorization in JAX\n",
    "\n",
    "In the previous section we discussed JIT compilation via the `jax.jit` function. This notebook discusses another of JAX's transforms: vectorization via `jax.vmap`.\n",
    "\n",
    "You might remember from our discussions on NumPy that the library is efficient at applying numerical operations to all elements in an array or the elements along specific axes. By exploiting the fact that the same operation is to be applied to multiple elements, the library optimizes low-level code that performs the operation, making the computation much more efficient than doing the same thing via an iterative loop. This process is\n",
    "called vectorization.\n",
    "\n",
    "JAX addresses this concern by providing a function transformation that automatically vectorizes a given function, even if the function is only designed to take in single-valued variables (which means traditionally, an iterative loop would be necessary). \n"
   ]
  },
  {
   "cell_type": "markdown",
   "metadata": {
    "id": "Kw-_imBrx4nN"
   },
   "source": [
    "## First Way: Manual Vectorization\n",
    "\n",
    "Consider the following simple code that computes the convolution of two one-dimensional vectors:"
   ]
  },
  {
   "cell_type": "code",
   "execution_count": 46,
   "metadata": {
    "id": "5Obro91lwE_s",
    "outputId": "061983c6-2faa-4a54-83a5-d2a823f61087"
   },
   "outputs": [
    {
     "data": {
      "text/plain": [
       "DeviceArray([11., 20., 29.], dtype=float32)"
      ]
     },
     "execution_count": 46,
     "metadata": {},
     "output_type": "execute_result"
    }
   ],
   "source": [
    "x = jnp.arange(5)\n",
    "w = jnp.array([2., 3., 4.])\n",
    "\n",
    "def convolve(x, w):\n",
    "    output = []\n",
    "    for i in range(1, len(x)-1):\n",
    "        output.append(jnp.dot(x[i-1:i+2], w))\n",
    "    return jnp.array(output)\n",
    "\n",
    "convolve(x, w)"
   ]
  },
  {
   "cell_type": "markdown",
   "metadata": {
    "id": "z_nPhEhLRysk"
   },
   "source": [
    "Suppose we would like to apply this function to a batch of weights `w` to a batch of vectors `x`."
   ]
  },
  {
   "cell_type": "code",
   "execution_count": 47,
   "metadata": {
    "id": "rHQJnnrVUbxE"
   },
   "outputs": [],
   "source": [
    "xs = jnp.stack([x, x])\n",
    "ws = jnp.stack([w, w])"
   ]
  },
  {
   "cell_type": "markdown",
   "metadata": {
    "id": "ghaJQW1aUfPi"
   },
   "source": [
    "The most naive option would be to simply loop over the batch in Python:"
   ]
  },
  {
   "cell_type": "code",
   "execution_count": 48,
   "metadata": {
    "id": "yM-IycdlzGyJ",
    "outputId": "07ed6ffc-0265-45ef-d585-4b5fa7d221f1",
    "scrolled": true
   },
   "outputs": [
    {
     "data": {
      "text/plain": [
       "DeviceArray([[11., 20., 29.],\n",
       "             [11., 20., 29.]], dtype=float32)"
      ]
     },
     "execution_count": 48,
     "metadata": {},
     "output_type": "execute_result"
    }
   ],
   "source": [
    "def manually_batched_convolve(xs, ws):\n",
    "    output = []\n",
    "    for i in range(xs.shape[0]):\n",
    "        output.append(convolve(xs[i], ws[i]))\n",
    "    return jnp.stack(output)\n",
    "\n",
    "manually_batched_convolve(xs, ws)"
   ]
  },
  {
   "cell_type": "markdown",
   "metadata": {
    "id": "VTh0l_1SUlh4"
   },
   "source": [
    "This produces the correct result, however it is not very efficient.\n",
    "\n",
    "In order to batch the computation efficiently, you would normally have to rewrite the function manually to ensure it is done in vectorized form. This is not particularly difficult to implement, but does involve changing how the function treats indices, axes, and other parts of the input.\n",
    "\n",
    "For example, we could manually rewrite `convolve()` to support vectorized computation across the batch dimension as follows:"
   ]
  },
  {
   "cell_type": "code",
   "execution_count": 49,
   "metadata": {
    "id": "I4Wd9nrcTRRL",
    "outputId": "0b037b43-7b41-4625-f9e0-a6e0dbc4c65a"
   },
   "outputs": [
    {
     "data": {
      "text/plain": [
       "DeviceArray([[11., 20., 29.],\n",
       "             [11., 20., 29.]], dtype=float32)"
      ]
     },
     "execution_count": 49,
     "metadata": {},
     "output_type": "execute_result"
    }
   ],
   "source": [
    "def manually_vectorized_convolve(xs, ws):\n",
    "    output = []\n",
    "    for i in range(1, xs.shape[-1] -1):\n",
    "        output.append(jnp.sum(xs[:, i-1:i+2] * ws, axis=1))\n",
    "    return jnp.stack(output, axis=1)\n",
    "\n",
    "manually_vectorized_convolve(xs, ws)"
   ]
  },
  {
   "cell_type": "markdown",
   "metadata": {
    "id": "DW-RJ2Zs2QVu"
   },
   "source": [
    "Such re-implementation is messy and error-prone; fortunately JAX provides another way."
   ]
  },
  {
   "cell_type": "markdown",
   "metadata": {
    "id": "2oVLanQmUAo_"
   },
   "source": [
    "## In JAX: Automatic Vectorization\n",
    "\n",
    "In JAX, the `jax.vmap` transformation is designed to generate such a vectorized implementation of a function automatically:"
   ]
  },
  {
   "cell_type": "code",
   "execution_count": 50,
   "metadata": {
    "id": "Brl-BoTqSQDw",
    "outputId": "af608dbb-27f2-4fbc-f225-79f3101b13ff"
   },
   "outputs": [
    {
     "data": {
      "text/plain": [
       "DeviceArray([[11., 20., 29.],\n",
       "             [11., 20., 29.]], dtype=float32)"
      ]
     },
     "execution_count": 50,
     "metadata": {},
     "output_type": "execute_result"
    }
   ],
   "source": [
    "auto_batch_convolve = jax.vmap(convolve)\n",
    "\n",
    "auto_batch_convolve(xs, ws)"
   ]
  },
  {
   "cell_type": "markdown",
   "metadata": {
    "id": "7aVAy7332lFj"
   },
   "source": [
    "It does this by tracing the function similarly to `jax.jit`, and automatically adding batch axes at the beginning of each input.\n",
    "\n",
    "If the batch dimension is not the first, you may use the `in_axes` and `out_axes` arguments to specify the location of the batch dimension in inputs and outputs. These may be an integer if the batch axis is the same for all inputs and outputs, or lists, otherwise."
   ]
  },
  {
   "cell_type": "code",
   "execution_count": 51,
   "metadata": {
    "id": "_VEEm1CGT2n0",
    "outputId": "751e0fbf-bdfb-41df-9436-4da5de23123f"
   },
   "outputs": [
    {
     "data": {
      "text/plain": [
       "DeviceArray([[11., 11.],\n",
       "             [20., 20.],\n",
       "             [29., 29.]], dtype=float32)"
      ]
     },
     "execution_count": 51,
     "metadata": {},
     "output_type": "execute_result"
    }
   ],
   "source": [
    "auto_batch_convolve_v2 = jax.vmap(convolve, in_axes=1, out_axes=1)\n",
    "\n",
    "xst = jnp.transpose(xs)\n",
    "wst = jnp.transpose(ws)\n",
    "\n",
    "auto_batch_convolve_v2(xst, wst)"
   ]
  },
  {
   "cell_type": "markdown",
   "metadata": {
    "id": "-gNiLuxzSX32"
   },
   "source": [
    "`jax.vmap` also supports the case where only one of the arguments is batched: for example, if you would like to convolve to a single set of weights `w` with a batch of vectors `x`; in this case the `in_axes` argument can be set to `None`:"
   ]
  },
  {
   "cell_type": "code",
   "execution_count": 52,
   "metadata": {
    "id": "2s2YDsamSxki",
    "outputId": "5c70879b-5cce-4549-e38a-f45dbe663ab2",
    "scrolled": true
   },
   "outputs": [
    {
     "data": {
      "text/plain": [
       "DeviceArray([[11., 20., 29.],\n",
       "             [11., 20., 29.]], dtype=float32)"
      ]
     },
     "execution_count": 52,
     "metadata": {},
     "output_type": "execute_result"
    }
   ],
   "source": [
    "batch_convolve_v3 = jax.vmap(convolve, in_axes=[0, None])\n",
    "\n",
    "batch_convolve_v3(xs, w)"
   ]
  },
  {
   "cell_type": "markdown",
   "metadata": {
    "id": "bsxT4hA6RTCG"
   },
   "source": [
    "## Combining transformations\n",
    "\n",
    "As with all JAX transformations, `jax.jit` and `jax.vmap` are designed to be composable, which means you can wrap a vmapped function with `jit`, or a JITted function with `vmap`, and everything will work correctly:"
   ]
  },
  {
   "cell_type": "code",
   "execution_count": 53,
   "metadata": {
    "id": "gsC-Myg0RVdj",
    "outputId": "cbdd384e-6633-4cea-b1a0-a01ad934a768",
    "scrolled": true
   },
   "outputs": [
    {
     "data": {
      "text/plain": [
       "DeviceArray([[11., 20., 29.],\n",
       "             [11., 20., 29.]], dtype=float32)"
      ]
     },
     "execution_count": 53,
     "metadata": {},
     "output_type": "execute_result"
    }
   ],
   "source": [
    "jitted_batch_convolve = jax.jit(auto_batch_convolve)\n",
    "\n",
    "jitted_batch_convolve(xs, ws)"
   ]
  },
  {
   "cell_type": "markdown",
   "metadata": {},
   "source": [
    "# Automatic vectorization for efficient kernels\n",
    "\n",
    "In this section, we will see how to use automatic vectorization by going through the process of kernelizing our predictive model."
   ]
  },
  {
   "cell_type": "markdown",
   "metadata": {},
   "source": [
    "# Data that is not linearly separable\n",
    "Remember that the predictive model we previously assumed in week 3 that the target we'd like to predict for can be expressed as a linear combination of the data features; the model is thus a linear one. This assumption is quite restrictive in practice, as data can present highly nonlinear and still meaningful patterns. You can refer to the make_blobs function described in week 3's notes.\n",
    "\n",
    "To generate another toy dataset and visualize it, here we use the make_moons function from the same datasets module of scikit-learn."
   ]
  },
  {
   "cell_type": "markdown",
   "metadata": {
    "id": "wfR1RyW8WMiR"
   },
   "source": [
    "# Non-linearly separable data"
   ]
  },
  {
   "cell_type": "code",
   "execution_count": 54,
   "metadata": {
    "colab": {
     "base_uri": "https://localhost:8080/",
     "height": 269
    },
    "id": "ZERIsNTJRIhn",
    "outputId": "5dc274ce-12cb-49b0-c9b7-cebd059fe540"
   },
   "outputs": [
    {
     "data": {
      "image/png": "[encoded data removed]",
      "text/plain": [
       "<Figure size 432x288 with 1 Axes>"
      ]
     },
     "metadata": {
      "needs_background": "light"
     },
     "output_type": "display_data"
    }
   ],
   "source": [
    "X, y = make_moons(n_samples=200, noise=0.1, random_state=0)\n",
    "X = np.hstack((X, np.ones_like(y).reshape(-1, 1)))\n",
    "y[y == 0] = -1\n",
    "\n",
    "plt.scatter(X[:, 0], X[:, 1], c=y);"
   ]
  },
  {
   "cell_type": "markdown",
   "metadata": {},
   "source": [
    "Once again, this is a binary classification problem where we need to distinguish between the yellow and the dark blue points. "
   ]
  },
  {
   "cell_type": "markdown",
   "metadata": {},
   "source": [
    "# The kernel method in machine learning\n",
    "Without going into much technical detail, the kernel method (sometimes referred to as the kernel trick) refers to the process of transforming a low-dimensional dataset, such as ours, that is nonlinear to higher dimensions, with the hope that in higher dimensions, linear hyperplanes that separate the data will exist.\n",
    "\n",
    "To take a data point to higher dimensions, additional features are created from the features already included in the original data. For instance, polynomials that are up to degree 2 for features x and y include xy and x^2.\n",
    "\n",
    "We will then fit our predictive model on additional features. While the predictive model remains in the same form as linear regression, the data features that the model learns from are nonlinear, so the resulting decision boundary will also be nonlinear."
   ]
  },
  {
   "cell_type": "markdown",
   "metadata": {
    "id": "AUNcp79HcGhj"
   },
   "source": [
    "# Kernelized SVM"
   ]
  },
  {
   "cell_type": "code",
   "execution_count": 55,
   "metadata": {
    "id": "bUEVaIKuaa5C"
   },
   "outputs": [],
   "source": [
    "def linear_kernel(x, z):\n",
    "    return jnp.dot(x, z)\n",
    "\n",
    "lengthscale = 0.3\n",
    "\n",
    "# the radial basis function, or RBF kernel, which is defined as follows:\n",
    "# K(x, x') = exp(−(x-x')^2 / l)\n",
    "def rbf_kernel(x, z):\n",
    "    return jnp.exp(- jnp.linalg.norm(x - z) ** 2 / lengthscale)\n",
    "\n",
    "def predict(alphas, X_test):\n",
    "    return jnp.dot(vec_kernel(X, X_test), alphas)\n",
    "\n",
    "def loss(alphas):\n",
    "    preds = predict(alphas, X)\n",
    "    return jnp.mean(jnp.clip(1 - jnp.multiply(y, preds), a_min=0))"
   ]
  },
  {
   "cell_type": "code",
   "execution_count": 63,
   "metadata": {
    "id": "9e5rwTczR4YU"
   },
   "outputs": [],
   "source": [
    "kernel = rbf_kernel\n",
    "# Here we get the vectorized form of our kernel function along the first axis (remember the kernel has two inputs) \n",
    "# with vmap(kernel, (0, None), and then vectorizing that kernel along the second axis with: vmap(vmap(kernel, (0, None)), (None, 0)). \n",
    "# Finally, we derive the JIT-compiled version of the function with jit.\n",
    "vec_kernel = jit(vmap(vmap(kernel, (0, None)), (None, 0)))  # just like before \n",
    "\n",
    "np.random.seed(0)\n",
    "alphas = np.random.randn(y.size)"
   ]
  },
  {
   "cell_type": "code",
   "execution_count": 57,
   "metadata": {
    "colab": {
     "base_uri": "https://localhost:8080/"
    },
    "id": "7WjGm-v3R8_Z",
    "outputId": "bd85078d-32d2-4ce5-9fdd-340605f7ca48",
    "scrolled": true
   },
   "outputs": [
    {
     "name": "stderr",
     "output_type": "stream",
     "text": [
      "\n",
      "  0%|                                                | 0/200 [22:33:13<?, ?it/s]\u001b[A\n",
      "\n",
      "  0%|                                   | 0/200 [00:00<?, ?it/s, loss=1.3737961]\u001b[A\n",
      "  0%|▏                          | 1/200 [00:00<00:16, 11.84it/s, loss=1.3599495]\u001b[A\n",
      "  1%|▎                          | 2/200 [00:00<00:08, 23.24it/s, loss=1.3461032]\u001b[A\n",
      "  2%|▍                          | 3/200 [00:00<00:05, 34.32it/s, loss=1.3322569]\u001b[A\n",
      "  2%|▌                          | 4/200 [00:00<00:04, 45.05it/s, loss=1.3184105]\u001b[A\n",
      "  2%|▋                          | 5/200 [00:00<00:03, 55.73it/s, loss=1.3045639]\u001b[A\n",
      "  3%|▊                          | 6/200 [00:00<00:02, 66.08it/s, loss=1.2907175]\u001b[A\n",
      "  4%|▉                          | 7/200 [00:00<00:02, 76.20it/s, loss=1.2768712]\u001b[A\n",
      "  4%|█                          | 8/200 [00:00<00:02, 85.93it/s, loss=1.2630248]\u001b[A\n",
      "  4%|█▏                         | 9/200 [00:00<00:01, 95.56it/s, loss=1.2491784]\u001b[A\n",
      "  5%|█▎                       | 10/200 [00:00<00:01, 105.20it/s, loss=1.2353319]\u001b[A\n",
      "  6%|█▍                       | 11/200 [00:00<00:01, 114.29it/s, loss=1.2214856]\u001b[A\n",
      "  6%|█▌                       | 12/200 [00:00<00:01, 122.91it/s, loss=1.2076626]\u001b[A\n",
      "  6%|█▋                       | 13/200 [00:00<00:01, 131.46it/s, loss=1.1939489]\u001b[A\n",
      "  7%|█▊                       | 14/200 [00:00<00:01, 139.69it/s, loss=1.1802351]\u001b[A\n",
      "  8%|█▉                       | 15/200 [00:00<00:01, 149.06it/s, loss=1.1802351]\u001b[A\n",
      "  8%|█▉                       | 15/200 [00:00<00:01, 149.06it/s, loss=1.1665214]\u001b[A\n",
      "  8%|██                       | 16/200 [00:00<00:01, 149.06it/s, loss=1.1528077]\u001b[A\n",
      "  8%|██▏                       | 17/200 [00:00<00:01, 149.06it/s, loss=1.139094]\u001b[A\n",
      "  9%|██▎                      | 18/200 [00:00<00:01, 149.06it/s, loss=1.1254832]\u001b[A\n",
      " 10%|██▍                      | 19/200 [00:00<00:01, 149.06it/s, loss=1.1120356]\u001b[A\n",
      " 10%|██▌                      | 20/200 [00:00<00:01, 149.06it/s, loss=1.0985879]\u001b[A\n",
      " 10%|██▋                      | 21/200 [00:00<00:01, 149.06it/s, loss=1.0851604]\u001b[A\n",
      " 11%|██▊                      | 22/200 [00:00<00:01, 149.06it/s, loss=1.0718048]\u001b[A\n",
      " 12%|██▉                      | 23/200 [00:00<00:01, 149.06it/s, loss=1.0585468]\u001b[A\n",
      " 12%|███                      | 24/200 [00:00<00:01, 149.06it/s, loss=1.0454384]\u001b[A\n",
      " 12%|███▏                     | 25/200 [00:00<00:01, 149.06it/s, loss=1.0323371]\u001b[A\n",
      " 13%|███▎                     | 26/200 [00:00<00:01, 149.06it/s, loss=1.0192736]\u001b[A\n",
      " 14%|███▍                     | 27/200 [00:00<00:01, 149.06it/s, loss=1.0063449]\u001b[A\n",
      " 14%|███▎                    | 28/200 [00:00<00:01, 149.06it/s, loss=0.99341637]\u001b[A\n",
      " 14%|███▍                    | 29/200 [00:00<00:01, 149.06it/s, loss=0.98048764]\u001b[A\n",
      " 15%|███▉                      | 30/200 [00:00<00:01, 149.06it/s, loss=0.967559]\u001b[A\n",
      " 16%|███▉                     | 31/200 [00:00<00:01, 149.06it/s, loss=0.9546303]\u001b[A\n",
      " 16%|███▊                    | 32/200 [00:00<00:01, 149.06it/s, loss=0.94171387]\u001b[A\n",
      " 16%|████▏                    | 33/200 [00:00<00:01, 149.06it/s, loss=0.9289426]\u001b[A\n",
      " 17%|████                    | 34/200 [00:00<00:01, 149.06it/s, loss=0.91652274]\u001b[A\n",
      " 18%|████▏                   | 35/200 [00:00<00:01, 149.06it/s, loss=0.90439415]\u001b[A\n",
      " 18%|████▌                    | 36/200 [00:00<00:01, 149.06it/s, loss=0.8927744]\u001b[A\n",
      " 18%|████▍                   | 37/200 [00:00<00:01, 149.06it/s, loss=0.88186574]\u001b[A\n",
      " 19%|████▊                    | 38/200 [00:00<00:01, 149.06it/s, loss=0.8712589]\u001b[A\n",
      " 20%|████▉                    | 39/200 [00:00<00:01, 149.06it/s, loss=0.8612862]\u001b[A\n",
      " 20%|█████                    | 40/200 [00:00<00:01, 149.06it/s, loss=0.8516834]\u001b[A\n",
      " 20%|████▉                   | 41/200 [00:00<00:01, 149.06it/s, loss=0.84223735]\u001b[A\n",
      " 21%|█████                   | 42/200 [00:00<00:01, 149.06it/s, loss=0.83279127]\u001b[A\n",
      " 22%|█████▏                  | 43/200 [00:00<00:01, 149.06it/s, loss=0.82336193]\u001b[A\n",
      " 22%|█████▎                  | 44/200 [00:00<00:01, 149.06it/s, loss=0.81407917]\u001b[A\n",
      " 22%|█████▋                   | 45/200 [00:00<00:01, 149.06it/s, loss=0.8048963]\u001b[A\n",
      " 23%|█████▌                  | 46/200 [00:00<00:01, 149.06it/s, loss=0.79593253]\u001b[A\n",
      " 24%|█████▉                   | 47/200 [00:00<00:01, 149.06it/s, loss=0.7870953]\u001b[A\n",
      " 24%|█████▊                  | 48/200 [00:00<00:01, 149.06it/s, loss=0.77854127]\u001b[A\n",
      " 24%|█████▉                  | 49/200 [00:00<00:01, 149.06it/s, loss=0.77020186]\u001b[A\n",
      " 25%|██████▎                  | 50/200 [00:00<00:01, 149.06it/s, loss=0.7619805]\u001b[A\n",
      " 26%|██████▍                  | 51/200 [00:00<00:00, 149.06it/s, loss=0.7539607]\u001b[A\n",
      " 26%|██████▏                 | 52/200 [00:00<00:00, 149.06it/s, loss=0.74613506]\u001b[A\n",
      " 26%|██████▎                 | 53/200 [00:00<00:00, 149.06it/s, loss=0.73872226]\u001b[A\n",
      " 27%|██████▍                 | 54/200 [00:00<00:00, 149.06it/s, loss=0.73154515]\u001b[A\n",
      " 28%|██████▉                  | 55/200 [00:00<00:00, 149.06it/s, loss=0.7244287]\u001b[A\n",
      " 28%|██████▋                 | 56/200 [00:00<00:00, 149.06it/s, loss=0.71731216]\u001b[A\n",
      " 28%|██████▊                 | 57/200 [00:00<00:00, 149.06it/s, loss=0.71020484]\u001b[A\n",
      " 29%|██████▉                 | 58/200 [00:00<00:00, 149.06it/s, loss=0.70322895]\u001b[A\n",
      " 30%|███████                 | 59/200 [00:00<00:00, 149.06it/s, loss=0.69642335]\u001b[A\n",
      " 30%|███████▌                 | 60/200 [00:00<00:00, 149.06it/s, loss=0.6896176]\u001b[A\n",
      " 30%|███████▉                  | 61/200 [00:00<00:00, 149.06it/s, loss=0.682812]\u001b[A\n",
      " 31%|███████▊                 | 62/200 [00:00<00:00, 149.06it/s, loss=0.6761393]\u001b[A\n",
      " 32%|███████▉                 | 63/200 [00:00<00:00, 149.06it/s, loss=0.6696849]\u001b[A\n",
      " 32%|███████▋                | 64/200 [00:00<00:00, 149.06it/s, loss=0.66364586]\u001b[A\n",
      " 32%|███████▊                | 65/200 [00:00<00:00, 149.06it/s, loss=0.65769875]\u001b[A\n",
      " 33%|████████▎                | 66/200 [00:00<00:00, 149.06it/s, loss=0.6518049]\u001b[A\n",
      " 34%|████████                | 67/200 [00:00<00:00, 149.06it/s, loss=0.64608276]\u001b[A\n",
      " 34%|████████▌                | 68/200 [00:00<00:00, 149.06it/s, loss=0.6403635]\u001b[A\n",
      " 34%|████████▋                | 69/200 [00:00<00:00, 149.06it/s, loss=0.6347299]\u001b[A\n",
      " 35%|████████▊                | 70/200 [00:00<00:00, 149.06it/s, loss=0.6292115]\u001b[A\n",
      " 36%|████████▌               | 71/200 [00:00<00:00, 149.06it/s, loss=0.62369305]\u001b[A\n",
      " 36%|████████▋               | 72/200 [00:00<00:00, 149.06it/s, loss=0.61817455]\u001b[A\n",
      " 36%|█████████▏               | 73/200 [00:00<00:00, 149.06it/s, loss=0.6127143]\u001b[A\n",
      " 37%|████████▉               | 74/200 [00:00<00:00, 149.06it/s, loss=0.60738754]\u001b[A\n",
      " 38%|█████████               | 75/200 [00:00<00:00, 149.06it/s, loss=0.60206074]\u001b[A\n",
      " 38%|█████████▉                | 76/200 [00:00<00:00, 149.06it/s, loss=0.596734]\u001b[A\n",
      " 38%|█████████▋               | 77/200 [00:00<00:00, 149.06it/s, loss=0.5914574]\u001b[A\n",
      " 39%|█████████▊               | 78/200 [00:00<00:00, 149.06it/s, loss=0.5863597]\u001b[A\n",
      " 40%|█████████▉               | 79/200 [00:00<00:00, 149.06it/s, loss=0.5812773]\u001b[A\n",
      " 40%|██████████               | 80/200 [00:00<00:00, 149.06it/s, loss=0.5762657]\u001b[A\n",
      " 40%|██████████▏              | 81/200 [00:00<00:00, 149.06it/s, loss=0.5714994]\u001b[A\n",
      " 41%|██████████▎              | 82/200 [00:00<00:00, 149.06it/s, loss=0.5667982]\u001b[A\n",
      " 42%|██████████▍              | 83/200 [00:00<00:00, 149.06it/s, loss=0.5622021]\u001b[A\n",
      " 42%|██████████▉               | 84/200 [00:00<00:00, 149.06it/s, loss=0.557606]\u001b[A\n",
      " 42%|██████████▏             | 85/200 [00:00<00:00, 149.06it/s, loss=0.55304265]\u001b[A\n",
      " 43%|██████████▊              | 86/200 [00:00<00:00, 149.06it/s, loss=0.5486743]\u001b[A\n",
      " 44%|██████████▉              | 87/200 [00:00<00:00, 149.06it/s, loss=0.5444525]\u001b[A\n",
      " 44%|███████████              | 88/200 [00:00<00:00, 149.06it/s, loss=0.5404017]\u001b[A\n",
      " 44%|███████████▏             | 89/200 [00:00<00:00, 149.06it/s, loss=0.5364986]\u001b[A\n",
      " 45%|██████████▊             | 90/200 [00:00<00:00, 149.06it/s, loss=0.53278506]\u001b[A\n",
      " 46%|███████████▍             | 91/200 [00:00<00:00, 149.06it/s, loss=0.5290715]\u001b[A\n",
      " 46%|███████████▌             | 92/200 [00:00<00:00, 149.06it/s, loss=0.5253579]\u001b[A\n",
      " 46%|███████████▋             | 93/200 [00:00<00:00, 149.06it/s, loss=0.5216542]\u001b[A\n",
      " 47%|███████████▊             | 94/200 [00:00<00:00, 523.14it/s, loss=0.5216542]\u001b[A\n"
     ]
    },
    {
     "name": "stderr",
     "output_type": "stream",
     "text": [
      " 47%|███████████▊             | 94/200 [00:00<00:00, 523.14it/s, loss=0.5180602]\u001b[A\n",
      " 48%|███████████▉             | 95/200 [00:00<00:00, 523.14it/s, loss=0.5144663]\u001b[A\n",
      " 48%|████████████             | 96/200 [00:00<00:00, 523.14it/s, loss=0.5108722]\u001b[A\n",
      " 48%|███████████▋            | 97/200 [00:00<00:00, 523.14it/s, loss=0.50727814]\u001b[A\n",
      " 49%|████████████▎            | 98/200 [00:00<00:00, 523.14it/s, loss=0.5036842]\u001b[A\n",
      " 50%|███████████▉            | 99/200 [00:00<00:00, 523.14it/s, loss=0.50009024]\u001b[A\n",
      " 50%|███████████▌           | 100/200 [00:00<00:00, 523.14it/s, loss=0.49649614]\u001b[A\n",
      " 50%|███████████▌           | 101/200 [00:00<00:00, 523.14it/s, loss=0.49297062]\u001b[A\n",
      " 51%|███████████▋           | 102/200 [00:00<00:00, 523.14it/s, loss=0.48955935]\u001b[A\n",
      " 52%|███████████▊           | 103/200 [00:00<00:00, 523.14it/s, loss=0.48628575]\u001b[A\n",
      " 52%|███████████▉           | 104/200 [00:00<00:00, 523.14it/s, loss=0.48308817]\u001b[A\n",
      " 52%|████████████           | 105/200 [00:00<00:00, 523.14it/s, loss=0.47989073]\u001b[A\n",
      " 53%|████████████▏          | 106/200 [00:00<00:00, 523.14it/s, loss=0.47669324]\u001b[A\n",
      " 54%|████████████▎          | 107/200 [00:00<00:00, 523.14it/s, loss=0.47352526]\u001b[A\n",
      " 54%|████████████▉           | 108/200 [00:00<00:00, 523.14it/s, loss=0.4704805]\u001b[A\n",
      " 55%|████████████▌          | 109/200 [00:00<00:00, 523.14it/s, loss=0.46743575]\u001b[A\n",
      " 55%|████████████▋          | 110/200 [00:00<00:00, 523.14it/s, loss=0.46439102]\u001b[A\n",
      " 56%|█████████████▎          | 111/200 [00:00<00:00, 523.14it/s, loss=0.4613462]\u001b[A\n",
      " 56%|████████████▉          | 112/200 [00:00<00:00, 523.14it/s, loss=0.45830145]\u001b[A\n",
      " 56%|████████████▉          | 113/200 [00:00<00:00, 523.14it/s, loss=0.45525664]\u001b[A\n",
      " 57%|█████████████          | 114/200 [00:00<00:00, 523.14it/s, loss=0.45221183]\u001b[A\n",
      " 57%|█████████████▊          | 115/200 [00:00<00:00, 523.14it/s, loss=0.4492035]\u001b[A\n",
      " 58%|█████████████▎         | 116/200 [00:00<00:00, 523.14it/s, loss=0.44626006]\u001b[A\n",
      " 58%|█████████████▍         | 117/200 [00:00<00:00, 523.14it/s, loss=0.44331664]\u001b[A\n",
      " 59%|█████████████▌         | 118/200 [00:00<00:00, 523.14it/s, loss=0.44047084]\u001b[A\n",
      " 60%|█████████████▋         | 119/200 [00:00<00:00, 523.14it/s, loss=0.43779242]\u001b[A\n",
      " 60%|█████████████▊         | 120/200 [00:00<00:00, 523.14it/s, loss=0.43511406]\u001b[A\n",
      " 60%|█████████████▉         | 121/200 [00:00<00:00, 523.14it/s, loss=0.43243563]\u001b[A\n",
      " 61%|██████████████         | 122/200 [00:00<00:00, 523.14it/s, loss=0.42975724]\u001b[A\n",
      " 62%|██████████████▊         | 123/200 [00:00<00:00, 523.14it/s, loss=0.4270788]\u001b[A\n",
      " 62%|██████████████▉         | 124/200 [00:00<00:00, 523.14it/s, loss=0.4244004]\u001b[A\n",
      " 62%|██████████████▍        | 125/200 [00:00<00:00, 523.14it/s, loss=0.42172202]\u001b[A\n",
      " 63%|███████████████         | 126/200 [00:00<00:00, 523.14it/s, loss=0.4190436]\u001b[A\n",
      " 64%|██████████████▌        | 127/200 [00:00<00:00, 523.14it/s, loss=0.41636524]\u001b[A\n",
      " 64%|██████████████▋        | 128/200 [00:00<00:00, 523.14it/s, loss=0.41368687]\u001b[A\n",
      " 64%|██████████████▊        | 129/200 [00:00<00:00, 523.14it/s, loss=0.41100845]\u001b[A\n",
      " 65%|███████████████▌        | 130/200 [00:00<00:00, 523.14it/s, loss=0.4083391]\u001b[A\n",
      " 66%|███████████████        | 131/200 [00:00<00:00, 523.14it/s, loss=0.40568957]\u001b[A\n",
      " 66%|█████████████████▏        | 132/200 [00:00<00:00, 523.14it/s, loss=0.40304]\u001b[A\n",
      " 66%|███████████████▉        | 133/200 [00:00<00:00, 523.14it/s, loss=0.4004137]\u001b[A\n",
      " 67%|███████████████▍       | 134/200 [00:00<00:00, 523.14it/s, loss=0.39784473]\u001b[A\n",
      " 68%|███████████████▌       | 135/200 [00:00<00:00, 523.14it/s, loss=0.39532933]\u001b[A\n",
      " 68%|████████████████▎       | 136/200 [00:00<00:00, 523.14it/s, loss=0.3929753]\u001b[A\n",
      " 68%|████████████████▍       | 137/200 [00:00<00:00, 523.14it/s, loss=0.3906213]\u001b[A\n",
      " 69%|████████████████▌       | 138/200 [00:00<00:00, 523.14it/s, loss=0.3883096]\u001b[A\n",
      " 70%|███████████████▉       | 139/200 [00:00<00:00, 523.14it/s, loss=0.38608295]\u001b[A\n",
      " 70%|████████████████▊       | 140/200 [00:00<00:00, 523.14it/s, loss=0.3839026]\u001b[A\n",
      " 70%|████████████████▉       | 141/200 [00:00<00:00, 523.14it/s, loss=0.3817798]\u001b[A\n",
      " 71%|████████████████▎      | 142/200 [00:00<00:00, 523.14it/s, loss=0.37965694]\u001b[A\n",
      " 72%|████████████████▍      | 143/200 [00:00<00:00, 523.14it/s, loss=0.37753406]\u001b[A\n",
      " 72%|████████████████▌      | 144/200 [00:00<00:00, 523.14it/s, loss=0.37541118]\u001b[A\n",
      " 72%|████████████████▋      | 145/200 [00:00<00:00, 523.14it/s, loss=0.37328833]\u001b[A\n",
      " 73%|████████████████▊      | 146/200 [00:00<00:00, 523.14it/s, loss=0.37116548]\u001b[A\n",
      " 74%|████████████████▉      | 147/200 [00:00<00:00, 523.14it/s, loss=0.36904266]\u001b[A\n",
      " 74%|█████████████████      | 148/200 [00:00<00:00, 523.14it/s, loss=0.36691982]\u001b[A\n",
      " 74%|█████████████████▏     | 149/200 [00:00<00:00, 523.14it/s, loss=0.36479697]\u001b[A\n",
      " 75%|█████████████████▎     | 150/200 [00:00<00:00, 523.14it/s, loss=0.36267415]\u001b[A\n",
      " 76%|█████████████████▎     | 151/200 [00:00<00:00, 523.14it/s, loss=0.36055127]\u001b[A\n",
      " 76%|█████████████████▍     | 152/200 [00:00<00:00, 523.14it/s, loss=0.35842842]\u001b[A\n",
      " 76%|██████████████████▎     | 153/200 [00:00<00:00, 523.14it/s, loss=0.3563055]\u001b[A\n",
      " 77%|█████████████████▋     | 154/200 [00:00<00:00, 523.14it/s, loss=0.35418475]\u001b[A\n",
      " 78%|█████████████████▊     | 155/200 [00:00<00:00, 523.14it/s, loss=0.35208306]\u001b[A\n",
      " 78%|█████████████████▉     | 156/200 [00:00<00:00, 523.14it/s, loss=0.34999514]\u001b[A\n",
      " 78%|██████████████████     | 157/200 [00:00<00:00, 523.14it/s, loss=0.34792036]\u001b[A\n",
      " 79%|██████████████████▏    | 158/200 [00:00<00:00, 523.14it/s, loss=0.34584567]\u001b[A\n",
      " 80%|███████████████████     | 159/200 [00:00<00:00, 523.14it/s, loss=0.3437709]\u001b[A\n",
      " 80%|██████████████████▍    | 160/200 [00:00<00:00, 523.14it/s, loss=0.34169617]\u001b[A\n",
      " 80%|██████████████████▌    | 161/200 [00:00<00:00, 523.14it/s, loss=0.33962142]\u001b[A\n",
      " 81%|██████████████████▋    | 162/200 [00:00<00:00, 523.14it/s, loss=0.33754668]\u001b[A\n",
      " 82%|██████████████████▋    | 163/200 [00:00<00:00, 523.14it/s, loss=0.33547196]\u001b[A\n",
      " 82%|██████████████████▊    | 164/200 [00:00<00:00, 523.14it/s, loss=0.33339724]\u001b[A\n",
      " 82%|██████████████████▉    | 165/200 [00:00<00:00, 523.14it/s, loss=0.33134717]\u001b[A\n",
      " 83%|███████████████████    | 166/200 [00:00<00:00, 523.14it/s, loss=0.32939816]\u001b[A\n",
      " 84%|███████████████████▏   | 167/200 [00:00<00:00, 523.14it/s, loss=0.32752472]\u001b[A\n",
      " 84%|███████████████████▎   | 168/200 [00:00<00:00, 523.14it/s, loss=0.32565132]\u001b[A\n",
      " 84%|████████████████████▎   | 169/200 [00:00<00:00, 523.14it/s, loss=0.3237779]\u001b[A\n",
      " 85%|███████████████████▌   | 170/200 [00:00<00:00, 523.14it/s, loss=0.32190457]\u001b[A\n",
      " 86%|███████████████████▋   | 171/200 [00:00<00:00, 632.97it/s, loss=0.32190457]\u001b[A\n",
      " 86%|████████████████████▌   | 171/200 [00:00<00:00, 632.97it/s, loss=0.3200311]\u001b[A\n",
      " 86%|███████████████████▊   | 172/200 [00:00<00:00, 632.97it/s, loss=0.31815773]\u001b[A\n",
      " 86%|████████████████████▊   | 173/200 [00:00<00:00, 632.97it/s, loss=0.3162844]\u001b[A\n",
      " 87%|████████████████████   | 174/200 [00:00<00:00, 632.97it/s, loss=0.31441095]\u001b[A\n",
      " 88%|████████████████████▏  | 175/200 [00:00<00:00, 632.97it/s, loss=0.31253752]\u001b[A\n",
      " 88%|█████████████████████   | 176/200 [00:00<00:00, 632.97it/s, loss=0.3106727]\u001b[A\n",
      " 88%|████████████████████▎  | 177/200 [00:00<00:00, 632.97it/s, loss=0.30885974]\u001b[A\n",
      " 89%|████████████████████▍  | 178/200 [00:00<00:00, 632.97it/s, loss=0.30710012]\u001b[A\n",
      " 90%|█████████████████████▍  | 179/200 [00:00<00:00, 632.97it/s, loss=0.3053893]\u001b[A\n",
      " 90%|████████████████████▋  | 180/200 [00:00<00:00, 632.97it/s, loss=0.30367848]\u001b[A\n",
      " 90%|████████████████████▊  | 181/200 [00:00<00:00, 632.97it/s, loss=0.30196765]\u001b[A\n",
      " 91%|████████████████████▉  | 182/200 [00:00<00:00, 632.97it/s, loss=0.30025682]\u001b[A\n",
      " 92%|█████████████████████  | 183/200 [00:00<00:00, 632.97it/s, loss=0.29854602]\u001b[A\n",
      " 92%|█████████████████████▏ | 184/200 [00:00<00:00, 632.97it/s, loss=0.29683515]\u001b[A\n",
      " 92%|█████████████████████▎ | 185/200 [00:00<00:00, 632.97it/s, loss=0.29512432]\u001b[A\n",
      " 93%|█████████████████████▍ | 186/200 [00:00<00:00, 632.97it/s, loss=0.29341355]\u001b[A\n",
      " 94%|█████████████████████▌ | 187/200 [00:00<00:00, 632.97it/s, loss=0.29173794]\u001b[A\n",
      " 94%|█████████████████████▌ | 188/200 [00:00<00:00, 632.97it/s, loss=0.29013106]\u001b[A\n",
      " 94%|██████████████████████▋ | 189/200 [00:00<00:00, 632.97it/s, loss=0.2885332]\u001b[A\n"
     ]
    },
    {
     "name": "stderr",
     "output_type": "stream",
     "text": [
      " 95%|██████████████████████▊ | 190/200 [00:00<00:00, 632.97it/s, loss=0.2869354]\u001b[A\n",
      " 96%|█████████████████████▉ | 191/200 [00:00<00:00, 632.97it/s, loss=0.28533754]\u001b[A\n",
      " 96%|██████████████████████ | 192/200 [00:00<00:00, 632.97it/s, loss=0.28373963]\u001b[A\n",
      " 96%|██████████████████████▏| 193/200 [00:00<00:00, 632.97it/s, loss=0.28214175]\u001b[A\n",
      " 97%|██████████████████████▎| 194/200 [00:00<00:00, 632.97it/s, loss=0.28054392]\u001b[A\n",
      " 98%|██████████████████████▍| 195/200 [00:00<00:00, 632.97it/s, loss=0.27894604]\u001b[A\n",
      " 98%|███████████████████████▌| 196/200 [00:00<00:00, 632.97it/s, loss=0.2773482]\u001b[A\n",
      " 98%|██████████████████████▋| 197/200 [00:00<00:00, 632.97it/s, loss=0.27575034]\u001b[A\n",
      " 99%|██████████████████████▊| 198/200 [00:00<00:00, 632.97it/s, loss=0.27415246]\u001b[A\n",
      "100%|████████████████████████| 200/200 [00:00<00:00, 531.69it/s, loss=0.2725643]\u001b[A\n"
     ]
    }
   ],
   "source": [
    "n_iters = 200\n",
    "lr = 0.01\n",
    "loss_grad = jit(grad(loss))\n",
    "\n",
    "losses = np.zeros(n_iters)\n",
    "pbar = tqdm(range(n_iters))\n",
    "\n",
    "for i in range(n_iters):\n",
    "    grads = loss_grad(alphas)\n",
    "    alphas = alphas - lr * grads\n",
    "\n",
    "    tmp_loss = loss(alphas)\n",
    "    losses[i] = tmp_loss\n",
    "\n",
    "    pbar.set_postfix({'loss': tmp_loss})\n",
    "    pbar.update()\n",
    "\n",
    "    if tmp_loss == 0:\n",
    "        break\n",
    "\n",
    "pbar.close()"
   ]
  },
  {
   "cell_type": "code",
   "execution_count": 58,
   "metadata": {
    "colab": {
     "base_uri": "https://localhost:8080/",
     "height": 265
    },
    "id": "BaJKTxLZWR4d",
    "outputId": "4cdb161c-89b5-4d03-8c2b-29ebdd2aa170",
    "scrolled": true
   },
   "outputs": [
    {
     "data": {
      "image/png": "[encoded data removed]",
      "text/plain": [
       "<Figure size 432x288 with 1 Axes>"
      ]
     },
     "metadata": {
      "needs_background": "light"
     },
     "output_type": "display_data"
    }
   ],
   "source": [
    "plt.plot(losses);"
   ]
  },
  {
   "cell_type": "code",
   "execution_count": 59,
   "metadata": {
    "id": "DionwyCNR9YW"
   },
   "outputs": [],
   "source": [
    "x_min = X[:, 0].min()\n",
    "x_max = X[:, 0].max()\n",
    "y_min = X[:, 1].min()\n",
    "y_max = X[:, 1].max()\n",
    "\n",
    "n_steps = 100\n",
    "\n",
    "x_test_grid = np.linspace(x_min, x_max, n_steps)\n",
    "y_test_grid = np.linspace(y_min, y_max, n_steps)\n",
    "\n",
    "X1_test, X2_test = np.meshgrid(x_test_grid, y_test_grid, indexing='ij')\n",
    "X_test = np.hstack((\n",
    "    X1_test.reshape(-1, 1), \n",
    "    X2_test.reshape(-1, 1), \n",
    "    np.ones((n_steps ** 2, 1))\n",
    "))\n",
    "\n",
    "preds = predict(alphas, X_test)"
   ]
  },
  {
   "cell_type": "code",
   "execution_count": 60,
   "metadata": {
    "colab": {
     "base_uri": "https://localhost:8080/",
     "height": 240
    },
    "id": "YvcDAdBuUAXQ",
    "outputId": "8b4f94a8-fd3b-4919-9e9d-33ed977b9f06"
   },
   "outputs": [
    {
     "data": {
      "image/png": "[encoded data removed]",
      "text/plain": [
       "<Figure size 432x288 with 1 Axes>"
      ]
     },
     "metadata": {
      "needs_background": "light"
     },
     "output_type": "display_data"
    }
   ],
   "source": [
    "plt.imshow(\n",
    "    preds.reshape(n_steps, n_steps).T, \n",
    "    extent=[x_min, x_max, y_min, y_max],\n",
    "    origin='lower'\n",
    ")\n",
    "\n",
    "plt.scatter(X[:, 0], X[:, 1], c=y);"
   ]
  },
  {
   "cell_type": "markdown",
   "metadata": {},
   "source": [
    "See the figure above. We visualize the predictions made by the model itself. We show these predictions made on a fine grid that spans across our training data points, where the colors show the predicted classes, and the hues show the confidence in the predictions"
   ]
  },
  {
   "cell_type": "markdown",
   "metadata": {},
   "source": [
    "Here, the speed we achieve is roughly 160 iterations per second. To once again see how big a speedup the JIT compiler offers our program, we remove the jit() function calls from the implementation of our model:"
   ]
  },
  {
   "cell_type": "markdown",
   "metadata": {
    "id": "dOMdRXx3J6Kg"
   },
   "source": [
    "## Non-JIT version for comparison"
   ]
  },
  {
   "cell_type": "code",
   "execution_count": 61,
   "metadata": {
    "id": "e9FBkA-zr8wS"
   },
   "outputs": [],
   "source": [
    "kernel = rbf_kernel\n",
    "vec_kernel = vmap(vmap(kernel, (0, None)), (None, 0))\n",
    "\n",
    "np.random.seed(0)\n",
    "\n",
    "alphas = np.random.randn(y.size)"
   ]
  },
  {
   "cell_type": "code",
   "execution_count": 62,
   "metadata": {
    "colab": {
     "base_uri": "https://localhost:8080/"
    },
    "id": "Y1SEJ1bnKAcw",
    "outputId": "c3a68af0-7920-486d-e7ef-391f2db96ffd"
   },
   "outputs": [
    {
     "name": "stderr",
     "output_type": "stream",
     "text": [
      "100%|████████████████████████| 200/200 [00:01<00:00, 144.74it/s, loss=0.2725643]\n"
     ]
    }
   ],
   "source": [
    "n_iters = 200\n",
    "lr = 0.01\n",
    "loss_grad = grad(loss)\n",
    "\n",
    "losses = np.zeros(n_iters)\n",
    "pbar = tqdm(range(n_iters))\n",
    "\n",
    "for i in range(n_iters):\n",
    "    grads = loss_grad(alphas)\n",
    "    alphas = alphas - lr * grads\n",
    "\n",
    "    tmp_loss = loss(alphas)\n",
    "    losses[i] = tmp_loss\n",
    "\n",
    "    pbar.set_postfix({'loss': tmp_loss})\n",
    "    pbar.update()\n",
    "\n",
    "    if tmp_loss == 0:\n",
    "        break\n",
    "\n",
    "pbar.close()"
   ]
  },
  {
   "cell_type": "markdown",
   "metadata": {},
   "source": [
    "This time without JIT, the speed drops to 47 iterations per second."
   ]
  },
  {
   "cell_type": "markdown",
   "metadata": {
    "id": "2l7ZH0qhKDFA"
   },
   "source": [
    "# Some extensions"
   ]
  },
  {
   "cell_type": "markdown",
   "metadata": {
    "id": "tCOWitsAS1EE"
   },
   "source": [
    "# 1. Parallel Evaluation in JAX\n",
    "\n",
    "In this section we will discuss the facilities built into JAX for single-program, multiple-data (SPMD) code.\n",
    "\n",
    "SPMD refers to a parallelism technique where the same computation (e.g., the forward pass of a neural net) is run on different input data (e.g., different inputs in a batch) in parallel on different devices (e.g., several TPUs).\n",
    "\n",
    "Conceptually, this is not very different from vectorisation, where the same operations occur in parallel in different parts of memory on the same device. We have already seen that vectorisation is supported in JAX as a program transformation, `jax.vmap`. JAX supports device parallelism analogously, using `jax.pmap` to transform a function written for one device into a function that runs in parallel on multiple devices."
   ]
  },
  {
   "cell_type": "markdown",
   "metadata": {
    "id": "7mCgBzix2fd3"
   },
   "source": [
    "## Colab TPU Setup\n",
    "\n",
    "If you're running this code in Google Colab, be sure to choose *Runtime*→*Change Runtime Type* and choose **TPU** from the Hardware Accelerator menu. Then, you can run the code there to set up the Colab TPU for use with JAX.\n",
    "\n",
    "You can refer to this: [![Open in Colab](https://colab.research.google.com/assets/colab-badge.svg)](https://colab.research.google.com/github/google/jax/blob/main/docs/jax-101/06-parallelism.ipynb)"
   ]
  },
  {
   "cell_type": "code",
   "execution_count": null,
   "metadata": {},
   "outputs": [],
   "source": [
    "## Colab TPU Setup, pasted from the Google Colab\n",
    "\n",
    "import jax.tools.colab_tpu\n",
    "jax.tools.colab_tpu.setup_tpu()\n",
    "\n",
    "# Next run the following to see the TPU devices you have available:\n",
    "\n",
    "import jax\n",
    "jax.devices()"
   ]
  },
  {
   "cell_type": "markdown",
   "metadata": {
    "id": "4_EDa0Dlgtf8"
   },
   "source": [
    "## The basics\n",
    "\n",
    "The most basic use of `jax.pmap` is completely analogous to `jax.vmap`, you can see the convolution example before."
   ]
  },
  {
   "cell_type": "code",
   "execution_count": 78,
   "metadata": {
    "id": "IIQKBr-CgtD2",
    "outputId": "6e7f8755-fdfd-4cf9-e2b5-a10c5a870dd4"
   },
   "outputs": [
    {
     "data": {
      "text/plain": [
       "DeviceArray([11., 20., 29.], dtype=float32)"
      ]
     },
     "execution_count": 78,
     "metadata": {},
     "output_type": "execute_result"
    }
   ],
   "source": [
    "import numpy as np\n",
    "import jax.numpy as jnp\n",
    "\n",
    "x = np.arange(5)\n",
    "w = np.array([2., 3., 4.])\n",
    "\n",
    "def convolve(x, w):\n",
    "    output = []\n",
    "    for i in range(1, len(x)-1):\n",
    "        output.append(jnp.dot(x[i-1:i+2], w))\n",
    "    return jnp.array(output)\n",
    "\n",
    "convolve(x, w)"
   ]
  },
  {
   "cell_type": "markdown",
   "metadata": {
    "id": "lqxz9NNJOQ9Z"
   },
   "source": [
    "Now, let's convert our `convolve` function into one that runs on entire batches of data. In anticipation of spreading the batch across several devices, we'll make the batch size equal to the number of devices:"
   ]
  },
  {
   "cell_type": "code",
   "execution_count": null,
   "metadata": {
    "id": "ll-hEa0jihzx",
    "outputId": "788be05a-10d4-4a05-8d9d-49d0083541ab"
   },
   "outputs": [
    {
     "data": {
      "text/plain": [
       "array([[ 0,  1,  2,  3,  4],\n",
       "       [ 5,  6,  7,  8,  9],\n",
       "       [10, 11, 12, 13, 14],\n",
       "       [15, 16, 17, 18, 19],\n",
       "       [20, 21, 22, 23, 24],\n",
       "       [25, 26, 27, 28, 29],\n",
       "       [30, 31, 32, 33, 34],\n",
       "       [35, 36, 37, 38, 39]])"
      ]
     },
     "execution_count": 6,
     "metadata": {
      "tags": []
     },
     "output_type": "execute_result"
    }
   ],
   "source": [
    "# n_\n",
    "n_devices = jax.local_device_count() \n",
    "xs = np.arange(5 * n_devices).reshape(-1, 5)\n",
    "ws = np.stack([w] * n_devices)\n",
    "\n",
    "xs"
   ]
  },
  {
   "cell_type": "code",
   "execution_count": null,
   "metadata": {
    "id": "mi-nysDWYbn4",
    "outputId": "2d115fc3-52f5-4a68-c3a7-115111a83657"
   },
   "outputs": [
    {
     "data": {
      "text/plain": [
       "array([[2., 3., 4.],\n",
       "       [2., 3., 4.],\n",
       "       [2., 3., 4.],\n",
       "       [2., 3., 4.],\n",
       "       [2., 3., 4.],\n",
       "       [2., 3., 4.],\n",
       "       [2., 3., 4.],\n",
       "       [2., 3., 4.]])"
      ]
     },
     "execution_count": 7,
     "metadata": {
      "tags": []
     },
     "output_type": "execute_result"
    }
   ],
   "source": [
    "ws"
   ]
  },
  {
   "cell_type": "markdown",
   "metadata": {
    "id": "8kseIB09YWJw"
   },
   "source": [
    "As before, we can vectorise using `jax.vmap`:"
   ]
  },
  {
   "cell_type": "code",
   "execution_count": null,
   "metadata": {
    "id": "TNb9HsFXYVOI",
    "outputId": "2e60e07a-6687-49ab-a455-60d2ec484363"
   },
   "outputs": [
    {
     "data": {
      "text/plain": [
       "DeviceArray([[ 11.,  20.,  29.],\n",
       "             [ 56.,  65.,  74.],\n",
       "             [101., 110., 119.],\n",
       "             [146., 155., 164.],\n",
       "             [191., 200., 209.],\n",
       "             [236., 245., 254.],\n",
       "             [281., 290., 299.],\n",
       "             [326., 335., 344.]], dtype=float32)"
      ]
     },
     "execution_count": 8,
     "metadata": {
      "tags": []
     },
     "output_type": "execute_result"
    }
   ],
   "source": [
    "jax.vmap(convolve)(xs, ws)"
   ]
  },
  {
   "cell_type": "markdown",
   "metadata": {
    "id": "TDF1vzt_5GMC"
   },
   "source": [
    "To spread out the computation across multiple devices, just replace `jax.vmap` with `jax.pmap`:"
   ]
  },
  {
   "cell_type": "code",
   "execution_count": null,
   "metadata": {
    "id": "KWoextrails4",
    "outputId": "bad1fbb7-226a-4538-e442-20ce0c1c8fad"
   },
   "outputs": [
    {
     "data": {
      "text/plain": [
       "ShardedDeviceArray([[ 11.,  20.,  29.],\n",
       "                    [ 56.,  65.,  74.],\n",
       "                    [101., 110., 119.],\n",
       "                    [146., 155., 164.],\n",
       "                    [191., 200., 209.],\n",
       "                    [236., 245., 254.],\n",
       "                    [281., 290., 299.],\n",
       "                    [326., 335., 344.]], dtype=float32)"
      ]
     },
     "execution_count": 9,
     "metadata": {
      "tags": []
     },
     "output_type": "execute_result"
    }
   ],
   "source": [
    "jax.pmap(convolve)(xs, ws)"
   ]
  },
  {
   "cell_type": "markdown",
   "metadata": {
    "id": "E69cVxQPksxe"
   },
   "source": [
    "Note that the parallelized `convolve` returns a `ShardedDeviceArray`. That is because the elements of this array are sharded across all of the devices used in the parallelism. If we were to run another parallel computation, the elements would stay on their respective devices, without incurring cross-device communication costs."
   ]
  },
  {
   "cell_type": "code",
   "execution_count": null,
   "metadata": {
    "id": "P9dUyk-ciquy",
    "outputId": "99ea4c6e-cff7-4611-e9e5-bf016fa9716c"
   },
   "outputs": [
    {
     "data": {
      "text/plain": [
       "ShardedDeviceArray([[   78.,   138.,   198.],\n",
       "                    [ 1188.,  1383.,  1578.],\n",
       "                    [ 3648.,  3978.,  4308.],\n",
       "                    [ 7458.,  7923.,  8388.],\n",
       "                    [12618., 13218., 13818.],\n",
       "                    [19128., 19863., 20598.],\n",
       "                    [26988., 27858., 28728.],\n",
       "                    [36198., 37203., 38208.]], dtype=float32)"
      ]
     },
     "execution_count": 11,
     "metadata": {
      "tags": []
     },
     "output_type": "execute_result"
    }
   ],
   "source": [
    "jax.pmap(convolve)(xs, jax.pmap(convolve)(xs, ws))"
   ]
  },
  {
   "cell_type": "markdown",
   "metadata": {
    "id": "iuHqht-OYqca"
   },
   "source": [
    "The outputs of the inner `jax.pmap(convolve)` never left their devices when being fed into the outer `jax.pmap(convolve)`."
   ]
  },
  {
   "cell_type": "markdown",
   "metadata": {
    "id": "vEFAJXN2q3dV"
   },
   "source": [
    "## Specifying `in_axes`\n",
    "\n",
    "Like with `vmap`, we can use `in_axes` to specify whether an argument to the parallelized function should be broadcast (`None`), or whether it should be split along a given axis. Note, however, that unlike `vmap`, only the leading axis (`0`) is supported by `pmap` at the time of writing this guide."
   ]
  },
  {
   "cell_type": "code",
   "execution_count": null,
   "metadata": {
    "id": "6Es5WVuRlXnB",
    "outputId": "7e9612ae-d6e0-4d79-a228-f0403fcf8237"
   },
   "outputs": [
    {
     "data": {
      "text/plain": [
       "ShardedDeviceArray([[ 11.,  20.,  29.],\n",
       "                    [ 56.,  65.,  74.],\n",
       "                    [101., 110., 119.],\n",
       "                    [146., 155., 164.],\n",
       "                    [191., 200., 209.],\n",
       "                    [236., 245., 254.],\n",
       "                    [281., 290., 299.],\n",
       "                    [326., 335., 344.]], dtype=float32)"
      ]
     },
     "execution_count": 12,
     "metadata": {
      "tags": []
     },
     "output_type": "execute_result"
    }
   ],
   "source": [
    "jax.pmap(convolve, in_axes=(0, None))(xs, w)"
   ]
  },
  {
   "cell_type": "markdown",
   "metadata": {
    "id": "EoN6drHDOlk4"
   },
   "source": [
    "Notice how we get equivalent output to what we observe above with `jax.pmap(convolve)(xs, ws)`, where we manually replicated `w` when creating `ws`. Here, it is replicated via broadcasting, by specifying it as `None` in `in_axes`."
   ]
  },
  {
   "cell_type": "markdown",
   "metadata": {
    "id": "0lZnqImd7G6U"
   },
   "source": [
    "## `pmap` and `jit`\n",
    "\n",
    "`jax.pmap` JIT-compiles the function given to it as part of its operation, so there is no need to additionally `jax.jit` it."
   ]
  },
  {
   "cell_type": "markdown",
   "metadata": {
    "id": "1jZqk_2AwO4y"
   },
   "source": [
    "The above is enough to perform simple parallel operations, e.g. batching a simple MLP forward pass across several devices."
   ]
  },
  {
   "cell_type": "markdown",
   "metadata": {},
   "source": [
    "# 2. NumPy Packages & Accelerated linear algebra libraries\n",
    "\n",
    "For many problems in machine learning, the computational bottleneck often lies in the large scale and frequent matrix operations, mainly in the following two areas.\n",
    "1. Vector product\n",
    "2. Dense Matrix product\n",
    "\n",
    "We will cover some knowledge about Accelerated linear algebra libraries underlying Numpy Packages."
   ]
  },
  {
   "cell_type": "markdown",
   "metadata": {},
   "source": [
    "\n",
    "NumPy doesn’t depend on any other Python packages, however, it does depend on an accelerated linear algebra library - typically Intel MKL or OpenBLAS. \n",
    "\n",
    "Users don’t have to worry about installing those (they’re automatically included in all NumPy install methods). Power users may still want to know the details, because the used BLAS can affect performance, behavior and size on disk:\n",
    "\n",
    "(1) The NumPy wheels on PyPI, which is what pip installs, are built with OpenBLAS. The OpenBLAS libraries are included in the wheel. This makes the wheel larger, and if a user installs (for example) SciPy as well, they will now have two copies of OpenBLAS on disk.\n",
    "\n",
    "(2) In the conda defaults channel, NumPy is built against Intel MKL. MKL is a separate package that will be installed in the users’ environment when they install NumPy.\n",
    "\n",
    "(3) In the conda-forge channel, NumPy is built against a dummy “BLAS” package. When a user installs NumPy from conda-forge, that BLAS package then gets installed together with the actual library - this defaults to OpenBLAS, but it can also be MKL (from the defaults channel), or even BLIS or reference BLAS.\n",
    "\n",
    "\n"
   ]
  },
  {
   "cell_type": "markdown",
   "metadata": {},
   "source": [
    "You can refert to https://www.intel.com/content/www/us/en/develop/documentation/get-started-with-mkl-for-dpcpp/top.html for further details."
   ]
  },
  {
   "cell_type": "markdown",
   "metadata": {},
   "source": [
    "The MKL package is a lot larger than OpenBLAS, it’s about 700 MB on disk while OpenBLAS is about 30 MB.\n",
    "\n",
    "Besides install sizes, performance and robustness, there are two more things to consider:\n",
    "\n",
    "Intel MKL is not open source. For normal use this is not a problem, but if a user needs to redistribute an application built with NumPy, this could be an issue.\n",
    "\n",
    "MKL is typically a little faster and more robust than OpenBLAS."
   ]
  },
  {
   "cell_type": "code",
   "execution_count": 34,
   "metadata": {},
   "outputs": [],
   "source": [
    "import numpy as np\n",
    "from time import time\n",
    "\n",
    "\n",
    "def matrix_mul(size, n=100):\n",
    "    # reference: https://markus-beuckelmann.de/blog/boosting-numpy-blas.html\n",
    "    np.random.seed(112)\n",
    "    a, b = np.random.random((size, size)), np.random.random((size, size))\n",
    "    t = time()\n",
    "    for _ in range(n):\n",
    "        np.dot(a, b)\n",
    "    delta = time() - t\n",
    "    print('Dotted two matrices of size %dx%d in %0.4f ms.' % (size, size, delta / n * 1000))\n",
    "\n",
    "\n",
    "def vector_mul(size, n=100):\n",
    "    # reference: https://markus-beuckelmann.de/blog/boosting-numpy-blas.html\n",
    "    np.random.seed(112)\n",
    "    a, b = np.random.random((size, size)), np.random.random((size, size))\n",
    "    t = time()\n",
    "    for _ in range(n):\n",
    "        np.dot(a, b)\n",
    "    delta = time() - t\n",
    "    print('Dotted two vector of length %d in %0.4f ms.' % (size, delta / n * 1000))\n",
    "\n",
    "\n",
    "def svd_decomposition(size, n=10):\n",
    "    np.random.seed(112)\n",
    "    a = np.random.random((size, size))\n",
    "    t = time()\n",
    "    for _ in range(n):\n",
    "        np.linalg.svd(a, full_matrices=False)\n",
    "    delta = time() - t\n",
    "    print('SVD decomposition of size %dx%d in %0.4f ms.' % (size, size, delta / n * 1000))\n",
    "\n",
    "\n",
    "def eigen_decomposition(size, n=10):\n",
    "    np.random.seed(112)\n",
    "    a = np.random.random((size, size))\n",
    "    t = time()\n",
    "    for _ in range(n):\n",
    "        np.linalg.eig(a)\n",
    "    delta = time() - t\n",
    "    print('Eigen decomposition of size %dx%d in %0.4f ms.' % (size, size, delta / n * 1000))\n",
    "\n",
    "# You can compare the performance of these functions with different versions of Numpy (Intel MKL or OpenBLAS) \n",
    "# vector_mul(size=8192, n=50)\n",
    "# matrix_mul(size=8192, n=50)\n",
    "# svd_decomposition(2048, n=50)\n",
    "# eigen_decomposition(2048, n=50)"
   ]
  },
  {
   "cell_type": "markdown",
   "metadata": {
    "id": "1Op_vnmkjw3z"
   },
   "source": [
    "# 3. Pseudo Random Numbers in JAX\n",
    "\n",
    "In this section we focus on pseudo random number generation (PRNG).\n",
    "\n",
    "PRNG-generated sequences are not truly random because they are actually determined by their initial value, which is typically referred to as the `seed`, and each step of random sampling is a deterministic function of some `state` that is carried over from a sample to the next.\n",
    "\n",
    "Pseudo random number generation is an essential component of any machine learning or scientific computing framework. Generally, JAX strives to be compatible with NumPy, but pseudo random number generation is a notable exception.\n",
    "\n",
    "To better understand the difference between the approaches taken by JAX and NumPy when it comes to random number generation we will discuss both approaches in this section."
   ]
  },
  {
   "cell_type": "markdown",
   "metadata": {
    "id": "6_117sy0CGEU"
   },
   "source": [
    "## Random numbers in NumPy\n",
    "\n",
    "Pseudo random number generation is natively supported in NumPy by the `numpy.random` module.\n",
    "\n",
    "In NumPy, pseudo random number generation is based on a global `state`.\n",
    "\n",
    "This can be set to a deterministic initial condition using `random.seed(SEED)`."
   ]
  },
  {
   "cell_type": "code",
   "execution_count": 65,
   "metadata": {
    "id": "qbmCquES5beU"
   },
   "outputs": [],
   "source": [
    "import numpy as np\n",
    "np.random.seed(0)"
   ]
  },
  {
   "cell_type": "markdown",
   "metadata": {
    "id": "WImNZxJ-7plK"
   },
   "source": [
    "You can inspect the content of the state using the following command."
   ]
  },
  {
   "cell_type": "code",
   "execution_count": 66,
   "metadata": {
    "id": "qNO_vG7z7qUb",
    "outputId": "47817350-83be-40cc-85c3-46419fdbfda0"
   },
   "outputs": [
    {
     "name": "stdout",
     "output_type": "stream",
     "text": [
      "('MT19937', array([         0,          1, 1812433255, 1900727105, 1208447044,\n",
      "       2481403966, 4042607538,  337614300, 3232553940, 1018809052,\n",
      "       3202401494, 1775180719, 3192392114,  594215549,  184016991,\n",
      "        829906058,  610491522, 3879932251, 3139825610,  297902587,\n",
      "       4075895579, 2943625357, 3530655617, 1423771745, 2135928312,\n",
      "       2891506774, 1066338622,  135451537,  933040465, 2759011858,\n",
      "       2273819758, 3545703099, 2516396728, 127 ...\n"
     ]
    }
   ],
   "source": [
    "def print_truncated_random_state():\n",
    "    \"\"\"To avoid spamming the outputs, print only part of the state.\"\"\"\n",
    "    full_random_state = np.random.get_state()\n",
    "    print(str(full_random_state)[:460], '...')\n",
    "\n",
    "print_truncated_random_state()"
   ]
  },
  {
   "cell_type": "markdown",
   "metadata": {
    "id": "nmqx0gJW9CFo"
   },
   "source": [
    "The `state` is updated by each call to a random function:"
   ]
  },
  {
   "cell_type": "code",
   "execution_count": 67,
   "metadata": {
    "id": "ZqUzvqF1B1TO",
    "outputId": "c1874391-eb8d-43d8-eb8f-c918ed0a0c1a"
   },
   "outputs": [
    {
     "name": "stdout",
     "output_type": "stream",
     "text": [
      "('MT19937', array([         0,          1, 1812433255, 1900727105, 1208447044,\n",
      "       2481403966, 4042607538,  337614300, 3232553940, 1018809052,\n",
      "       3202401494, 1775180719, 3192392114,  594215549,  184016991,\n",
      "        829906058,  610491522, 3879932251, 3139825610,  297902587,\n",
      "       4075895579, 2943625357, 3530655617, 1423771745, 2135928312,\n",
      "       2891506774, 1066338622,  135451537,  933040465, 2759011858,\n",
      "       2273819758, 3545703099, 2516396728, 127 ...\n",
      "('MT19937', array([2443250962, 1093594115, 1878467924, 2709361018, 1101979660,\n",
      "       3904844661,  676747479, 2085143622, 1056793272, 3812477442,\n",
      "       2168787041,  275552121, 2696932952, 3432054210, 1657102335,\n",
      "       3518946594,  962584079, 1051271004, 3806145045, 1414436097,\n",
      "       2032348584, 1661738718, 1116708477, 2562755208, 3176189976,\n",
      "        696824676, 2399811678, 3992505346,  569184356, 2626558620,\n",
      "        136797809, 4273176064,  296167901, 343 ...\n"
     ]
    }
   ],
   "source": [
    "np.random.seed(0)\n",
    "\n",
    "print_truncated_random_state()\n",
    "\n",
    "_ = np.random.uniform()\n",
    "\n",
    "print_truncated_random_state()"
   ]
  },
  {
   "cell_type": "markdown",
   "metadata": {
    "id": "G1ICXejY_xR0"
   },
   "source": [
    "NumPy allows you to sample both individual numbers, or entire vectors of numbers in a single function call. For instance, you may sample a vector of 3 scalars from a uniform distribution by doing:"
   ]
  },
  {
   "cell_type": "code",
   "execution_count": 68,
   "metadata": {
    "id": "6Xqx2e8tAW5d",
    "outputId": "a428facb-cd16-4375-f5c4-8fc601e60169"
   },
   "outputs": [
    {
     "name": "stdout",
     "output_type": "stream",
     "text": [
      "[0.5488135  0.71518937 0.60276338]\n"
     ]
    }
   ],
   "source": [
    "np.random.seed(0)\n",
    "print(np.random.uniform(size=3))"
   ]
  },
  {
   "cell_type": "markdown",
   "metadata": {
    "id": "JGCZI9UTl7o4"
   },
   "source": [
    "## Random numbers in JAX\n",
    "\n",
    "JAX's random number generation differs from NumPy's in important ways. The reason is that NumPy's PRNG design makes it hard to simultaneously guarantee a number of desirable properties for JAX, specifically that code must be:\n",
    "\n",
    "1. reproducible,\n",
    "2. parallelizable,\n",
    "3. vectorisable.\n",
    "\n",
    "We will discuss why in the following. First, we will focus on the implications of a PRNG design based on a global state. Consider the code:"
   ]
  },
  {
   "cell_type": "code",
   "execution_count": 69,
   "metadata": {
    "id": "j441y2NCmnbt",
    "outputId": "77fe84d7-c86e-417a-95b9-d73663ed40fc"
   },
   "outputs": [
    {
     "name": "stdout",
     "output_type": "stream",
     "text": [
      "1.9791922366721637\n"
     ]
    }
   ],
   "source": [
    "import numpy as np\n",
    "\n",
    "np.random.seed(0)\n",
    "\n",
    "def bar(): return np.random.uniform()\n",
    "def baz(): return np.random.uniform()\n",
    "\n",
    "def foo(): return bar() + 2 * baz()\n",
    "\n",
    "print(foo())"
   ]
  },
  {
   "cell_type": "markdown",
   "metadata": {
    "id": "5kVpfSV5n1d7"
   },
   "source": [
    "The function `foo` sums two scalars sampled from a uniform distribution.\n",
    "\n",
    "The output of this code can only satisfy requirement #1 if we assume a specific order of execution for `bar()` and `baz()`, as native Python does.\n",
    "\n",
    "This doesn't seem to be a major issue in NumPy, as it is already enforced by Python, but it becomes an issue in JAX. \n",
    "\n",
    "Making this code reproducible in JAX would require enforcing this specific order of execution. This would violate requirement #2, as JAX should be able to parallelize `bar` and `baz` when jitting as these functions don't actually depend on each other.\n",
    "\n",
    "To avoid this issue, JAX does not use a global state. Instead, random functions explicitly consume the state, which is referred to as a `key` ."
   ]
  },
  {
   "cell_type": "code",
   "execution_count": 70,
   "metadata": {
    "id": "LuaGUVRUvbzQ",
    "outputId": "bbf525d7-d407-49b4-8bee-2cd827846e04"
   },
   "outputs": [
    {
     "name": "stdout",
     "output_type": "stream",
     "text": [
      "[ 0 42]\n"
     ]
    }
   ],
   "source": [
    "from jax import random\n",
    "\n",
    "key = random.PRNGKey(42)\n",
    "\n",
    "print(key)"
   ]
  },
  {
   "cell_type": "markdown",
   "metadata": {
    "id": "XhFpKnW9F2nF"
   },
   "source": [
    "A key is just an array of shape `(2,)`.\n",
    "\n",
    "'Random key' is essentially just another word for 'random seed'. However, instead of setting it once as in NumPy, any call of a random function in JAX requires a key to be specified. Random functions consume the key, but do not modify it. Feeding the same key to a random function will always result in the same sample being generated:"
   ]
  },
  {
   "cell_type": "code",
   "execution_count": 71,
   "metadata": {
    "id": "Tc_Tsv06Fz3l",
    "outputId": "1472ae73-edbf-4163-9992-46781d258014"
   },
   "outputs": [
    {
     "name": "stdout",
     "output_type": "stream",
     "text": [
      "-0.18471177\n",
      "-0.18471177\n"
     ]
    }
   ],
   "source": [
    "print(random.normal(key))\n",
    "print(random.normal(key))"
   ]
  },
  {
   "cell_type": "markdown",
   "metadata": {
    "id": "foUEgtmTesOx"
   },
   "source": [
    "**Note:** Feeding the same key to different random functions can result in correlated outputs, which is generally undesirable. \n",
    "\n",
    "**The rule of thumb is: never reuse keys (unless you want identical outputs).**"
   ]
  },
  {
   "cell_type": "markdown",
   "metadata": {
    "id": "T4dOLP0GGJuB"
   },
   "source": [
    "In order to generate different and independent samples, you must `split()` the key *yourself* whenever you want to call a random function:"
   ]
  },
  {
   "cell_type": "code",
   "execution_count": 76,
   "metadata": {
    "id": "qChuz1C9CSJe",
    "outputId": "f6eb1dc3-d83c-45ef-d90e-5a12d36fa7e6"
   },
   "outputs": [
    {
     "name": "stdout",
     "output_type": "stream",
     "text": [
      "old key [ 0 42]\n",
      "  \\---SPLIT --> new key    [2465931498 3679230171]\n",
      "  \\--> new subkey [255383827 267815257] --> normal 1.3694694\n"
     ]
    }
   ],
   "source": [
    "print(\"old key\", key)\n",
    "new_key, subkey = random.split(key)\n",
    "del key  # The old key is discarded -- we must never use it again.\n",
    "normal_sample = random.normal(subkey)\n",
    "print(r\"  \\---SPLIT --> new key   \", new_key)\n",
    "print(r\"  \\--> new subkey\", subkey, \"--> normal\", normal_sample)\n",
    "del subkey   # The subkey is also discarded after use.\n",
    "\n",
    "# Note: you don't actually need to `del` keys -- that's just for emphasis.\n",
    "# Not reusing the same values is enough.\n",
    "\n",
    "key = new_key "
   ]
  },
  {
   "cell_type": "markdown",
   "metadata": {
    "id": "WKQMJQB6cGhV"
   },
   "source": [
    "`split()` is a deterministic function that converts one `key` into several independent (in the pseudorandomness sense) keys. We keep one of the outputs as the `new_key`, and can safely use the unique extra key (called `subkey`) as input into a random function, and then discard it forever.\n",
    "\n",
    "If you wanted to get another sample from the normal distribution, you would split `key` again, and so on. The crucial point is that you never use the same PRNGKey twice. Since `split()` takes a key as its argument, we must throw away that old key when we split it.\n",
    "\n",
    "Usually, the above example would be written concisely as"
   ]
  },
  {
   "cell_type": "code",
   "execution_count": 73,
   "metadata": {
    "id": "Xkt5OYjHjWiP"
   },
   "outputs": [],
   "source": [
    "key, subkey = random.split(key)"
   ]
  },
  {
   "cell_type": "markdown",
   "metadata": {
    "id": "ULmPVyd9jWSv"
   },
   "source": [
    "which discards the old key automatically."
   ]
  },
  {
   "cell_type": "markdown",
   "metadata": {
    "id": "dlaAsObh68R1"
   },
   "source": [
    "It's worth noting that `split()` can create as many keys as you need, not just 2:"
   ]
  },
  {
   "cell_type": "code",
   "execution_count": 74,
   "metadata": {
    "id": "hbHZP2xM7Egf"
   },
   "outputs": [],
   "source": [
    "key, *forty_two_subkeys = random.split(key, num=43)"
   ]
  },
  {
   "cell_type": "markdown",
   "metadata": {
    "id": "Fhu7ejhLB4R_"
   },
   "source": [
    "Another difference between NumPy's and JAX's random modules relates to the sequential equivalence guarantee mentioned above.\n",
    "\n",
    "As in NumPy, JAX's random module also allows sampling of vectors of numbers.\n",
    "However, JAX does not provide a sequential equivalence guarantee, because doing so would interfere with the vectorization on SIMD hardware (requirement #3 above).\n",
    "\n",
    "In the example below, sampling 3 values out of a normal distribution individually using three subkeys gives a different result to using giving a single key and specifying `shape=(3,)`:"
   ]
  },
  {
   "cell_type": "code",
   "execution_count": 75,
   "metadata": {
    "id": "4nB_TA54D-HT",
    "outputId": "2f259f63-3c45-46c8-f597-4e53dc63cb56"
   },
   "outputs": [
    {
     "name": "stdout",
     "output_type": "stream",
     "text": [
      "individually: [-0.04838832  0.10796154 -1.2226542 ]\n",
      "all at once:  [ 0.18693547 -1.2806505  -1.5593132 ]\n"
     ]
    }
   ],
   "source": [
    "key = random.PRNGKey(42)\n",
    "subkeys = random.split(key, 3)\n",
    "sequence = np.stack([random.normal(subkey) for subkey in subkeys])\n",
    "print(\"individually:\", sequence)\n",
    "\n",
    "key = random.PRNGKey(42)\n",
    "print(\"all at once: \", random.normal(key, shape=(3,)))"
   ]
  }
 ],
 "metadata": {
  "colab": {
   "authorship_tag": "ABX9TyO7vkF2jbeRfOPGmj76jpJo",
   "collapsed_sections": [],
   "include_colab_link": true,
   "name": "SVM with JAX.ipynb",
   "provenance": []
  },
  "kernelspec": {
   "display_name": "Python 3 (ipykernel)",
   "language": "python",
   "name": "python3"
  },
  "language_info": {
   "codemirror_mode": {
    "name": "ipython",
    "version": 3
   },
   "file_extension": ".py",
   "mimetype": "text/x-python",
   "name": "python",
   "nbconvert_exporter": "python",
   "pygments_lexer": "ipython3",
   "version": "3.9.10"
  }
 },
 "nbformat": 4,
 "nbformat_minor": 1
}
