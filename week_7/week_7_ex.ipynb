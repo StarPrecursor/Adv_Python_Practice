{
  "nbformat": 4,
  "nbformat_minor": 0,
  "metadata": {
    "colab": {
      "provenance": [],
      "collapsed_sections": [],
      "authorship_tag": "ABX9TyMaLjRgj8IJkZz+SSslQHBy",
      "include_colab_link": true
    },
    "kernelspec": {
      "name": "python3",
      "display_name": "Python 3"
    },
    "language_info": {
      "name": "python"
    }
  },
  "cells": [
    {
      "cell_type": "markdown",
      "metadata": {
        "id": "view-in-github",
        "colab_type": "text"
      },
      "source": [
        "<a href=\"https://colab.research.google.com/github/StarPrecursor/Adv_Python_Practice/blob/main/week_7/week_7_ex.ipynb\" target=\"_parent\"><img src=\"https://colab.research.google.com/assets/colab-badge.svg\" alt=\"Open In Colab\"/></a>"
      ]
    },
    {
      "cell_type": "markdown",
      "source": [
        "# Week 7 excercise\n",
        "\n",
        "Please parse a website using aiohttp module and write the content to file with aiofiles module."
      ],
      "metadata": {
        "id": "iVRJmBYNrVxx"
      }
    },
    {
      "cell_type": "markdown",
      "source": [
        "## Prepare"
      ],
      "metadata": {
        "id": "_USo4o_5rcyf"
      }
    },
    {
      "cell_type": "code",
      "execution_count": 1,
      "metadata": {
        "id": "Rg0xaU9tmCO1"
      },
      "outputs": [],
      "source": [
        "!pip install aiohttp --quiet\n",
        "!pip install aiofiles --quiet\n",
        "!pip install nest_asyncio --quiet"
      ]
    },
    {
      "cell_type": "code",
      "source": [
        "import pathlib\n",
        "from google.colab import drive\n",
        "drive.mount('/content/gdrive')\n",
        "\n",
        "save_dir = pathlib.Path(\"/content/gdrive/MyDrive/tmp\")\n",
        "save_dir.is_dir()"
      ],
      "metadata": {
        "colab": {
          "base_uri": "https://localhost:8080/"
        },
        "id": "kDGUoZjyzF-f",
        "outputId": "9bb6f7b5-5500-46b7-d07a-e4ef5bf05f20"
      },
      "execution_count": 2,
      "outputs": [
        {
          "output_type": "stream",
          "name": "stdout",
          "text": [
            "Drive already mounted at /content/gdrive; to attempt to forcibly remount, call drive.mount(\"/content/gdrive\", force_remount=True).\n"
          ]
        },
        {
          "output_type": "execute_result",
          "data": {
            "text/plain": [
              "True"
            ]
          },
          "metadata": {},
          "execution_count": 2
        }
      ]
    },
    {
      "cell_type": "markdown",
      "source": [
        "## Function"
      ],
      "metadata": {
        "id": "Ld2syLMVsE3R"
      }
    },
    {
      "cell_type": "code",
      "source": [
        "from lxml import etree\n",
        "\n",
        "import asyncio\n",
        "import aiohttp\n",
        "import aiofiles\n",
        "import nest_asyncio\n",
        "\n",
        "nest_asyncio.apply()"
      ],
      "metadata": {
        "id": "k75Eedl-rUJl"
      },
      "execution_count": 3,
      "outputs": []
    },
    {
      "cell_type": "code",
      "source": [
        "async def get_html(session, url, id):\n",
        "  async with session.request('GET', url) as resp:\n",
        "    html = await resp.read()\n",
        "    title = etree.HTML(html).xpath('//h1[contains(@class, \"title\")]/text()')[0]\n",
        "    title = str(title)\n",
        "    print(f\"id={id}, title={title}\")\n",
        "\n",
        "    file_name = save_dir / \"titles.txt\"\n",
        "    async with aiofiles.open(file_name, \"a+\") as f:\n",
        "      await f.write(f\"id={id}, title={title} \\n\")\n",
        "\n",
        "    return await resp.release()\n",
        "\n",
        "async def execute(url, id):\n",
        "  async with aiohttp.ClientSession() as session:\n",
        "    html = await get_html(session, url, id)"
      ],
      "metadata": {
        "id": "7MZr8uGZrmZj"
      },
      "execution_count": 4,
      "outputs": []
    },
    {
      "cell_type": "markdown",
      "source": [
        "## Run"
      ],
      "metadata": {
        "id": "V9fSe14nwEQG"
      }
    },
    {
      "cell_type": "code",
      "source": [
        "urls = [f\"https://arxiv.org/abs/2201.000{i:02d}\" for i in range(1, 11)]\n",
        "\n",
        "loop = asyncio.get_event_loop()\n",
        "tasks = [execute(url, i) for i, url in enumerate(urls)]\n",
        "col = loop.run_until_complete(asyncio.gather(*tasks))"
      ],
      "metadata": {
        "colab": {
          "base_uri": "https://localhost:8080/"
        },
        "id": "CjUXlgGswDLk",
        "outputId": "c126332d-7a6c-4d2c-b756-a0f1a23a0731"
      },
      "execution_count": 5,
      "outputs": [
        {
          "output_type": "stream",
          "name": "stdout",
          "text": [
            "id=2, title=Simulating local fields in carbon nanotube reinforced composites for infinite strip with voids\n",
            "id=3, title=Robust reliability-based topology optimization under random-field material model\n",
            "id=0, title=Modeling Advection on Directed Graphs using Matérn Gaussian Processes for Traffic Flow\n",
            "id=7, title=A Lightweight and Accurate Spatial-Temporal Transformer for Traffic Forecasting\n",
            "id=1, title=Time-Dependent Duhamel Renormalization method with Multiple Conservation and Dissipation Laws\n",
            "id=8, title=Improving Deep Neural Network Classification Confidence using Heatmap-based eXplainable AI\n",
            "id=9, title=Locally finite free space as limiting case of PT-symmetric medium\n",
            "id=6, title=Confidence-Aware Multi-Teacher Knowledge Distillation\n",
            "id=4, title=A Literature Review on Length of Stay Prediction for Stroke Patients using Machine Learning and Statistical Approaches\n",
            "id=5, title=AttentionLight: Rethinking queue length and attention mechanism for traffic signal control\n"
          ]
        }
      ]
    },
    {
      "cell_type": "markdown",
      "source": [
        "## Check output file"
      ],
      "metadata": {
        "id": "_fqT3d-b-cfv"
      }
    },
    {
      "cell_type": "code",
      "source": [
        "with open(save_dir / \"titles.txt\", \"r\") as f:\n",
        "  print(f.read())"
      ],
      "metadata": {
        "colab": {
          "base_uri": "https://localhost:8080/"
        },
        "id": "0pL6SeoA8-D2",
        "outputId": "5e8cfb15-c474-492f-9ea3-44a2e3f705df"
      },
      "execution_count": 6,
      "outputs": [
        {
          "output_type": "stream",
          "name": "stdout",
          "text": [
            "id=2, title=Simulating local fields in carbon nanotube reinforced composites for infinite strip with voids \n",
            "id=3, title=Robust reliability-based topology optimization under random-field material model \n",
            "id=0, title=Modeling Advection on Directed Graphs using Matérn Gaussian Processes for Traffic Flow \n",
            "id=7, title=A Lightweight and Accurate Spatial-Temporal Transformer for Traffic Forecasting \n",
            "id=1, title=Time-Dependent Duhamel Renormalization method with Multiple Conservation and Dissipation Laws \n",
            "id=8, title=Improving Deep Neural Network Classification Confidence using Heatmap-based eXplainable AI \n",
            "id=9, title=Locally finite free space as limiting case of PT-symmetric medium \n",
            "id=6, title=Confidence-Aware Multi-Teacher Knowledge Distillation \n",
            "id=4, title=A Literature Review on Length of Stay Prediction for Stroke Patients using Machine Learning and Statistical Approaches \n",
            "id=5, title=AttentionLight: Rethinking queue length and attention mechanism for traffic signal control \n",
            "\n"
          ]
        }
      ]
    }
  ]
}