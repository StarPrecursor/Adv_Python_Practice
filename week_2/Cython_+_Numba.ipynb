{
  "nbformat": 4,
  "nbformat_minor": 0,
  "metadata": {
    "colab": {
      "name": "Cython + Numba",
      "provenance": [],
      "collapsed_sections": []
    },
    "kernelspec": {
      "name": "python3",
      "display_name": "Python 3"
    },
    "language_info": {
      "name": "python"
    }
  },
  "cells": [
    {
      "cell_type": "markdown",
      "source": [
        "# Cython\n",
        "Cython is an optimising static compiler for both the Python programming language and the extended Cython programming language.\n",
        "\n",
        "It can speed tup the numerical computations in python.\n",
        "\n",
        "Refer to the book for compiling Cython files to Cython extension. Here we will focus on the properties of Cython."
      ],
      "metadata": {
        "id": "XYeM8960iTt4"
      }
    },
    {
      "cell_type": "markdown",
      "source": [
        "### Introduction"
      ],
      "metadata": {
        "id": "-ZZtLzO_n4i9"
      }
    },
    {
      "cell_type": "code",
      "source": [
        "import cython\n",
        "import pandas as pd\n",
        "%load_ext Cython"
      ],
      "metadata": {
        "id": "SRZwUY0h1ck4"
      },
      "execution_count": null,
      "outputs": []
    },
    {
      "cell_type": "code",
      "source": [
        "%%cython \n",
        "## Cython cell magic.\n",
        "# To declare the variable, just append cdef before the usual c dataType declaration. \n",
        "# For full list: refer to the Cython version of numpy https://github.com/cython/cython/blob/master/Cython/Includes/numpy/__init__.pxd#L325\n",
        "cdef int i1\n",
        "cdef long i2 \n",
        "cdef short i3 = 0\n",
        "cdef long double i4\n",
        "i1 = 1\n",
        "i4 = 3.14"
      ],
      "metadata": {
        "id": "-bd7gUJvkUfz"
      },
      "execution_count": null,
      "outputs": []
    },
    {
      "cell_type": "markdown",
      "source": [
        "Following is a simple example that demonstrates the speed up from Cython."
      ],
      "metadata": {
        "id": "OH9E9xzhlU40"
      }
    },
    {
      "cell_type": "code",
      "source": [
        "%%cython \n",
        "## Cython cell magic\n",
        "def example():\n",
        "  cdef int i, j = 0 \n",
        "  for i in range(0, 1000):\n",
        "    j+=1\n",
        "  return j\n",
        "  \n",
        "def example_py():\n",
        "  j = 0\n",
        "  for i in range(0, 1000):\n",
        "    j+=1\n",
        "  return j"
      ],
      "metadata": {
        "id": "yCL5WA711E89"
      },
      "execution_count": null,
      "outputs": []
    },
    {
      "cell_type": "code",
      "source": [
        "%timeit example()\n",
        "%timeit example_py()"
      ],
      "metadata": {
        "colab": {
          "base_uri": "https://localhost:8080/"
        },
        "id": "0BZFvThKjGnJ",
        "outputId": "2af282d3-3b3f-48f0-8a50-bc39080150af"
      },
      "execution_count": null,
      "outputs": [
        {
          "output_type": "stream",
          "name": "stdout",
          "text": [
            "The slowest run took 37.44 times longer than the fastest. This could mean that an intermediate result is being cached.\n",
            "10000000 loops, best of 5: 66.8 ns per loop\n",
            "100000 loops, best of 5: 12.2 µs per loop\n"
          ]
        }
      ]
    },
    {
      "cell_type": "markdown",
      "source": [
        "The speed up is from the fact that Cython converts the for loop into pure C and then machine code, so it no longer need to rely on the slow interpreter to look up the data type of $j$ every single time. \n",
        "\n",
        "The reason why the slowest run is so slow is likely because the first time we run this code, it will need to do compiling.\n",
        "\n",
        "However, if we declare the type of j to be object, then python will need to look up the type, so we won't see the performance improvement. As below"
      ],
      "metadata": {
        "id": "gMoeIcZsmC8C"
      }
    },
    {
      "cell_type": "code",
      "source": [
        "%%cython\n",
        "def example_object():\n",
        "  cdef object i, j = 0\n",
        "  for i in range(0, 1000):\n",
        "    j+=1\n",
        "  return j"
      ],
      "metadata": {
        "id": "g2sicdCBm3FP"
      },
      "execution_count": null,
      "outputs": []
    },
    {
      "cell_type": "code",
      "source": [
        "%timeit example_object()"
      ],
      "metadata": {
        "colab": {
          "base_uri": "https://localhost:8080/"
        },
        "id": "6sz6Y2wbl_Jn",
        "outputId": "2a2aa1c1-2809-452e-af7f-7bb8e34cd1d7"
      },
      "execution_count": null,
      "outputs": [
        {
          "output_type": "stream",
          "name": "stdout",
          "text": [
            "10000 loops, best of 5: 23.7 µs per loop\n"
          ]
        }
      ]
    },
    {
      "cell_type": "markdown",
      "source": [
        "As you may thought, once the variable is declared, you can not assign value of a different type to it (unless it is broadcastable)"
      ],
      "metadata": {
        "id": "Bt9T0kWQnAdh"
      }
    },
    {
      "cell_type": "code",
      "source": [
        "%%cython\n",
        "cdef int a = 0\n",
        "a = 1.0"
      ],
      "metadata": {
        "colab": {
          "base_uri": "https://localhost:8080/"
        },
        "id": "DuPmBlFim7jr",
        "outputId": "8499256e-35da-4db8-f7a8-27ad7de4562c"
      },
      "execution_count": null,
      "outputs": [
        {
          "output_type": "stream",
          "name": "stderr",
          "text": [
            "\n",
            "Error compiling Cython file:\n",
            "------------------------------------------------------------\n",
            "...\n",
            "cdef int a = 0\n",
            "a = 1.0\n",
            "   ^\n",
            "------------------------------------------------------------\n",
            "\n",
            "/root/.cache/ipython/cython/_cython_magic_82cd978dafde37a8891d4e62b5168ffc.pyx:2:4: Cannot assign type 'double' to 'int'\n"
          ]
        }
      ]
    },
    {
      "cell_type": "code",
      "source": [
        "%%cython\n",
        "cdef double a = 0.0\n",
        "a = 1\n",
        "cdef int b = 2\n",
        "a = <double> b # This is how you can cast the type"
      ],
      "metadata": {
        "id": "PNhqkj7k1Fit"
      },
      "execution_count": null,
      "outputs": []
    },
    {
      "cell_type": "markdown",
      "source": [
        "### Functions\n",
        "cdef returnType  declares a cython function. The problem is that you can only call this cython function from a cython function or python function in the same cython file. If you want to call it externally, you need to write a python function wrapper.\n",
        "\n",
        "Book is wrong by stating that cython function can only be called from another cython function. In fact \"Within a Cython module, Python functions and C functions can call each other freely, but only Python functions can be called from outside the module by interpreted Python code.\"\n",
        "\n",
        "cpdef generates a cdef and a def, the def will call cdef.\n",
        "\n",
        "only use cdef if you are going to call the function often\n"
      ],
      "metadata": {
        "id": "Zbuwmrlxn1Bl"
      }
    },
    {
      "cell_type": "code",
      "source": [
        "%%cython\n",
        "\n",
        "def sum_python(int a, int b):\n",
        "  return a + b\n",
        "\n",
        "def sum_python_loop():\n",
        "  for i in range(0, 1000):\n",
        "    sum_python(i,i)\n",
        "\n",
        "cdef int sum_cython(int a, int b):\n",
        "  return a + b\n",
        "\n",
        "def sum_cython_loop():\n",
        "  for i in range(0, 1000):\n",
        "    sum_cython(i,i) # It works\n",
        "\n",
        "cpdef int sum_cpython(int a, int b):\n",
        "  return a + b\n",
        "\n",
        "def sum_cpython_loop():\n",
        "  for i in range(0, 1000):\n",
        "    sum_cpython(i,i)\n",
        "\n",
        "cpdef inline int sum_cpython_inline(int a, int b):\n",
        "  return a + b # It will compile into an inline function\n",
        "\n",
        "def sum_cpython_inline_loop():\n",
        "  for i in range(0, 1000):\n",
        "    sum_cpython_inline(i,i)"
      ],
      "metadata": {
        "id": "gwlhJvrD2njF"
      },
      "execution_count": null,
      "outputs": []
    },
    {
      "cell_type": "code",
      "source": [
        "%timeit sum_python_loop()"
      ],
      "metadata": {
        "colab": {
          "base_uri": "https://localhost:8080/"
        },
        "id": "QrSgyq_prby2",
        "outputId": "044174ee-e99b-4fbf-b96b-2ec45c6a09c2"
      },
      "execution_count": null,
      "outputs": [
        {
          "output_type": "stream",
          "name": "stdout",
          "text": [
            "10000 loops, best of 5: 76.4 µs per loop\n"
          ]
        }
      ]
    },
    {
      "cell_type": "code",
      "source": [
        "%timeit sum_cython_loop()"
      ],
      "metadata": {
        "colab": {
          "base_uri": "https://localhost:8080/"
        },
        "id": "VV2bJSnjrgSr",
        "outputId": "2bcb1bad-550f-4ff3-a2b7-5dc3d55ef1dd"
      },
      "execution_count": null,
      "outputs": [
        {
          "output_type": "stream",
          "name": "stdout",
          "text": [
            "The slowest run took 35.90 times longer than the fastest. This could mean that an intermediate result is being cached.\n",
            "10000000 loops, best of 5: 45.8 ns per loop\n"
          ]
        }
      ]
    },
    {
      "cell_type": "code",
      "source": [
        "%timeit sum_cpython_loop()"
      ],
      "metadata": {
        "colab": {
          "base_uri": "https://localhost:8080/"
        },
        "id": "wGOIQSx2tyjx",
        "outputId": "3c8e9395-6f00-4d67-f569-cc29c70f22f6"
      },
      "execution_count": null,
      "outputs": [
        {
          "output_type": "stream",
          "name": "stdout",
          "text": [
            "The slowest run took 39.67 times longer than the fastest. This could mean that an intermediate result is being cached.\n",
            "10000000 loops, best of 5: 46.5 ns per loop\n"
          ]
        }
      ]
    },
    {
      "cell_type": "code",
      "source": [
        "%timeit sum_cpython_inline_loop()"
      ],
      "metadata": {
        "colab": {
          "base_uri": "https://localhost:8080/"
        },
        "id": "rMAlT_JRuD5R",
        "outputId": "c49f36de-96a7-4a5e-fa54-e6f084cb90d2"
      },
      "execution_count": null,
      "outputs": [
        {
          "output_type": "stream",
          "name": "stdout",
          "text": [
            "The slowest run took 45.70 times longer than the fastest. This could mean that an intermediate result is being cached.\n",
            "10000000 loops, best of 5: 54.8 ns per loop\n"
          ]
        }
      ]
    },
    {
      "cell_type": "markdown",
      "source": [
        "### Classes\n",
        "A simple example of a class is shown below.\n"
      ],
      "metadata": {
        "id": "bN0Bn0fgwM5n"
      }
    },
    {
      "cell_type": "code",
      "source": [
        "%%cython\n",
        "\n",
        "cdef class Point:\n",
        "    cdef double x # only viewable to cython\n",
        "    cdef readonly double y # only readable, not writable\n",
        "    cdef public double dist # can be read from python file\n",
        "    def __init__(self, double x, double y):\n",
        "        self.x = x\n",
        "        self.y = y\n",
        "        self.dist = (self.x**2 + self.y**2) ** 0.5\n",
        "\n",
        "    cdef void move(self, double dx, double dy):\n",
        "        self.x = self.x + dx\n",
        "        self.y = self.y + dy"
      ],
      "metadata": {
        "id": "80VKaoTvwMIF"
      },
      "execution_count": null,
      "outputs": []
    },
    {
      "cell_type": "code",
      "source": [
        "p = Point(0.1,0.2)\n",
        "print(p.y)\n",
        "print(p.dist)\n",
        "p.dist = 10\n",
        "print(p.dist)\n",
        "p.x"
      ],
      "metadata": {
        "colab": {
          "base_uri": "https://localhost:8080/",
          "height": 252
        },
        "id": "3LqOmpER2oKb",
        "outputId": "2e36a29c-189c-4688-eea5-2af414a5fd24"
      },
      "execution_count": null,
      "outputs": [
        {
          "output_type": "stream",
          "name": "stdout",
          "text": [
            "0.2\n",
            "0.223606797749979\n",
            "10.0\n"
          ]
        },
        {
          "output_type": "error",
          "ename": "AttributeError",
          "evalue": "ignored",
          "traceback": [
            "\u001b[0;31m---------------------------------------------------------------------------\u001b[0m",
            "\u001b[0;31mAttributeError\u001b[0m                            Traceback (most recent call last)",
            "\u001b[0;32m<ipython-input-76-cd71bb74f146>\u001b[0m in \u001b[0;36m<module>\u001b[0;34m()\u001b[0m\n\u001b[1;32m      4\u001b[0m \u001b[0mp\u001b[0m\u001b[0;34m.\u001b[0m\u001b[0mdist\u001b[0m \u001b[0;34m=\u001b[0m \u001b[0;36m10\u001b[0m\u001b[0;34m\u001b[0m\u001b[0;34m\u001b[0m\u001b[0m\n\u001b[1;32m      5\u001b[0m \u001b[0mprint\u001b[0m\u001b[0;34m(\u001b[0m\u001b[0mp\u001b[0m\u001b[0;34m.\u001b[0m\u001b[0mdist\u001b[0m\u001b[0;34m)\u001b[0m\u001b[0;34m\u001b[0m\u001b[0;34m\u001b[0m\u001b[0m\n\u001b[0;32m----> 6\u001b[0;31m \u001b[0mp\u001b[0m\u001b[0;34m.\u001b[0m\u001b[0mx\u001b[0m\u001b[0;34m\u001b[0m\u001b[0;34m\u001b[0m\u001b[0m\n\u001b[0m",
            "\u001b[0;31mAttributeError\u001b[0m: '_cython_magic_14fd96aa5cee4894429a73b06b40baf5.Poi' object has no attribute 'x'"
          ]
        }
      ]
    },
    {
      "cell_type": "markdown",
      "source": [
        "### Declarations\n",
        "\n",
        "To use cython function in another cython file (myfile.pyx), write a definition file in (myfile.pxd) extension, such as:\n",
        "cdef int max(int a, int b)\n",
        "\n",
        "in your cython file, import by calling\n",
        "from myfile import max"
      ],
      "metadata": {
        "id": "MWP7lMLE50Oy"
      }
    },
    {
      "cell_type": "markdown",
      "source": [
        "### C Array"
      ],
      "metadata": {
        "id": "By4N3b3P6Zuf"
      }
    },
    {
      "cell_type": "code",
      "source": [
        "%%cython\n",
        "cdef double a = 3\n",
        "cdef double *a_pointer # declare the pointer as you do in C\n",
        "a_pointer = &a # Assign the address to the pointer as you do in C\n",
        "print(a_pointer[0]) # To grab the value, we use the zero notation."
      ],
      "metadata": {
        "colab": {
          "base_uri": "https://localhost:8080/"
        },
        "id": "77D8zdZr5UUM",
        "outputId": "fa4880d1-9b69-40fb-da4c-640c6673a52f"
      },
      "execution_count": null,
      "outputs": [
        {
          "output_type": "stream",
          "name": "stdout",
          "text": [
            "3.0\n"
          ]
        }
      ]
    },
    {
      "cell_type": "code",
      "source": [
        "%%cython\n",
        "cdef double arr[10] # 1-D array declaration\n",
        "cdef double arr52[5][2] # 2-D array declaration\n",
        "\n",
        "# Cython is row major just like python. Row major means \n",
        "# 0 1\n",
        "# 2 3\n",
        "# 4 5\n",
        "# 6 7\n",
        "# 8 9\n",
        "# for 5 x 2 matrix\n",
        "cpdef iter_col_row():\n",
        "    cdef double arr[1000][1000]\n",
        "    cdef i = 0\n",
        "    cdef j = 0\n",
        "    for i in range(0, 1000):\n",
        "      for j in range(0,1000):\n",
        "        arr[i][j] = 1\n",
        "\n",
        "cpdef iter_row_col():\n",
        "    cdef double arr[1000][1000]\n",
        "    cdef i = 0\n",
        "    cdef j = 0\n",
        "    for i in range(0, 1000):\n",
        "      for j in range(0,1000):\n",
        "        arr[j][i] = 1"
      ],
      "metadata": {
        "id": "1kWY4_B172A8"
      },
      "execution_count": null,
      "outputs": []
    },
    {
      "cell_type": "code",
      "source": [
        "# However, doesn't seem to matter that much?\n",
        "%timeit iter_col_row()\n",
        "%timeit iter_row_col()"
      ],
      "metadata": {
        "colab": {
          "base_uri": "https://localhost:8080/"
        },
        "id": "nm7mqIFl5BCy",
        "outputId": "f63c0009-f097-4492-c78e-bcb5b50fe66f"
      },
      "execution_count": null,
      "outputs": [
        {
          "output_type": "stream",
          "name": "stdout",
          "text": [
            "100 loops, best of 5: 13.7 ms per loop\n",
            "100 loops, best of 5: 12.9 ms per loop\n"
          ]
        }
      ]
    },
    {
      "cell_type": "code",
      "source": [
        "%%cython\n",
        "from libc.stdio cimport printf\n",
        "cdef double arr[10] # 1-D array declaration\n",
        "printf(\"%p\\n\", arr) # This won't show here. (Run it in python terminal to see it)\n",
        "printf(\"%p\\n\", &arr[0])"
      ],
      "metadata": {
        "id": "UBlWBevxk0xh"
      },
      "execution_count": null,
      "outputs": []
    },
    {
      "cell_type": "markdown",
      "source": [
        "### Cython on Numpy Arrays\n",
        "using numpy array in python will have operation taking place at interpreter level and using cython's version of numpy, you can directly operate on the memory and thus save the overhead cost"
      ],
      "metadata": {
        "id": "EWJlvLqemk8S"
      }
    },
    {
      "cell_type": "code",
      "source": [
        "%%cython\n",
        "cimport numpy as c_np\n",
        "import numpy as np\n",
        "\n",
        "def numpy_bench_py():\n",
        "  py_arr = np.random.rand(1000)\n",
        "  cdef int i\n",
        "  for i in range(1000):\n",
        "    py_arr[i] += 1\n",
        "\n",
        "\n",
        "def numpy_bench_c():\n",
        "  cdef c_np.ndarray[double, ndim=1] c_arr\n",
        "  c_arr = np.random.rand(1000)\n",
        "  cdef int i\n",
        "  for i in range(1000):\n",
        "    c_arr[i] += 1"
      ],
      "metadata": {
        "id": "g2qefH4_mkb2"
      },
      "execution_count": null,
      "outputs": []
    },
    {
      "cell_type": "code",
      "source": [
        "%timeit numpy_bench_c()\n",
        "%timeit numpy_bench_py()"
      ],
      "metadata": {
        "colab": {
          "base_uri": "https://localhost:8080/"
        },
        "id": "OikHkz1UmKpu",
        "outputId": "b2cffea5-87fe-4004-99b5-e9176c12ea75"
      },
      "execution_count": null,
      "outputs": [
        {
          "output_type": "stream",
          "name": "stdout",
          "text": [
            "The slowest run took 10.54 times longer than the fastest. This could mean that an intermediate result is being cached.\n",
            "100000 loops, best of 5: 10.4 µs per loop\n",
            "1000 loops, best of 5: 270 µs per loop\n"
          ]
        }
      ]
    },
    {
      "cell_type": "markdown",
      "source": [
        "for 2D matrix iteration though, I don't see clear benefit."
      ],
      "metadata": {
        "id": "VXhojQdopgva"
      }
    },
    {
      "cell_type": "markdown",
      "source": [
        "### Memory Views\n",
        "It references to the memory area. Note that the book has some errors again on this topic. Cython memory views and numpys can not be mixed together!!"
      ],
      "metadata": {
        "id": "9ileaweFqbd5"
      }
    },
    {
      "cell_type": "code",
      "source": [
        "%%cython\n",
        "import numpy as np\n",
        "cdef double[:,:] a # This is how you define a memory view in cython\n",
        "a_np = np.random.rand(4,3)\n",
        "a = a_np[2:4, :] # This assigns memory view of the 3rd to 4th rows to a.\n",
        "b_np = np.zeros(3, dtype='float64')\n",
        "a[0,:] = b_np  # Book does this. It throws an error becaue it is assigning numpy array to cython memory view\n",
        "\n",
        "# The correct way is as follows\n",
        "# cdef double[:] b_cython_mv \n",
        "# b_cython_mv = b_np\n",
        "# a[0,:] = b_cython_mv\n",
        "# print(a_np)"
      ],
      "metadata": {
        "id": "WipO68Jl3wTi",
        "colab": {
          "base_uri": "https://localhost:8080/",
          "height": 311
        },
        "outputId": "1c53a504-cb05-4099-a7b9-af73d7f9d83a"
      },
      "execution_count": null,
      "outputs": [
        {
          "output_type": "error",
          "ename": "TypeError",
          "evalue": "ignored",
          "traceback": [
            "\u001b[0;31m---------------------------------------------------------------------------\u001b[0m",
            "\u001b[0;31mTypeError\u001b[0m                                 Traceback (most recent call last)",
            "\u001b[0;32m<ipython-input-69-1f969e89fe24>\u001b[0m in \u001b[0;36m<module>\u001b[0;34m()\u001b[0m\n\u001b[0;32m----> 1\u001b[0;31m \u001b[0mget_ipython\u001b[0m\u001b[0;34m(\u001b[0m\u001b[0;34m)\u001b[0m\u001b[0;34m.\u001b[0m\u001b[0mrun_cell_magic\u001b[0m\u001b[0;34m(\u001b[0m\u001b[0;34m'cython'\u001b[0m\u001b[0;34m,\u001b[0m \u001b[0;34m''\u001b[0m\u001b[0;34m,\u001b[0m \u001b[0;34m\"import numpy as np\\ncdef double[:,:] a # This is how you define a memory view in cython\\na_np = np.random.rand(4,3)\\na = a_np[2:4, :] # This assigns memory view of the 3rd to 4th rows to a.\\nb_np = np.zeros(3, dtype='float64')\\na[0,:] = b_np  # Book does this. It throws an error becaue it is assigning numpy array to cython memory view\\n\\n# The correct way is as follows\\n# cdef double[:] b_cython_mv \\n# b_cython_mv = b_np\\n# a[0,:] = b_cython_mv\\n# print(a_np)\"\u001b[0m\u001b[0;34m)\u001b[0m\u001b[0;34m\u001b[0m\u001b[0;34m\u001b[0m\u001b[0m\n\u001b[0m",
            "\u001b[0;32m/usr/local/lib/python3.7/dist-packages/IPython/core/interactiveshell.py\u001b[0m in \u001b[0;36mrun_cell_magic\u001b[0;34m(self, magic_name, line, cell)\u001b[0m\n\u001b[1;32m   2115\u001b[0m             \u001b[0mmagic_arg_s\u001b[0m \u001b[0;34m=\u001b[0m \u001b[0mself\u001b[0m\u001b[0;34m.\u001b[0m\u001b[0mvar_expand\u001b[0m\u001b[0;34m(\u001b[0m\u001b[0mline\u001b[0m\u001b[0;34m,\u001b[0m \u001b[0mstack_depth\u001b[0m\u001b[0;34m)\u001b[0m\u001b[0;34m\u001b[0m\u001b[0;34m\u001b[0m\u001b[0m\n\u001b[1;32m   2116\u001b[0m             \u001b[0;32mwith\u001b[0m \u001b[0mself\u001b[0m\u001b[0;34m.\u001b[0m\u001b[0mbuiltin_trap\u001b[0m\u001b[0;34m:\u001b[0m\u001b[0;34m\u001b[0m\u001b[0;34m\u001b[0m\u001b[0m\n\u001b[0;32m-> 2117\u001b[0;31m                 \u001b[0mresult\u001b[0m \u001b[0;34m=\u001b[0m \u001b[0mfn\u001b[0m\u001b[0;34m(\u001b[0m\u001b[0mmagic_arg_s\u001b[0m\u001b[0;34m,\u001b[0m \u001b[0mcell\u001b[0m\u001b[0;34m)\u001b[0m\u001b[0;34m\u001b[0m\u001b[0;34m\u001b[0m\u001b[0m\n\u001b[0m\u001b[1;32m   2118\u001b[0m             \u001b[0;32mreturn\u001b[0m \u001b[0mresult\u001b[0m\u001b[0;34m\u001b[0m\u001b[0;34m\u001b[0m\u001b[0m\n\u001b[1;32m   2119\u001b[0m \u001b[0;34m\u001b[0m\u001b[0m\n",
            "\u001b[0;32m<decorator-gen-117>\u001b[0m in \u001b[0;36mcython\u001b[0;34m(self, line, cell)\u001b[0m\n",
            "\u001b[0;32m/usr/local/lib/python3.7/dist-packages/IPython/core/magic.py\u001b[0m in \u001b[0;36m<lambda>\u001b[0;34m(f, *a, **k)\u001b[0m\n\u001b[1;32m    186\u001b[0m     \u001b[0;31m# but it's overkill for just that one bit of state.\u001b[0m\u001b[0;34m\u001b[0m\u001b[0;34m\u001b[0m\u001b[0;34m\u001b[0m\u001b[0m\n\u001b[1;32m    187\u001b[0m     \u001b[0;32mdef\u001b[0m \u001b[0mmagic_deco\u001b[0m\u001b[0;34m(\u001b[0m\u001b[0marg\u001b[0m\u001b[0;34m)\u001b[0m\u001b[0;34m:\u001b[0m\u001b[0;34m\u001b[0m\u001b[0;34m\u001b[0m\u001b[0m\n\u001b[0;32m--> 188\u001b[0;31m         \u001b[0mcall\u001b[0m \u001b[0;34m=\u001b[0m \u001b[0;32mlambda\u001b[0m \u001b[0mf\u001b[0m\u001b[0;34m,\u001b[0m \u001b[0;34m*\u001b[0m\u001b[0ma\u001b[0m\u001b[0;34m,\u001b[0m \u001b[0;34m**\u001b[0m\u001b[0mk\u001b[0m\u001b[0;34m:\u001b[0m \u001b[0mf\u001b[0m\u001b[0;34m(\u001b[0m\u001b[0;34m*\u001b[0m\u001b[0ma\u001b[0m\u001b[0;34m,\u001b[0m \u001b[0;34m**\u001b[0m\u001b[0mk\u001b[0m\u001b[0;34m)\u001b[0m\u001b[0;34m\u001b[0m\u001b[0;34m\u001b[0m\u001b[0m\n\u001b[0m\u001b[1;32m    189\u001b[0m \u001b[0;34m\u001b[0m\u001b[0m\n\u001b[1;32m    190\u001b[0m         \u001b[0;32mif\u001b[0m \u001b[0mcallable\u001b[0m\u001b[0;34m(\u001b[0m\u001b[0marg\u001b[0m\u001b[0;34m)\u001b[0m\u001b[0;34m:\u001b[0m\u001b[0;34m\u001b[0m\u001b[0;34m\u001b[0m\u001b[0m\n",
            "\u001b[0;32m/usr/local/lib/python3.7/dist-packages/Cython/Build/IpythonMagic.py\u001b[0m in \u001b[0;36mcython\u001b[0;34m(self, line, cell)\u001b[0m\n\u001b[1;32m    349\u001b[0m             \u001b[0;32mreturn\u001b[0m \u001b[0;32mNone\u001b[0m\u001b[0;34m\u001b[0m\u001b[0;34m\u001b[0m\u001b[0m\n\u001b[1;32m    350\u001b[0m \u001b[0;34m\u001b[0m\u001b[0m\n\u001b[0;32m--> 351\u001b[0;31m         \u001b[0mmodule\u001b[0m \u001b[0;34m=\u001b[0m \u001b[0mimp\u001b[0m\u001b[0;34m.\u001b[0m\u001b[0mload_dynamic\u001b[0m\u001b[0;34m(\u001b[0m\u001b[0mmodule_name\u001b[0m\u001b[0;34m,\u001b[0m \u001b[0mmodule_path\u001b[0m\u001b[0;34m)\u001b[0m\u001b[0;34m\u001b[0m\u001b[0;34m\u001b[0m\u001b[0m\n\u001b[0m\u001b[1;32m    352\u001b[0m         \u001b[0mself\u001b[0m\u001b[0;34m.\u001b[0m\u001b[0m_import_all\u001b[0m\u001b[0;34m(\u001b[0m\u001b[0mmodule\u001b[0m\u001b[0;34m)\u001b[0m\u001b[0;34m\u001b[0m\u001b[0;34m\u001b[0m\u001b[0m\n\u001b[1;32m    353\u001b[0m \u001b[0;34m\u001b[0m\u001b[0m\n",
            "\u001b[0;32m/usr/lib/python3.7/imp.py\u001b[0m in \u001b[0;36mload_dynamic\u001b[0;34m(name, path, file)\u001b[0m\n\u001b[1;32m    340\u001b[0m         spec = importlib.machinery.ModuleSpec(\n\u001b[1;32m    341\u001b[0m             name=name, loader=loader, origin=path)\n\u001b[0;32m--> 342\u001b[0;31m         \u001b[0;32mreturn\u001b[0m \u001b[0m_load\u001b[0m\u001b[0;34m(\u001b[0m\u001b[0mspec\u001b[0m\u001b[0;34m)\u001b[0m\u001b[0;34m\u001b[0m\u001b[0;34m\u001b[0m\u001b[0m\n\u001b[0m\u001b[1;32m    343\u001b[0m \u001b[0;34m\u001b[0m\u001b[0m\n\u001b[1;32m    344\u001b[0m \u001b[0;32melse\u001b[0m\u001b[0;34m:\u001b[0m\u001b[0;34m\u001b[0m\u001b[0;34m\u001b[0m\u001b[0m\n",
            "\u001b[0;32m/usr/lib/python3.7/importlib/_bootstrap.py\u001b[0m in \u001b[0;36m_load\u001b[0;34m(spec)\u001b[0m\n",
            "\u001b[0;32m/usr/lib/python3.7/importlib/_bootstrap.py\u001b[0m in \u001b[0;36m_load_unlocked\u001b[0;34m(spec)\u001b[0m\n",
            "\u001b[0;32m/usr/lib/python3.7/importlib/_bootstrap_external.py\u001b[0m in \u001b[0;36mexec_module\u001b[0;34m(self, module)\u001b[0m\n",
            "\u001b[0;32m/usr/lib/python3.7/importlib/_bootstrap.py\u001b[0m in \u001b[0;36m_call_with_frames_removed\u001b[0;34m(f, *args, **kwds)\u001b[0m\n",
            "\u001b[0;32m_cython_magic_4aec0e5627749603aa84810d0dfb4446.pyx\u001b[0m in \u001b[0;36minit _cython_magic_4aec0e5627749603aa84810d0dfb4446\u001b[0;34m()\u001b[0m\n",
            "\u001b[0;31mTypeError\u001b[0m: only size-1 arrays can be converted to Python scalars"
          ]
        }
      ]
    },
    {
      "cell_type": "markdown",
      "source": [
        "# Numba\n",
        "\n",
        "Accelerate Python Functions\n",
        "Numba translates Python functions to optimized machine code at runtime using the industry-standard LLVM compiler library. Numba-compiled numerical algorithms in Python can approach the speeds of C or FORTRAN.\n",
        "\n",
        "You don't need to replace the Python interpreter, run a separate compilation step, or even have a C/C++ compiler installed. Just apply one of the Numba decorators to your Python function, and Numba does the rest.\n",
        "\n",
        "Numba uses LLBM to compile python function into internal representation which is a platform-agnostic language that can be compiled to machine code."
      ],
      "metadata": {
        "id": "DLrd3TNjuNYg"
      }
    },
    {
      "cell_type": "code",
      "source": [
        "import numpy as np\n",
        "import numba as nb\n",
        "from numba import jit"
      ],
      "metadata": {
        "id": "KPpe7wc74mfQ"
      },
      "execution_count": null,
      "outputs": []
    },
    {
      "cell_type": "code",
      "source": [
        "@jit(nopython=True)\n",
        "def go_fast(a): # Function is compiled to machine code when called the first time\n",
        "    trace = 0.0\n",
        "    # assuming square input matrix\n",
        "    for i in range(a.shape[0]):   # Numba likes loops\n",
        "        trace += np.tanh(a[i, i]) # Numba likes NumPy functions\n",
        "    return a + trace              # Numba likes NumPy broadcasting"
      ],
      "metadata": {
        "id": "i3f4HPTV4oAW"
      },
      "execution_count": null,
      "outputs": []
    },
    {
      "cell_type": "markdown",
      "source": [
        "The nopython=True option requires that the function be fully compiled (so that the Python interpreter calls are completely removed), otherwise an exception is raised. These exceptions usually indicate places in the function that need to be modified in order to achieve better-than-Python performance. We strongly recommend always using nopython=True.\n",
        "\n",
        "The function has not yet been compiled. To do that, we need to call the function. The first time the function gets called, numba will compile it. (See that timeit shows much longer time in one run vs other runs:"
      ],
      "metadata": {
        "id": "fgQbcgM_5h2p"
      }
    },
    {
      "cell_type": "code",
      "source": [
        "x = np.arange(100).reshape(10, 10)\n",
        "%timeit go_fast(x)\n",
        "%timeit go_fast.py_func(x)"
      ],
      "metadata": {
        "colab": {
          "base_uri": "https://localhost:8080/"
        },
        "id": "m_1yVaeHuen2",
        "outputId": "c213638d-bf5e-48f8-97d4-a03a1732c1c5"
      },
      "execution_count": null,
      "outputs": [
        {
          "output_type": "stream",
          "name": "stdout",
          "text": [
            "The slowest run took 387794.29 times longer than the fastest. This could mean that an intermediate result is being cached.\n",
            "1 loop, best of 5: 1.72 µs per loop\n",
            "The slowest run took 6.26 times longer than the fastest. This could mean that an intermediate result is being cached.\n",
            "10000 loops, best of 5: 21.9 µs per loop\n"
          ]
        }
      ]
    },
    {
      "cell_type": "markdown",
      "source": [
        "# Type Specficalization\n",
        "nb.jit decorator compiles a specialized version of the function once it encounters a new argument type, and it can store what kind of signatures it has seen."
      ],
      "metadata": {
        "id": "NsxiDUa26kaO"
      }
    },
    {
      "cell_type": "code",
      "source": [
        "go_fast.signatures"
      ],
      "metadata": {
        "colab": {
          "base_uri": "https://localhost:8080/"
        },
        "id": "QbloobC_uejY",
        "outputId": "464e28a3-d0b2-4379-a132-44f9d64d07a6"
      },
      "execution_count": null,
      "outputs": [
        {
          "output_type": "execute_result",
          "data": {
            "text/plain": [
              "[(array(int64, 2d, C),)]"
            ]
          },
          "metadata": {},
          "execution_count": 76
        }
      ]
    },
    {
      "cell_type": "code",
      "source": [
        "x = np.random.randn(3,3)\n",
        "go_fast(x)"
      ],
      "metadata": {
        "colab": {
          "base_uri": "https://localhost:8080/"
        },
        "id": "vGzMhGGsuegi",
        "outputId": "637e81ba-c5c8-49a2-f765-b3738f30c6ab"
      },
      "execution_count": null,
      "outputs": [
        {
          "output_type": "execute_result",
          "data": {
            "text/plain": [
              "array([[ 1.76637398,  2.22570811,  1.67952812],\n",
              "       [-0.55878708,  1.63811769,  1.4580265 ],\n",
              "       [ 0.56807631,  0.69671012,  0.66037382]])"
            ]
          },
          "metadata": {},
          "execution_count": 77
        }
      ]
    },
    {
      "cell_type": "code",
      "source": [
        "go_fast.signatures"
      ],
      "metadata": {
        "colab": {
          "base_uri": "https://localhost:8080/"
        },
        "id": "-uwopLy7uasH",
        "outputId": "b9b1fc68-63b2-4042-ddb1-3fbaa2371a16"
      },
      "execution_count": null,
      "outputs": [
        {
          "output_type": "execute_result",
          "data": {
            "text/plain": [
              "[(array(int64, 2d, C),), (array(float64, 2d, C),)]"
            ]
          },
          "metadata": {},
          "execution_count": 78
        }
      ]
    },
    {
      "cell_type": "markdown",
      "source": [
        "You can specify the signatures, but if you do that, then only the specified signatures can be passed into it, or an error will be thrown\n",
        "Full list of signatures can be found here: https://numba.pydata.org/numba-doc/latest/reference/types.html#signatures"
      ],
      "metadata": {
        "id": "e6F-kK3K7qKa"
      }
    },
    {
      "cell_type": "code",
      "source": [
        "@jit([nb.int64(nb.int64[:], nb.int64[:]), nb.int32(nb.int32[:], nb.int32[:])])  # pass a list of signatures [returnTypeA(argA1Type...), returnTypeB(argB1Type...)]\n",
        "def specified_signature(a, b): # Function is compiled to machine code when called the first time\n",
        "  return a[0] + b[0]"
      ],
      "metadata": {
        "id": "xS1hCOSS7RBw"
      },
      "execution_count": null,
      "outputs": []
    },
    {
      "cell_type": "code",
      "source": [
        "specified_signature(np.zeros(3, dtype=int), np.zeros(3, dtype=int))"
      ],
      "metadata": {
        "colab": {
          "base_uri": "https://localhost:8080/"
        },
        "id": "tR_n7JNk-74Q",
        "outputId": "248036da-550d-4580-cf09-45fe0ecdbcc9"
      },
      "execution_count": null,
      "outputs": [
        {
          "output_type": "execute_result",
          "data": {
            "text/plain": [
              "0"
            ]
          },
          "metadata": {},
          "execution_count": 97
        }
      ]
    },
    {
      "cell_type": "code",
      "source": [
        "specified_signature(np.zeros(3, dtype=float), np.zeros(3, dtype=float))  # You can not pass a float typed array to this function"
      ],
      "metadata": {
        "colab": {
          "base_uri": "https://localhost:8080/",
          "height": 287
        },
        "id": "wCdd9aNe_VtB",
        "outputId": "790f8f49-ceca-4b36-c105-137163c756f7"
      },
      "execution_count": null,
      "outputs": [
        {
          "output_type": "error",
          "ename": "TypeError",
          "evalue": "ignored",
          "traceback": [
            "\u001b[0;31m---------------------------------------------------------------------------\u001b[0m",
            "\u001b[0;31mTypeError\u001b[0m                                 Traceback (most recent call last)",
            "\u001b[0;32m<ipython-input-98-63c1cfcfadc0>\u001b[0m in \u001b[0;36m<module>\u001b[0;34m()\u001b[0m\n\u001b[0;32m----> 1\u001b[0;31m \u001b[0mspecified_signature\u001b[0m\u001b[0;34m(\u001b[0m\u001b[0mnp\u001b[0m\u001b[0;34m.\u001b[0m\u001b[0mzeros\u001b[0m\u001b[0;34m(\u001b[0m\u001b[0;36m3\u001b[0m\u001b[0;34m,\u001b[0m \u001b[0mdtype\u001b[0m\u001b[0;34m=\u001b[0m\u001b[0mfloat\u001b[0m\u001b[0;34m)\u001b[0m\u001b[0;34m,\u001b[0m \u001b[0mnp\u001b[0m\u001b[0;34m.\u001b[0m\u001b[0mzeros\u001b[0m\u001b[0;34m(\u001b[0m\u001b[0;36m3\u001b[0m\u001b[0;34m,\u001b[0m \u001b[0mdtype\u001b[0m\u001b[0;34m=\u001b[0m\u001b[0mfloat\u001b[0m\u001b[0;34m)\u001b[0m\u001b[0;34m)\u001b[0m  \u001b[0;31m# You can not pass a float typed array to this function\u001b[0m\u001b[0;34m\u001b[0m\u001b[0;34m\u001b[0m\u001b[0m\n\u001b[0m",
            "\u001b[0;32m/usr/local/lib/python3.7/dist-packages/numba/core/dispatcher.py\u001b[0m in \u001b[0;36m_explain_matching_error\u001b[0;34m(self, *args, **kws)\u001b[0m\n\u001b[1;32m    701\u001b[0m         msg = (\"No matching definition for argument type(s) %s\"\n\u001b[1;32m    702\u001b[0m                % ', '.join(map(str, args)))\n\u001b[0;32m--> 703\u001b[0;31m         \u001b[0;32mraise\u001b[0m \u001b[0mTypeError\u001b[0m\u001b[0;34m(\u001b[0m\u001b[0mmsg\u001b[0m\u001b[0;34m)\u001b[0m\u001b[0;34m\u001b[0m\u001b[0;34m\u001b[0m\u001b[0m\n\u001b[0m\u001b[1;32m    704\u001b[0m \u001b[0;34m\u001b[0m\u001b[0m\n\u001b[1;32m    705\u001b[0m     \u001b[0;32mdef\u001b[0m \u001b[0m_search_new_conversions\u001b[0m\u001b[0;34m(\u001b[0m\u001b[0mself\u001b[0m\u001b[0;34m,\u001b[0m \u001b[0;34m*\u001b[0m\u001b[0margs\u001b[0m\u001b[0;34m,\u001b[0m \u001b[0;34m**\u001b[0m\u001b[0mkws\u001b[0m\u001b[0;34m)\u001b[0m\u001b[0;34m:\u001b[0m\u001b[0;34m\u001b[0m\u001b[0;34m\u001b[0m\u001b[0m\n",
            "\u001b[0;31mTypeError\u001b[0m: No matching definition for argument type(s) array(float64, 1d, C), array(float64, 1d, C)"
          ]
        }
      ]
    },
    {
      "cell_type": "markdown",
      "source": [
        "### Object mode vs native mode\n",
        "When numba cannot infer variable types it wil still try and compile the code, reverting to the interpreter when the types can't be determined or when certain operations are unsupported. In Numba, this is called object mode and contrasts with the interpreter-free scenario called native mode.\n"
      ],
      "metadata": {
        "id": "Wf6ab7EjARkY"
      }
    },
    {
      "cell_type": "code",
      "source": [
        "# @jit(nopython=True)\n",
        "# def go_fast(a): # Function is compiled to machine code when called the first time\n",
        "#     trace = 0.0\n",
        "#     # assuming square input matrix\n",
        "#     for i in range(a.shape[0]):   # Numba likes loops\n",
        "#         trace += np.tanh(a[i, i]) # Numba likes NumPy functions\n",
        "#     return a + trace              # Numba likes NumPy broadcasting"
      ],
      "metadata": {
        "id": "eOJJEtyDB_bE"
      },
      "execution_count": null,
      "outputs": []
    },
    {
      "cell_type": "code",
      "source": [
        "go_fast.inspect_types()"
      ],
      "metadata": {
        "colab": {
          "base_uri": "https://localhost:8080/"
        },
        "id": "5-mmOVc7_c34",
        "outputId": "05f2ea0a-99c1-4ea1-d647-8863a812c70b"
      },
      "execution_count": null,
      "outputs": [
        {
          "output_type": "stream",
          "name": "stdout",
          "text": [
            "go_fast (array(int64, 2d, C),)\n",
            "--------------------------------------------------------------------------------\n",
            "# File: <ipython-input-72-5caf1bd24eed>\n",
            "# --- LINE 1 --- \n",
            "\n",
            "@jit(nopython=True)\n",
            "\n",
            "# --- LINE 2 --- \n",
            "\n",
            "def go_fast(a): # Function is compiled to machine code when called the first time\n",
            "\n",
            "    # --- LINE 3 --- \n",
            "    # label 0\n",
            "    #   a = arg(0, name=a)  :: array(int64, 2d, C)\n",
            "    #   trace = const(float, 0.0)  :: float64\n",
            "    #   trace.2 = trace  :: float64\n",
            "    #   del trace\n",
            "\n",
            "    trace = 0.0\n",
            "\n",
            "    # --- LINE 4 --- \n",
            "\n",
            "    # assuming square input matrix\n",
            "\n",
            "    # --- LINE 5 --- \n",
            "    #   jump 6\n",
            "    # label 6\n",
            "    #   $8load_global.0 = global(range: <class 'range'>)  :: Function(<class 'range'>)\n",
            "    #   $12load_attr.2 = getattr(value=a, attr=shape)  :: UniTuple(int64 x 2)\n",
            "    #   $const14.3 = const(int, 0)  :: Literal[int](0)\n",
            "    #   $16binary_subscr.4 = static_getitem(value=$12load_attr.2, index=0, index_var=$const14.3, fn=<built-in function getitem>)  :: int64\n",
            "    #   del $const14.3\n",
            "    #   del $12load_attr.2\n",
            "    #   $18call_function.5 = call $8load_global.0($16binary_subscr.4, func=$8load_global.0, args=[Var($16binary_subscr.4, <ipython-input-72-5caf1bd24eed>:5)], kws=(), vararg=None, varkwarg=None, target=None)  :: (int64,) -> range_state_int64\n",
            "    #   del $8load_global.0\n",
            "    #   del $16binary_subscr.4\n",
            "    #   $20get_iter.6 = getiter(value=$18call_function.5)  :: range_iter_int64\n",
            "    #   del $18call_function.5\n",
            "    #   $phi22.0 = $20get_iter.6  :: range_iter_int64\n",
            "    #   del $20get_iter.6\n",
            "    #   jump 22\n",
            "    # label 22\n",
            "    #   $22for_iter.1 = iternext(value=$phi22.0)  :: pair<int64, bool>\n",
            "    #   $22for_iter.2 = pair_first(value=$22for_iter.1)  :: int64\n",
            "    #   $22for_iter.3 = pair_second(value=$22for_iter.1)  :: bool\n",
            "    #   del $22for_iter.1\n",
            "    #   $phi24.1 = $22for_iter.2  :: int64\n",
            "    #   del $22for_iter.2\n",
            "    #   branch $22for_iter.3, 24, 50\n",
            "    # label 24\n",
            "    #   del $22for_iter.3\n",
            "    #   i = $phi24.1  :: int64\n",
            "    #   del $phi24.1\n",
            "\n",
            "    for i in range(a.shape[0]):   # Numba likes loops\n",
            "\n",
            "        # --- LINE 6 --- \n",
            "        #   $28load_global.3 = global(np: <module 'numpy' from '/usr/local/lib/python3.7/dist-packages/numpy/__init__.py'>)  :: Module(<module 'numpy' from '/usr/local/lib/python3.7/dist-packages/numpy/__init__.py'>)\n",
            "        #   $30load_method.4 = getattr(value=$28load_global.3, attr=tanh)  :: Function(<ufunc 'tanh'>)\n",
            "        #   del $28load_global.3\n",
            "        #   $38build_tuple.8 = build_tuple(items=[Var(i, <ipython-input-72-5caf1bd24eed>:5), Var(i, <ipython-input-72-5caf1bd24eed>:5)])  :: UniTuple(int64 x 2)\n",
            "        #   del i\n",
            "        #   $40binary_subscr.9 = getitem(value=a, index=$38build_tuple.8, fn=<built-in function getitem>)  :: int64\n",
            "        #   del $38build_tuple.8\n",
            "        #   $42call_method.10 = call $30load_method.4($40binary_subscr.9, func=$30load_method.4, args=[Var($40binary_subscr.9, <ipython-input-72-5caf1bd24eed>:6)], kws=(), vararg=None, varkwarg=None, target=None)  :: (int64,) -> float64\n",
            "        #   del $40binary_subscr.9\n",
            "        #   del $30load_method.4\n",
            "        #   $44inplace_add.11 = inplace_binop(fn=<built-in function iadd>, immutable_fn=<built-in function add>, lhs=trace.2, rhs=$42call_method.10, static_lhs=Undefined, static_rhs=Undefined)  :: float64\n",
            "        #   del $42call_method.10\n",
            "        #   trace.1 = $44inplace_add.11  :: float64\n",
            "        #   del $44inplace_add.11\n",
            "        #   trace.2 = trace.1  :: float64\n",
            "        #   del trace.1\n",
            "        #   jump 22\n",
            "        # label 50\n",
            "\n",
            "        trace += np.tanh(a[i, i]) # Numba likes NumPy functions\n",
            "\n",
            "    # --- LINE 7 --- \n",
            "    #   del $phi24.1\n",
            "    #   del $phi22.0\n",
            "    #   del $22for_iter.3\n",
            "    #   jump 52\n",
            "    # label 52\n",
            "    #   $56binary_add.2 = arrayexpr(expr=(<built-in function add>, [Var(a, <ipython-input-72-5caf1bd24eed>:3), Var(trace.2, <ipython-input-72-5caf1bd24eed>:5)]), ty=array(float64, 2d, C))  :: array(float64, 2d, C)\n",
            "    #   del trace.2\n",
            "    #   del a\n",
            "    #   $58return_value.3 = cast(value=$56binary_add.2)  :: array(float64, 2d, C)\n",
            "    #   del $56binary_add.2\n",
            "    #   return $58return_value.3\n",
            "\n",
            "    return a + trace              # Numba likes NumPy broadcasting\n",
            "\n",
            "\n",
            "================================================================================\n",
            "go_fast (array(float64, 2d, C),)\n",
            "--------------------------------------------------------------------------------\n",
            "# File: <ipython-input-72-5caf1bd24eed>\n",
            "# --- LINE 1 --- \n",
            "\n",
            "@jit(nopython=True)\n",
            "\n",
            "# --- LINE 2 --- \n",
            "\n",
            "def go_fast(a): # Function is compiled to machine code when called the first time\n",
            "\n",
            "    # --- LINE 3 --- \n",
            "    # label 0\n",
            "    #   a = arg(0, name=a)  :: array(float64, 2d, C)\n",
            "    #   trace = const(float, 0.0)  :: float64\n",
            "    #   trace.2 = trace  :: float64\n",
            "    #   del trace\n",
            "\n",
            "    trace = 0.0\n",
            "\n",
            "    # --- LINE 4 --- \n",
            "\n",
            "    # assuming square input matrix\n",
            "\n",
            "    # --- LINE 5 --- \n",
            "    #   jump 6\n",
            "    # label 6\n",
            "    #   $8load_global.0 = global(range: <class 'range'>)  :: Function(<class 'range'>)\n",
            "    #   $12load_attr.2 = getattr(value=a, attr=shape)  :: UniTuple(int64 x 2)\n",
            "    #   $const14.3 = const(int, 0)  :: Literal[int](0)\n",
            "    #   $16binary_subscr.4 = static_getitem(value=$12load_attr.2, index=0, index_var=$const14.3, fn=<built-in function getitem>)  :: int64\n",
            "    #   del $const14.3\n",
            "    #   del $12load_attr.2\n",
            "    #   $18call_function.5 = call $8load_global.0($16binary_subscr.4, func=$8load_global.0, args=[Var($16binary_subscr.4, <ipython-input-72-5caf1bd24eed>:5)], kws=(), vararg=None, varkwarg=None, target=None)  :: (int64,) -> range_state_int64\n",
            "    #   del $8load_global.0\n",
            "    #   del $16binary_subscr.4\n",
            "    #   $20get_iter.6 = getiter(value=$18call_function.5)  :: range_iter_int64\n",
            "    #   del $18call_function.5\n",
            "    #   $phi22.0 = $20get_iter.6  :: range_iter_int64\n",
            "    #   del $20get_iter.6\n",
            "    #   jump 22\n",
            "    # label 22\n",
            "    #   $22for_iter.1 = iternext(value=$phi22.0)  :: pair<int64, bool>\n",
            "    #   $22for_iter.2 = pair_first(value=$22for_iter.1)  :: int64\n",
            "    #   $22for_iter.3 = pair_second(value=$22for_iter.1)  :: bool\n",
            "    #   del $22for_iter.1\n",
            "    #   $phi24.1 = $22for_iter.2  :: int64\n",
            "    #   del $22for_iter.2\n",
            "    #   branch $22for_iter.3, 24, 50\n",
            "    # label 24\n",
            "    #   del $22for_iter.3\n",
            "    #   i = $phi24.1  :: int64\n",
            "    #   del $phi24.1\n",
            "\n",
            "    for i in range(a.shape[0]):   # Numba likes loops\n",
            "\n",
            "        # --- LINE 6 --- \n",
            "        #   $28load_global.3 = global(np: <module 'numpy' from '/usr/local/lib/python3.7/dist-packages/numpy/__init__.py'>)  :: Module(<module 'numpy' from '/usr/local/lib/python3.7/dist-packages/numpy/__init__.py'>)\n",
            "        #   $30load_method.4 = getattr(value=$28load_global.3, attr=tanh)  :: Function(<ufunc 'tanh'>)\n",
            "        #   del $28load_global.3\n",
            "        #   $38build_tuple.8 = build_tuple(items=[Var(i, <ipython-input-72-5caf1bd24eed>:5), Var(i, <ipython-input-72-5caf1bd24eed>:5)])  :: UniTuple(int64 x 2)\n",
            "        #   del i\n",
            "        #   $40binary_subscr.9 = getitem(value=a, index=$38build_tuple.8, fn=<built-in function getitem>)  :: float64\n",
            "        #   del $38build_tuple.8\n",
            "        #   $42call_method.10 = call $30load_method.4($40binary_subscr.9, func=$30load_method.4, args=[Var($40binary_subscr.9, <ipython-input-72-5caf1bd24eed>:6)], kws=(), vararg=None, varkwarg=None, target=None)  :: (float64,) -> float64\n",
            "        #   del $40binary_subscr.9\n",
            "        #   del $30load_method.4\n",
            "        #   $44inplace_add.11 = inplace_binop(fn=<built-in function iadd>, immutable_fn=<built-in function add>, lhs=trace.2, rhs=$42call_method.10, static_lhs=Undefined, static_rhs=Undefined)  :: float64\n",
            "        #   del $42call_method.10\n",
            "        #   trace.1 = $44inplace_add.11  :: float64\n",
            "        #   del $44inplace_add.11\n",
            "        #   trace.2 = trace.1  :: float64\n",
            "        #   del trace.1\n",
            "        #   jump 22\n",
            "        # label 50\n",
            "\n",
            "        trace += np.tanh(a[i, i]) # Numba likes NumPy functions\n",
            "\n",
            "    # --- LINE 7 --- \n",
            "    #   del $phi24.1\n",
            "    #   del $phi22.0\n",
            "    #   del $22for_iter.3\n",
            "    #   jump 52\n",
            "    # label 52\n",
            "    #   $56binary_add.2 = arrayexpr(expr=(<built-in function add>, [Var(a, <ipython-input-72-5caf1bd24eed>:3), Var(trace.2, <ipython-input-72-5caf1bd24eed>:5)]), ty=array(float64, 2d, C))  :: array(float64, 2d, C)\n",
            "    #   del trace.2\n",
            "    #   del a\n",
            "    #   $58return_value.3 = cast(value=$56binary_add.2)  :: array(float64, 2d, C)\n",
            "    #   del $56binary_add.2\n",
            "    #   return $58return_value.3\n",
            "\n",
            "    return a + trace              # Numba likes NumPy broadcasting\n",
            "\n",
            "\n",
            "================================================================================\n"
          ]
        }
      ]
    },
    {
      "cell_type": "markdown",
      "source": [
        "Numba is not a panacea. Numba is bad at str operation at the moment"
      ],
      "metadata": {
        "id": "QsPzczuHDaaL"
      }
    },
    {
      "cell_type": "code",
      "source": [
        "@nb.jit\n",
        "def concatenate(strings):\n",
        "  result = ''\n",
        "  for s in strings:\n",
        "    result += s\n",
        "  return result"
      ],
      "metadata": {
        "id": "07Lv0qH8A-OK"
      },
      "execution_count": null,
      "outputs": []
    },
    {
      "cell_type": "code",
      "source": [
        "concatenate(['hello','world'])"
      ],
      "metadata": {
        "colab": {
          "base_uri": "https://localhost:8080/",
          "height": 226
        },
        "id": "UZSRxKtODqR6",
        "outputId": "35f889a1-b9c8-4ea5-9306-a0c65daa0ae6"
      },
      "execution_count": null,
      "outputs": [
        {
          "output_type": "stream",
          "name": "stderr",
          "text": [
            "/usr/local/lib/python3.7/dist-packages/numba/core/ir_utils.py:2147: NumbaPendingDeprecationWarning: \n",
            "Encountered the use of a type that is scheduled for deprecation: type 'reflected list' found for argument 'strings' of function 'concatenate'.\n",
            "\n",
            "For more information visit https://numba.readthedocs.io/en/stable/reference/deprecation.html#deprecation-of-reflection-for-list-and-set-types\n",
            "\n",
            "File \"<ipython-input-108-1b9535d3a10b>\", line 2:\n",
            "@nb.jit\n",
            "def concatenate(strings):\n",
            "^\n",
            "\n",
            "  warnings.warn(NumbaPendingDeprecationWarning(msg, loc=loc))\n"
          ]
        },
        {
          "output_type": "execute_result",
          "data": {
            "text/plain": [
              "'helloworld'"
            ],
            "application/vnd.google.colaboratory.intrinsic+json": {
              "type": "string"
            }
          },
          "metadata": {},
          "execution_count": 109
        }
      ]
    },
    {
      "cell_type": "code",
      "source": [
        "concatenate([\"hello\",\"world\"])"
      ],
      "metadata": {
        "colab": {
          "base_uri": "https://localhost:8080/",
          "height": 35
        },
        "id": "lQlTbg2jEBLn",
        "outputId": "7502ae40-cc78-4219-c75a-7cd54e59df47"
      },
      "execution_count": null,
      "outputs": [
        {
          "output_type": "execute_result",
          "data": {
            "text/plain": [
              "'helloworld'"
            ],
            "application/vnd.google.colaboratory.intrinsic+json": {
              "type": "string"
            }
          },
          "metadata": {},
          "execution_count": 107
        }
      ]
    },
    {
      "cell_type": "code",
      "source": [
        "concatenate.inspect_types()"
      ],
      "metadata": {
        "colab": {
          "base_uri": "https://localhost:8080/"
        },
        "id": "tEymnjw2DuGS",
        "outputId": "cc50b14d-6f0c-41e6-8b8f-1e16df69901c"
      },
      "execution_count": null,
      "outputs": [
        {
          "output_type": "stream",
          "name": "stdout",
          "text": [
            "concatenate (reflected list(unicode_type)<iv=None>,)\n",
            "--------------------------------------------------------------------------------\n",
            "# File: <ipython-input-108-1b9535d3a10b>\n",
            "# --- LINE 1 --- \n",
            "\n",
            "@nb.jit\n",
            "\n",
            "# --- LINE 2 --- \n",
            "\n",
            "def concatenate(strings):\n",
            "\n",
            "  # --- LINE 3 --- \n",
            "  # label 0\n",
            "  #   strings = arg(0, name=strings)  :: reflected list(unicode_type)<iv=None>\n",
            "  #   result = const(str, )  :: Literal[str]()\n",
            "  #   result.2 = result  :: unicode_type\n",
            "  #   del result\n",
            "\n",
            "  result = ''\n",
            "\n",
            "  # --- LINE 4 --- \n",
            "  #   jump 6\n",
            "  # label 6\n",
            "  #   $10get_iter.1 = getiter(value=strings)  :: iter(reflected list(unicode_type)<iv=None>)\n",
            "  #   del strings\n",
            "  #   $phi12.0 = $10get_iter.1  :: iter(reflected list(unicode_type)<iv=None>)\n",
            "  #   del $10get_iter.1\n",
            "  #   jump 12\n",
            "  # label 12\n",
            "  #   $12for_iter.1 = iternext(value=$phi12.0)  :: pair<unicode_type, bool>\n",
            "  #   $12for_iter.2 = pair_first(value=$12for_iter.1)  :: unicode_type\n",
            "  #   $12for_iter.3 = pair_second(value=$12for_iter.1)  :: bool\n",
            "  #   del $12for_iter.1\n",
            "  #   $phi14.1 = $12for_iter.2  :: unicode_type\n",
            "  #   del $12for_iter.2\n",
            "  #   branch $12for_iter.3, 14, 26\n",
            "  # label 14\n",
            "  #   del $12for_iter.3\n",
            "  #   s = $phi14.1  :: unicode_type\n",
            "  #   del $phi14.1\n",
            "\n",
            "  for s in strings:\n",
            "\n",
            "    # --- LINE 5 --- \n",
            "    #   $20inplace_add.4 = inplace_binop(fn=<built-in function iadd>, immutable_fn=<built-in function add>, lhs=result.2, rhs=s, static_lhs=Undefined, static_rhs=Undefined)  :: unicode_type\n",
            "    #   del s\n",
            "    #   result.1 = $20inplace_add.4  :: unicode_type\n",
            "    #   del $20inplace_add.4\n",
            "    #   result.2 = result.1  :: unicode_type\n",
            "    #   del result.1\n",
            "    #   jump 12\n",
            "    # label 26\n",
            "\n",
            "    result += s\n",
            "\n",
            "  # --- LINE 6 --- \n",
            "  #   del $phi14.1\n",
            "  #   del $phi12.0\n",
            "  #   del $12for_iter.3\n",
            "  #   jump 28\n",
            "  # label 28\n",
            "  #   $30return_value.1 = cast(value=result.2)  :: unicode_type\n",
            "  #   del result.2\n",
            "  #   return $30return_value.1\n",
            "\n",
            "  return result\n",
            "\n",
            "\n",
            "================================================================================\n"
          ]
        }
      ]
    },
    {
      "cell_type": "code",
      "source": [
        "x = ['helloWorld'] * 1000\n",
        "%timeit concatenate.py_func(x)\n",
        "%timeit concatenate(x)"
      ],
      "metadata": {
        "colab": {
          "base_uri": "https://localhost:8080/"
        },
        "id": "Eu5EzTQ4EPFy",
        "outputId": "969fc553-34a8-47a9-a9b2-6c66a7a08ff5"
      },
      "execution_count": null,
      "outputs": [
        {
          "output_type": "stream",
          "name": "stdout",
          "text": [
            "10000 loops, best of 5: 73.8 µs per loop\n",
            "100 loops, best of 5: 1.99 ms per loop\n"
          ]
        }
      ]
    },
    {
      "cell_type": "markdown",
      "source": [
        "Numba's performance is pretty bad! It adds some extra overhead."
      ],
      "metadata": {
        "id": "jsmCTsYrE11E"
      }
    },
    {
      "cell_type": "markdown",
      "source": [
        "### Vectorize"
      ],
      "metadata": {
        "id": "ZQpFqFKyFDqj"
      }
    },
    {
      "cell_type": "code",
      "source": [
        "@nb.vectorize\n",
        "def nbvec_cantor(a, b):\n",
        "  return int(0.5 * (a+b) * (a+b+1) + b)\n",
        "\n",
        "@np.vectorize\n",
        "def npvec_cantor(a, b):\n",
        "  return int(0.5 * (a+b) * (a+b+1) + b)\n",
        "\n",
        "@nb.vectorize([\"float32(float32, float32)\"],target=\"cuda\") # The book is old (\"gpu\" no longer works AND you need to specify the data type for GPU)\n",
        "def npvec_cantor_gpu(a, b):\n",
        "  return int(0.5 * (a+b) * (a+b+1) + b)"
      ],
      "metadata": {
        "id": "sQ9lS2oUExoy"
      },
      "execution_count": null,
      "outputs": []
    },
    {
      "cell_type": "code",
      "source": [
        "x1 = np.random.randn(10,1)\n",
        "x2 = 3"
      ],
      "metadata": {
        "id": "Q5V3nGYnKtzi"
      },
      "execution_count": null,
      "outputs": []
    },
    {
      "cell_type": "code",
      "source": [
        "%timeit nbvec_sum(x1, x2)\n",
        "%timeit npvec_sum(x1, x2)"
      ],
      "metadata": {
        "colab": {
          "base_uri": "https://localhost:8080/"
        },
        "id": "K9E5h4imK0mk",
        "outputId": "ca09e528-8b5d-414d-fadc-c51206d76872"
      },
      "execution_count": null,
      "outputs": [
        {
          "output_type": "stream",
          "name": "stdout",
          "text": [
            "The slowest run took 28.95 times longer than the fastest. This could mean that an intermediate result is being cached.\n",
            "1000000 loops, best of 5: 1.05 µs per loop\n",
            "The slowest run took 6.72 times longer than the fastest. This could mean that an intermediate result is being cached.\n",
            "100000 loops, best of 5: 11.3 µs per loop\n"
          ]
        }
      ]
    },
    {
      "cell_type": "code",
      "source": [
        "x1 = np.random.randn(10,1).astype(np.float32)\n",
        "x2 = 3"
      ],
      "metadata": {
        "id": "lGpGfASzMhIt"
      },
      "execution_count": null,
      "outputs": []
    },
    {
      "cell_type": "code",
      "source": [
        "%timeit npvec_cantor_gpu(x1, x2)  # no cuda available on collab"
      ],
      "metadata": {
        "id": "pEq1XQDNMJSB"
      },
      "execution_count": null,
      "outputs": []
    },
    {
      "cell_type": "code",
      "source": [
        "npvec_sum(x1, x2)"
      ],
      "metadata": {
        "colab": {
          "base_uri": "https://localhost:8080/"
        },
        "id": "Az7n3n-vK2FM",
        "outputId": "6e45a575-8a6f-4a77-ccee-0dcd7c5977d9"
      },
      "execution_count": null,
      "outputs": [
        {
          "output_type": "execute_result",
          "data": {
            "text/plain": [
              "array([[ 1.87062423],\n",
              "       [ 1.58587567],\n",
              "       [-0.41047252],\n",
              "       [-0.09804057],\n",
              "       [ 0.49428968],\n",
              "       [ 0.69557323],\n",
              "       [-0.49992856],\n",
              "       [ 3.28721768],\n",
              "       [-0.74669731],\n",
              "       [-0.60814567]])"
            ]
          },
          "metadata": {},
          "execution_count": 120
        }
      ]
    },
    {
      "cell_type": "markdown",
      "source": [
        "### Generalized Universal Function\n",
        "universal function can only be defined on scalar values. What if we want to do it for arrays?\n",
        "\n",
        "For example, given a (10, 3, 3) tensor a, and a (3,3) matrix b, if we want to find the (10,1) vector, where each entry is the Frobenius norm of diff between the slices of a and b.\n",
        "\n",
        "Contrary to vectorize() functions, guvectorize() functions don’t return their result value: they take it as an array argument, which must be filled in by the function. This is because the array is actually allocated by NumPy’s dispatch mechanism, which calls into the Numba-generated code.\n"
      ],
      "metadata": {
        "id": "LHnj2MJNOZpG"
      }
    },
    {
      "cell_type": "code",
      "source": [
        "a = np.random.rand(10, 3, 3)\n",
        "b = np.random.rand(3,3)"
      ],
      "metadata": {
        "id": "gvIMDahDOWEl"
      },
      "execution_count": null,
      "outputs": []
    },
    {
      "cell_type": "code",
      "source": [
        "@nb.guvectorize(['float64[:,:], float64[:,:], float64'], '(n,n), (n,n) -> ()')\n",
        "def fro(amat, bmat, res):\n",
        "  nrow, ncol = amat.shape\n",
        "  s = 0\n",
        "  for row in range(0, nrow):\n",
        "    for col in range(0, ncol):\n",
        "      s = s + (amat[row][col] - bmat[row][col])**2\n",
        "  res = s ** 0.5"
      ],
      "metadata": {
        "id": "uEogFVwWReXG"
      },
      "execution_count": null,
      "outputs": []
    },
    {
      "cell_type": "code",
      "source": [
        "fro(a, b)"
      ],
      "metadata": {
        "colab": {
          "base_uri": "https://localhost:8080/"
        },
        "id": "9G7p4PdURo4M",
        "outputId": "f5c75a06-b04a-4d56-daec-fc3671a05087"
      },
      "execution_count": null,
      "outputs": [
        {
          "output_type": "execute_result",
          "data": {
            "text/plain": [
              "array([-0.59016573, -0.89853614, -0.12917633,  0.49856216, -1.12614115,\n",
              "       -0.3746816 ,  3.24888336,  0.58222097, -0.8091322 ,  0.0936532 ])"
            ]
          },
          "metadata": {},
          "execution_count": 154
        }
      ]
    },
    {
      "cell_type": "markdown",
      "source": [
        "### JIT Classes"
      ],
      "metadata": {
        "id": "XhBHr188Ychw"
      }
    },
    {
      "cell_type": "code",
      "source": [
        "import numba as nb\n",
        "from numba.experimental import jitclass"
      ],
      "metadata": {
        "id": "PepRTDTYekWp"
      },
      "execution_count": null,
      "outputs": []
    },
    {
      "cell_type": "code",
      "source": [
        "class Node:\n",
        "  def __init__(self, value):\n",
        "    self.next = None\n",
        "    self.value = value\n",
        "    \n",
        "class LinkedList:\n",
        "  def __init__(self):\n",
        "    self.head = None\n",
        "  \n",
        "  def push_front(self, value):\n",
        "    if self.head == None:\n",
        "      self.head = Node(value)\n",
        "    else:\n",
        "      new_head = Node(value)\n",
        "      new_head.next = self.head\n",
        "      self.head = new_head\n",
        "  \n",
        "  def show(self):\n",
        "    node = self.head\n",
        "    while node is not None:\n",
        "      print(node.value)\n",
        "      node = node.next"
      ],
      "metadata": {
        "id": "UVCZQUF3Ttzu"
      },
      "execution_count": null,
      "outputs": []
    },
    {
      "cell_type": "code",
      "source": [
        "lst = LinkedList()\n",
        "lst.push_front(3)\n",
        "lst.push_front(2)\n",
        "lst.push_front(1)\n",
        "lst.show()"
      ],
      "metadata": {
        "colab": {
          "base_uri": "https://localhost:8080/"
        },
        "id": "itG0ww8QTeUh",
        "outputId": "07710d4d-ba7f-4a61-d907-841b776790ef"
      },
      "execution_count": null,
      "outputs": [
        {
          "output_type": "stream",
          "name": "stdout",
          "text": [
            "1\n",
            "2\n",
            "3\n"
          ]
        }
      ]
    },
    {
      "cell_type": "code",
      "source": [
        "node_type = nb.deferred_type()\n",
        "\n",
        "node_spec = [\n",
        "    ('next', nb.optional(node_type)),\n",
        "    ('value', nb.int64)\n",
        "]\n",
        "\n",
        "@jitclass(node_spec)\n",
        "class Node:\n",
        "  def __init__(self, value):\n",
        "    self.next = None\n",
        "    self.value = value\n",
        "\n",
        "node_type.define(Node.class_type.instance_type)\n",
        "\n",
        "ll_spec = [\n",
        "    ('head', nb.optional(Node.class_type.instance_type))\n",
        "]\n",
        "\n",
        "@jitclass(ll_spec)\n",
        "class LinkedList:\n",
        "  def __init__(self):\n",
        "    self.head = None\n",
        "  \n",
        "  def push_front(self, value):\n",
        "    if self.head == None:\n",
        "      self.head = Node(value)\n",
        "    else:\n",
        "      new_head = Node(value)\n",
        "      new_head.next = self.head\n",
        "      self.head = new_head\n",
        "  \n",
        "  def show(self):\n",
        "    node = self.head\n",
        "    while node is not None:\n",
        "      print(node.value)\n",
        "      node = node.next\n",
        "\n",
        "@nb.jit\n",
        "def sum_list(lst):\n",
        "  result = 0\n",
        "  node = lst.head\n",
        "  while node is not None:\n",
        "    result += node.value\n",
        "    node = node.next\n",
        "  return result\n",
        "\n",
        "lst = LinkedList()\n",
        "for i in range(0, 1000):\n",
        "  lst.push_front(i)\n"
      ],
      "metadata": {
        "id": "B4C5W75YdeJm"
      },
      "execution_count": null,
      "outputs": []
    },
    {
      "cell_type": "code",
      "source": [
        "%timeit sum_list(lst)\n",
        "%timeit sum_list.py_func(lst)"
      ],
      "metadata": {
        "colab": {
          "base_uri": "https://localhost:8080/"
        },
        "id": "dZ5NRr2LRayN",
        "outputId": "88ceb1a0-3871-4f08-fab3-463c6cd1eae4"
      },
      "execution_count": null,
      "outputs": [
        {
          "output_type": "stream",
          "name": "stdout",
          "text": [
            "10000 loops, best of 5: 21 µs per loop\n",
            "1000 loops, best of 5: 304 µs per loop\n"
          ]
        }
      ]
    },
    {
      "cell_type": "markdown",
      "source": [
        "### Conclusion\n",
        "Try Numba first, for finer handling, use Cython.\n",
        "Use these tools only if you have very expensive numerical computations."
      ],
      "metadata": {
        "id": "H4y0Xo5TcMNu"
      }
    },
    {
      "cell_type": "code",
      "source": [
        ""
      ],
      "metadata": {
        "id": "vM0SJnFAcW0I"
      },
      "execution_count": null,
      "outputs": []
    }
  ]
}