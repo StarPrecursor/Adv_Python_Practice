{
  "nbformat": 4,
  "nbformat_minor": 0,
  "metadata": {
    "colab": {
      "provenance": [],
      "collapsed_sections": [],
      "toc_visible": true
    },
    "kernelspec": {
      "name": "python3",
      "display_name": "Python 3"
    },
    "language_info": {
      "name": "python"
    }
  },
  "cells": [
    {
      "cell_type": "markdown",
      "source": [
        "# HTTP requests\n",
        "Generally, request methods are defined as verbs that indicate the desired action to be performed while the HTTP client(web browers) and the server communicate with each other: GET, HEAD, POST, PUT, DELETE, and so on. of these methods, GET and POST are two of the most common request methods that are used in web scraping applications:\n",
        "1. The GET method requests sepcific data from the server. This method only retrieves data and has no other effect on the server and its databases.\n",
        "2. The POST method sends data in a specific form that is accepted by the server. This data could be, for example, a meesage to a bulletin board, mailing list, or newsgroup, information to be submitted to a web form, or an item to be added to a database."
      ],
      "metadata": {
        "id": "E0htYefQK69O"
      }
    },
    {
      "cell_type": "markdown",
      "source": [
        "# The requests module"
      ],
      "metadata": {
        "id": "yXBhwucWPbC2"
      }
    },
    {
      "cell_type": "code",
      "source": [
        "import requests\n",
        "import time"
      ],
      "metadata": {
        "id": "siERkU6kUHxq"
      },
      "execution_count": null,
      "outputs": []
    },
    {
      "cell_type": "markdown",
      "source": [
        "## Example"
      ],
      "metadata": {
        "id": "Rx0Eo-JcqNEN"
      }
    },
    {
      "cell_type": "code",
      "source": [
        "url = \"http://www.google.com\"\n",
        "\n",
        "res = requests.get(url)\n",
        "\n",
        "print(res.status_code)\n",
        "print(res.headers)\n",
        "\n",
        "with open(\"google.html\", \"w\") as f:\n",
        "    f.write(res.text)\n",
        "\n",
        "print(\"Done.\")\n"
      ],
      "metadata": {
        "colab": {
          "base_uri": "https://localhost:8080/"
        },
        "id": "YB5qg9bdNQ87",
        "outputId": "039ee9e6-b449-4886-e397-24f9895b205f"
      },
      "execution_count": null,
      "outputs": [
        {
          "output_type": "stream",
          "name": "stdout",
          "text": [
            "200\n",
            "{'Date': 'Fri, 16 Sep 2022 02:54:24 GMT', 'Expires': '-1', 'Cache-Control': 'private, max-age=0', 'Content-Type': 'text/html; charset=ISO-8859-1', 'P3P': 'CP=\"This is not a P3P policy! See g.co/p3phelp for more info.\"', 'Content-Encoding': 'gzip', 'Server': 'gws', 'Content-Length': '6590', 'X-XSS-Protection': '0', 'X-Frame-Options': 'SAMEORIGIN', 'Set-Cookie': '1P_JAR=2022-09-16-02; expires=Sun, 16-Oct-2022 02:54:24 GMT; path=/; domain=.google.com; Secure, AEC=AakniGPRqiGihYgm0x9ctaFkCuG3bIegNhrhyWdMyrsyAMoV-EgH3XQp0MM; expires=Wed, 15-Mar-2023 02:54:24 GMT; path=/; domain=.google.com; Secure; HttpOnly; SameSite=lax, NID=511=Eeb4diA8S8-cb6LNW6b95EJyeexMsNrJqmKMEv3_VIIxr1OsGOSQl8yStCVbCI2Anck7u2mrD00E2obW_8UkvWCpO09nunAGL9kVxp7phqzzl3cxNJRBtB_HGNBofFem8dNllMm9qhfiTlz-uRHjwbRE6RoGhZw3y_Vr-Ti2xik; expires=Sat, 18-Mar-2023 02:54:24 GMT; path=/; domain=.google.com; HttpOnly'}\n",
            "Done.\n"
          ]
        }
      ]
    },
    {
      "cell_type": "markdown",
      "source": [
        "## Get"
      ],
      "metadata": {
        "id": "Tgqvjw2PqRXk"
      }
    },
    {
      "cell_type": "code",
      "source": [
        "payload = {'key1': 'value1', 'key2': 'value2'}\n",
        "r = requests.get('https://httpbin.org/get', params=payload)\n",
        "print(r)\n",
        "print(r.status_code)\n",
        "print(r.text)\n",
        "print(r.json())"
      ],
      "metadata": {
        "colab": {
          "base_uri": "https://localhost:8080/"
        },
        "id": "_uvLCvHuXecj",
        "outputId": "f1496d03-fd82-4904-b99e-4fc3001d8b0e"
      },
      "execution_count": null,
      "outputs": [
        {
          "output_type": "stream",
          "name": "stdout",
          "text": [
            "<Response [200]>\n",
            "200\n",
            "{\n",
            "  \"args\": {\n",
            "    \"key1\": \"value1\", \n",
            "    \"key2\": \"value2\"\n",
            "  }, \n",
            "  \"headers\": {\n",
            "    \"Accept\": \"*/*\", \n",
            "    \"Accept-Encoding\": \"gzip, deflate\", \n",
            "    \"Host\": \"httpbin.org\", \n",
            "    \"User-Agent\": \"python-requests/2.23.0\", \n",
            "    \"X-Amzn-Trace-Id\": \"Root=1-6323e563-11781d0d5f0db1425c0dd787\"\n",
            "  }, \n",
            "  \"origin\": \"104.196.172.33\", \n",
            "  \"url\": \"https://httpbin.org/get?key1=value1&key2=value2\"\n",
            "}\n",
            "\n",
            "{'args': {'key1': 'value1', 'key2': 'value2'}, 'headers': {'Accept': '*/*', 'Accept-Encoding': 'gzip, deflate', 'Host': 'httpbin.org', 'User-Agent': 'python-requests/2.23.0', 'X-Amzn-Trace-Id': 'Root=1-6323e563-11781d0d5f0db1425c0dd787'}, 'origin': '104.196.172.33', 'url': 'https://httpbin.org/get?key1=value1&key2=value2'}\n"
          ]
        }
      ]
    },
    {
      "cell_type": "markdown",
      "source": [
        "## Post"
      ],
      "metadata": {
        "id": "aqNerMkmqVE4"
      }
    },
    {
      "cell_type": "code",
      "source": [
        "url = 'https://httpbin.org/post'\n",
        "payload_tuples = [('key1', 'value1'), ('key1', 'value2')]\n",
        "r1 = requests.post(url, data=payload_tuples)\n",
        "print(r1.text)\n",
        "# print(r1.json())"
      ],
      "metadata": {
        "colab": {
          "base_uri": "https://localhost:8080/"
        },
        "id": "uAPGMMHCi4sD",
        "outputId": "778dcf71-5d96-4bb1-fb35-4f4ed1454401"
      },
      "execution_count": null,
      "outputs": [
        {
          "output_type": "stream",
          "name": "stdout",
          "text": [
            "{\n",
            "  \"args\": {}, \n",
            "  \"data\": \"\", \n",
            "  \"files\": {}, \n",
            "  \"form\": {\n",
            "    \"key1\": [\n",
            "      \"value1\", \n",
            "      \"value2\"\n",
            "    ]\n",
            "  }, \n",
            "  \"headers\": {\n",
            "    \"Accept\": \"*/*\", \n",
            "    \"Accept-Encoding\": \"gzip, deflate\", \n",
            "    \"Content-Length\": \"23\", \n",
            "    \"Content-Type\": \"application/x-www-form-urlencoded\", \n",
            "    \"Host\": \"httpbin.org\", \n",
            "    \"User-Agent\": \"python-requests/2.23.0\", \n",
            "    \"X-Amzn-Trace-Id\": \"Root=1-6323e566-495004a64b43e3706a5e37f7\"\n",
            "  }, \n",
            "  \"json\": null, \n",
            "  \"origin\": \"104.196.172.33\", \n",
            "  \"url\": \"https://httpbin.org/post\"\n",
            "}\n",
            "\n"
          ]
        }
      ]
    },
    {
      "cell_type": "code",
      "source": [
        "files = {'file': ('report.csv', 'some,data,to,send\\nanother,row,to,send\\n')}\n",
        "r2 = requests.post(url, files=files)\n",
        "print(r2.text)\n",
        "# print(r2.json())"
      ],
      "metadata": {
        "colab": {
          "base_uri": "https://localhost:8080/"
        },
        "id": "qfYJ1LQ7YcSl",
        "outputId": "1c3e9b4b-3338-416f-b5ae-3c351b452781"
      },
      "execution_count": null,
      "outputs": [
        {
          "output_type": "stream",
          "name": "stdout",
          "text": [
            "{\n",
            "  \"args\": {}, \n",
            "  \"data\": \"\", \n",
            "  \"files\": {\n",
            "    \"file\": \"some,data,to,send\\nanother,row,to,send\\n\"\n",
            "  }, \n",
            "  \"form\": {}, \n",
            "  \"headers\": {\n",
            "    \"Accept\": \"*/*\", \n",
            "    \"Accept-Encoding\": \"gzip, deflate\", \n",
            "    \"Content-Length\": \"184\", \n",
            "    \"Content-Type\": \"multipart/form-data; boundary=1431bcd9f23a23b4297cd59e747a62b4\", \n",
            "    \"Host\": \"httpbin.org\", \n",
            "    \"User-Agent\": \"python-requests/2.23.0\", \n",
            "    \"X-Amzn-Trace-Id\": \"Root=1-6323e569-66c0863757a7c7e8433d8e9f\"\n",
            "  }, \n",
            "  \"json\": null, \n",
            "  \"origin\": \"104.196.172.33\", \n",
            "  \"url\": \"https://httpbin.org/post\"\n",
            "}\n",
            "\n"
          ]
        }
      ]
    },
    {
      "cell_type": "markdown",
      "source": [
        "## Status code"
      ],
      "metadata": {
        "id": "dJKmgYfFj3fG"
      }
    },
    {
      "cell_type": "markdown",
      "source": [
        "1XX: information status code. The request was received, and the werver is processing it.\n",
        "\n",
        "2XX: successful status code. The request was successfully received, understood, and processed by the server.\n",
        "\n",
        "3XX: redirectional status code. Addtional actions needed to be taken so that the request can be successfully processed.\n",
        "\n",
        "4XX: error status code for the client. The request was incorrectly formatted by the client and could not be processed.\n",
        "\n",
        "5XX: error status code for the server. The request, although valid, could not be processed by the server."
      ],
      "metadata": {
        "id": "SXHO7FyEpaju"
      }
    },
    {
      "cell_type": "markdown",
      "source": [
        "# Ping test"
      ],
      "metadata": {
        "id": "KguCxNsvqX6B"
      }
    },
    {
      "cell_type": "markdown",
      "source": [
        "A ping test is a procedure in which yoiu test the communication between your system and specific web servers, simply by requesting each of the servers in questions. By considering the HTTP response status code returned by the server, the test is used to evaluate either the internet connection of your system or the availability of the servers."
      ],
      "metadata": {
        "id": "kiRVaN8i_BK6"
      }
    },
    {
      "cell_type": "markdown",
      "source": [
        "## Simulate a ping test"
      ],
      "metadata": {
        "id": "Vq5Qi0SB_vtM"
      }
    },
    {
      "cell_type": "code",
      "source": [
        "def ping(url):\n",
        "    res = requests.get(url)\n",
        "    print(f\"{url}: {res.text}\")\n",
        "\n",
        "\n",
        "urls = [\n",
        "    \"http://httpstat.us/200\",\n",
        "    \"http://httpstat.us/400\",\n",
        "    \"http://httpstat.us/404\",\n",
        "    \"http://httpstat.us/408\",\n",
        "    \"http://httpstat.us/500\",\n",
        "    \"http://httpstat.us/511\",\n",
        "]\n",
        "\n",
        "start = time.time()\n",
        "for url in urls:\n",
        "    ping(url)\n",
        "print(f\"Sequential: {time.time() - start : .2f} seconds\")\n",
        "\n",
        "print()"
      ],
      "metadata": {
        "colab": {
          "base_uri": "https://localhost:8080/"
        },
        "id": "9klgTRaJ_fOb",
        "outputId": "f5325588-bb67-45f5-ee55-92ef21835ea4"
      },
      "execution_count": null,
      "outputs": [
        {
          "output_type": "stream",
          "name": "stdout",
          "text": [
            "http://httpstat.us/200: 200 OK\n",
            "http://httpstat.us/400: 400 Bad Request\n",
            "http://httpstat.us/404: 404 Not Found\n",
            "http://httpstat.us/408: 408 Request Timeout\n",
            "http://httpstat.us/500: 500 Internal Server Error\n",
            "http://httpstat.us/511: 511 Network Authentication Required\n",
            "Sequential:  0.72 seconds\n",
            "\n"
          ]
        }
      ]
    },
    {
      "cell_type": "markdown",
      "source": [
        "# Concurrent HTTP request\n"
      ],
      "metadata": {
        "id": "6zi8YuNRFYmM"
      }
    },
    {
      "cell_type": "code",
      "source": [
        "import threading\n",
        "\n",
        "start = time.time()\n",
        "threads = []\n",
        "for url in urls:\n",
        "    thread = threading.Thread(target=ping, args=(url,))\n",
        "    threads.append(thread)\n",
        "    thread.start()\n",
        "for thread in threads:\n",
        "    thread.join()\n",
        "\n",
        "print(f\"Threading: {time.time() - start : .2f} seconds\")"
      ],
      "metadata": {
        "colab": {
          "base_uri": "https://localhost:8080/"
        },
        "id": "eyZKyWmzFXog",
        "outputId": "660c57e6-a277-443c-b2f6-d75481271835"
      },
      "execution_count": null,
      "outputs": [
        {
          "output_type": "stream",
          "name": "stdout",
          "text": [
            "http://httpstat.us/200: 200 OK\n",
            "http://httpstat.us/400: 400 Bad Request\n",
            "http://httpstat.us/404: 404 Not Found\n",
            "http://httpstat.us/408: 408 Request Timeout\n",
            "http://httpstat.us/500: 500 Internal Server Error\n",
            "http://httpstat.us/511: 511 Network Authentication Required\n",
            "Threading:  0.09 seconds\n"
          ]
        }
      ]
    },
    {
      "cell_type": "markdown",
      "source": [
        "## Refactor"
      ],
      "metadata": {
        "id": "fKqrO1qJIcLK"
      }
    },
    {
      "cell_type": "code",
      "source": [
        "class MyThread(threading.Thread):\n",
        "    def __init__(self, url):\n",
        "        threading.Thread.__init__(self)\n",
        "        self.url = url\n",
        "        self.result = None\n",
        "\n",
        "    def run(self):\n",
        "        res = requests.get(self.url)\n",
        "        self.result = f\"{self.url}: {res.text}\"\n",
        "\n",
        "\n",
        "start = time.time()\n",
        "\n",
        "threads = [MyThread(url) for url in urls]\n",
        "for thread in threads:\n",
        "    thread.start()\n",
        "for thread in threads:\n",
        "    thread.join()\n",
        "for thread in threads:\n",
        "    print(thread.result)\n",
        "\n",
        "print(f\"Took {time.time() - start : .2f} seconds\")\n",
        "\n",
        "print(\"Done.\")"
      ],
      "metadata": {
        "colab": {
          "base_uri": "https://localhost:8080/"
        },
        "id": "t9UkhYLOJv7d",
        "outputId": "29a4b015-9236-41cf-d683-b4a4083b7ee1"
      },
      "execution_count": null,
      "outputs": [
        {
          "output_type": "stream",
          "name": "stdout",
          "text": [
            "http://httpstat.us/200: 200 OK\n",
            "http://httpstat.us/400: 400 Bad Request\n",
            "http://httpstat.us/404: 404 Not Found\n",
            "http://httpstat.us/408: 408 Request Timeout\n",
            "http://httpstat.us/500: 500 Internal Server Error\n",
            "http://httpstat.us/511: 511 Network Authentication Required\n",
            "Took  0.09 seconds\n",
            "Done.\n"
          ]
        }
      ]
    },
    {
      "cell_type": "markdown",
      "source": [
        "# The problem with timeouts"
      ],
      "metadata": {
        "id": "awcpkSFIJ59b"
      }
    },
    {
      "cell_type": "markdown",
      "source": [
        "Timeouts typically occurr when the server takes an unusually long time to process a specific request, and the connection betwen the server and its client is terminated."
      ],
      "metadata": {
        "id": "HP0H-l7jNEGD"
      }
    },
    {
      "cell_type": "markdown",
      "source": [
        "## Simulate timeouts"
      ],
      "metadata": {
        "id": "fZh6AlHCNoCD"
      }
    },
    {
      "cell_type": "code",
      "source": [
        "urls = [\n",
        "    \"http://httpstat.us/200\",\n",
        "    \"http://httpstat.us/200?sleep=20000\",\n",
        "    \"http://httpstat.us/400\",\n",
        "]\n",
        "\n",
        "start = time.time()\n",
        "\n",
        "threads = [MyThread(url) for url in urls]\n",
        "for thread in threads:\n",
        "    thread.start()\n",
        "for thread in threads:\n",
        "    thread.join()\n",
        "for thread in threads:\n",
        "    print(thread.result)\n",
        "\n",
        "print(f\"Took {time.time() - start : .2f} seconds\")\n",
        "\n",
        "print(\"Done.\")\n"
      ],
      "metadata": {
        "colab": {
          "base_uri": "https://localhost:8080/"
        },
        "id": "K1-LEw2CKYlg",
        "outputId": "fc40b8b0-459b-4b4a-ee5b-6be000b1325e"
      },
      "execution_count": null,
      "outputs": [
        {
          "output_type": "stream",
          "name": "stdout",
          "text": [
            "http://httpstat.us/200: 200 OK\n",
            "http://httpstat.us/200?sleep=20000: 200 OK\n",
            "http://httpstat.us/400: 400 Bad Request\n",
            "Took  20.10 seconds\n",
            "Done.\n"
          ]
        }
      ]
    },
    {
      "cell_type": "markdown",
      "source": [
        "## Timeout specifications\n",
        "Counting from the thimeout threshold and check wether the thread is still alive"
      ],
      "metadata": {
        "id": "-Ptl7u6cPM6c"
      }
    },
    {
      "cell_type": "code",
      "source": [
        "UPDATE_INTERVAL = 0.01\n",
        "\n",
        "def process_requests(threads, timeout=5):\n",
        "    def alive_count():\n",
        "        alive = [1 if thread.is_alive() else 0 for thread in threads]\n",
        "        return sum(alive)\n",
        "\n",
        "    while alive_count() > 0 and timeout > 0:\n",
        "        timeout -= UPDATE_INTERVAL\n",
        "        time.sleep(UPDATE_INTERVAL)\n",
        "    for thread in threads:\n",
        "        print(thread.result)"
      ],
      "metadata": {
        "id": "0XNGzv6cKYoV"
      },
      "execution_count": null,
      "outputs": []
    },
    {
      "cell_type": "code",
      "source": [
        "class MyThread(threading.Thread):\n",
        "    def __init__(self, url):\n",
        "        threading.Thread.__init__(self)\n",
        "        self.url = url\n",
        "        self.result = f\"{self.url}: Custom timeout\"\n",
        "\n",
        "    def run(self):\n",
        "        res = requests.get(self.url)\n",
        "        self.result = f\"{self.url}: {res.text}\""
      ],
      "metadata": {
        "id": "vwBLiSx6P2HY"
      },
      "execution_count": null,
      "outputs": []
    },
    {
      "cell_type": "code",
      "source": [
        "urls = [\n",
        "    \"http://httpstat.us/200\",\n",
        "    \"http://httpstat.us/200?sleep=4000\",\n",
        "    \"http://httpstat.us/200?sleep=20000\",\n",
        "    \"http://httpstat.us/400\",\n",
        "]\n",
        "\n",
        "start = time.time()\n",
        "\n",
        "threads = [MyThread(url) for url in urls]\n",
        "for thread in threads:\n",
        "    thread.setDaemon(True)\n",
        "    thread.start()\n",
        "process_requests(threads)\n",
        "\n",
        "print(f\"Took {time.time() - start : .2f} seconds\")\n",
        "\n",
        "print(\"Done.\")"
      ],
      "metadata": {
        "colab": {
          "base_uri": "https://localhost:8080/"
        },
        "id": "z8c07i0rP4p_",
        "outputId": "545c22bc-3289-42c6-daaf-119d0d6b9914"
      },
      "execution_count": null,
      "outputs": [
        {
          "output_type": "stream",
          "name": "stdout",
          "text": [
            "http://httpstat.us/200: 200 OK\n",
            "http://httpstat.us/200?sleep=4000: 200 OK\n",
            "http://httpstat.us/200?sleep=20000: Custom timeout\n",
            "http://httpstat.us/400: 400 Bad Request\n",
            "Took  5.13 seconds\n",
            "Done.\n"
          ]
        }
      ]
    },
    {
      "cell_type": "markdown",
      "source": [
        "set daemon thread to avoid blocking main thread when the program is finished "
      ],
      "metadata": {
        "id": "2OReey-wRKLu"
      }
    },
    {
      "cell_type": "code",
      "source": [
        "urls = [\n",
        "    \"http://httpstat.us/200\",\n",
        "    \"http://httpstat.us/200?sleep=4000\",\n",
        "    \"http://httpstat.us/200?sleep=20000\",\n",
        "    \"http://httpstat.us/400\",\n",
        "]\n",
        "\n",
        "start = time.time()\n",
        "\n",
        "threads = [MyThread(url) for url in urls]\n",
        "for thread in threads:\n",
        "    # thread.setDaemon(True)\n",
        "    thread.start()\n",
        "process_requests(threads)\n",
        "\n",
        "print(f\"Took {time.time() - start : .2f} seconds\")\n",
        "\n",
        "print(\"Done.\")"
      ],
      "metadata": {
        "colab": {
          "base_uri": "https://localhost:8080/"
        },
        "id": "_177V0kwSDvm",
        "outputId": "9909f85a-fc4b-4489-e4b0-7310ac74c3cc"
      },
      "execution_count": null,
      "outputs": [
        {
          "output_type": "stream",
          "name": "stdout",
          "text": [
            "http://httpstat.us/200: 200 OK\n",
            "http://httpstat.us/200?sleep=4000: 200 OK\n",
            "http://httpstat.us/200?sleep=20000: Custom timeout\n",
            "http://httpstat.us/400: 400 Bad Request\n",
            "Took  5.14 seconds\n",
            "Done.\n"
          ]
        }
      ]
    },
    {
      "cell_type": "markdown",
      "source": [
        "# Async HTTP request (Coroutine)"
      ],
      "metadata": {
        "id": "O1nXICO29c88"
      }
    },
    {
      "cell_type": "markdown",
      "source": [
        "requests is not awaitable, can't use aynsc"
      ],
      "metadata": {
        "id": "RR3yNbKyDceQ"
      }
    },
    {
      "cell_type": "code",
      "source": [
        "import asyncio\n",
        "import aiohttp"
      ],
      "metadata": {
        "id": "is647opp95iJ"
      },
      "execution_count": null,
      "outputs": []
    },
    {
      "cell_type": "code",
      "source": [
        "!pip install nest_asyncio --quiet\n",
        "import nest_asyncio\n",
        "nest_asyncio.apply()"
      ],
      "metadata": {
        "id": "0Vo5856iPKVw"
      },
      "execution_count": null,
      "outputs": []
    },
    {
      "cell_type": "code",
      "source": [
        "async with aiohttp.ClientSession() as session:\n",
        "    async with session.get('http://httpbin.org/get') as resp:\n",
        "        print(resp.status)\n",
        "        print(await resp.text())"
      ],
      "metadata": {
        "id": "-WteE_-m95mf",
        "colab": {
          "base_uri": "https://localhost:8080/"
        },
        "outputId": "2596dbd4-9f9a-498d-ccde-4790a0570d24"
      },
      "execution_count": null,
      "outputs": [
        {
          "output_type": "stream",
          "name": "stdout",
          "text": [
            "200\n",
            "{\n",
            "  \"args\": {}, \n",
            "  \"headers\": {\n",
            "    \"Accept\": \"*/*\", \n",
            "    \"Accept-Encoding\": \"gzip, deflate\", \n",
            "    \"Host\": \"httpbin.org\", \n",
            "    \"User-Agent\": \"Python/3.7 aiohttp/3.8.1\", \n",
            "    \"X-Amzn-Trace-Id\": \"Root=1-6323f7e5-5cda2de56ca227822b620b67\"\n",
            "  }, \n",
            "  \"origin\": \"104.196.172.33\", \n",
            "  \"url\": \"http://httpbin.org/get\"\n",
            "}\n",
            "\n"
          ]
        }
      ]
    },
    {
      "cell_type": "code",
      "source": [
        "async with aiohttp.ClientSession() as session:\n",
        "    # async with session.request(method='GET', url='http://httpbin.org/request') as req:\n",
        "    #   print(await req.text())\n",
        "    async with session.post('http://httpbin.org/post', data=b'data') as req:\n",
        "      print(req.status)\n",
        "      print(await req.text())\n",
        "    # session.put('http://httpbin.org/put', data=b'data')\n",
        "    # session.delete('http://httpbin.org/delete')\n",
        "    # session.head('http://httpbin.org/get')\n",
        "    # session.options('http://httpbin.org/get')\n",
        "    # session.patch('http://httpbin.org/patch', data=b'data')"
      ],
      "metadata": {
        "id": "9fP5PXRJ95qA",
        "colab": {
          "base_uri": "https://localhost:8080/"
        },
        "outputId": "f43c02f4-b2b5-4be9-8331-d160c265a949"
      },
      "execution_count": null,
      "outputs": [
        {
          "output_type": "stream",
          "name": "stdout",
          "text": [
            "200\n",
            "{\n",
            "  \"args\": {}, \n",
            "  \"data\": \"data\", \n",
            "  \"files\": {}, \n",
            "  \"form\": {}, \n",
            "  \"headers\": {\n",
            "    \"Accept\": \"*/*\", \n",
            "    \"Accept-Encoding\": \"gzip, deflate\", \n",
            "    \"Content-Length\": \"4\", \n",
            "    \"Content-Type\": \"application/octet-stream\", \n",
            "    \"Host\": \"httpbin.org\", \n",
            "    \"User-Agent\": \"Python/3.7 aiohttp/3.8.1\", \n",
            "    \"X-Amzn-Trace-Id\": \"Root=1-6323db8e-4f6999b007d1007261434568\"\n",
            "  }, \n",
            "  \"json\": null, \n",
            "  \"origin\": \"104.196.172.33\", \n",
            "  \"url\": \"http://httpbin.org/post\"\n",
            "}\n",
            "\n"
          ]
        }
      ]
    },
    {
      "cell_type": "markdown",
      "source": [
        "# Example of extracting titles"
      ],
      "metadata": {
        "id": "Kleg8zEfTtLP"
      }
    },
    {
      "cell_type": "code",
      "source": [
        "from lxml import etree\n",
        "\n",
        "urls = ['https://arxiv.org/abs/2201.000%02d'%i for i in range(1, 11)]"
      ],
      "metadata": {
        "id": "AC4vi5XhWKbd"
      },
      "execution_count": null,
      "outputs": []
    },
    {
      "cell_type": "markdown",
      "source": [
        "## Use request"
      ],
      "metadata": {
        "id": "z8QQ0TeLWN7U"
      }
    },
    {
      "cell_type": "code",
      "source": [
        "def get_title(url,cnt):\n",
        "    response = requests.get(url)\n",
        "    html = response.content\n",
        "    title = etree.HTML(html).xpath('//h1[contains(@class, \"title\")]/text()')\n",
        "    print('Title %d: %s' % (cnt,''.join(title)))"
      ],
      "metadata": {
        "id": "edxkjm78Rg6c"
      },
      "execution_count": null,
      "outputs": []
    },
    {
      "cell_type": "code",
      "source": [
        "%%time\n",
        "for i, url in enumerate(urls):\n",
        "    i = i + 1\n",
        "    start = time.time()\n",
        "    get_title(url,i)"
      ],
      "metadata": {
        "id": "_WP95b2_95s3",
        "colab": {
          "base_uri": "https://localhost:8080/"
        },
        "outputId": "d75f601b-f382-4a4e-e174-423f3ea6b556"
      },
      "execution_count": null,
      "outputs": [
        {
          "output_type": "stream",
          "name": "stdout",
          "text": [
            "Title 1: Modeling Advection on Directed Graphs using Matérn Gaussian Processes for Traffic Flow\n",
            "Title 2: Time-Dependent Duhamel Renormalization method with Multiple Conservation and Dissipation Laws\n",
            "Title 3: Simulating local fields in carbon nanotube reinforced composites for infinite strip with voids\n",
            "Title 4: Robust reliability-based topology optimization under random-field material model\n",
            "Title 5: A Literature Review on Length of Stay Prediction for Stroke Patients using Machine Learning and Statistical Approaches\n",
            "Title 6: AttentionLight: Rethinking queue length and attention mechanism for traffic signal control\n",
            "Title 7: Confidence-Aware Multi-Teacher Knowledge Distillation\n",
            "Title 8: A Lightweight and Accurate Spatial-Temporal Transformer for Traffic Forecasting\n",
            "Title 9: Improving Deep Neural Network Classification Confidence using Heatmap-based eXplainable AI\n",
            "Title 10: Locally finite free space as limiting case of PT-symmetric medium\n",
            "CPU times: user 208 ms, sys: 8.94 ms, total: 217 ms\n",
            "Wall time: 3.67 s\n"
          ]
        }
      ]
    },
    {
      "cell_type": "markdown",
      "source": [
        "## Concurrent"
      ],
      "metadata": {
        "id": "R3gWAVkVWA7Q"
      }
    },
    {
      "cell_type": "code",
      "source": [
        "import threading\n",
        "\n",
        "class TitleThread(threading.Thread):\n",
        "    def __init__(self, cnt, url):\n",
        "        threading.Thread.__init__(self)\n",
        "        self.cnt = cnt\n",
        "        self.url = url\n",
        "        self.title = f\"{self.url}: Bad url\"\n",
        "\n",
        "    def run(self):\n",
        "        res = requests.get(self.url)\n",
        "        html = res.content\n",
        "        title = etree.HTML(html).xpath('//h1[contains(@class, \"title\")]/text()')\n",
        "        self.title = ''.join(title)\n",
        "        print('Title %d: %s' % (self.cnt,self.title))\n",
        "\n",
        "\n",
        "UPDATE_INTERVAL = 0.01\n",
        "\n",
        "def process_requests(threads, timeout=5):\n",
        "    def alive_count():\n",
        "        alive = [1 if thread.is_alive() else 0 for thread in threads]\n",
        "        return sum(alive)\n",
        "\n",
        "    while alive_count() > 0 and timeout > 0:\n",
        "        timeout -= UPDATE_INTERVAL\n",
        "        time.sleep(UPDATE_INTERVAL)"
      ],
      "metadata": {
        "id": "04Rx3F1tWeOh"
      },
      "execution_count": null,
      "outputs": []
    },
    {
      "cell_type": "code",
      "source": [
        "%%time\n",
        "threads = [TitleThread(cnt, url) for cnt, url in enumerate(urls)]\n",
        "for thread in threads:\n",
        "    thread.start()\n",
        "process_requests(threads)"
      ],
      "metadata": {
        "colab": {
          "base_uri": "https://localhost:8080/"
        },
        "id": "Q88upqxFWeRV",
        "outputId": "f5ae46c2-e1de-4959-ea2b-95a42e80b332"
      },
      "execution_count": null,
      "outputs": [
        {
          "output_type": "stream",
          "name": "stdout",
          "text": [
            "Title 3: Robust reliability-based topology optimization under random-field material model\n",
            "Title 2: Simulating local fields in carbon nanotube reinforced composites for infinite strip with voids\n",
            "Title 0: Modeling Advection on Directed Graphs using Matérn Gaussian Processes for Traffic Flow\n",
            "Title 7: A Lightweight and Accurate Spatial-Temporal Transformer for Traffic Forecasting\n",
            "Title 8: Improving Deep Neural Network Classification Confidence using Heatmap-based eXplainable AI\n",
            "Title 6: Confidence-Aware Multi-Teacher Knowledge Distillation\n",
            "Title 1: Time-Dependent Duhamel Renormalization method with Multiple Conservation and Dissipation Laws\n",
            "Title 4: A Literature Review on Length of Stay Prediction for Stroke Patients using Machine Learning and Statistical Approaches\n",
            "Title 9: Locally finite free space as limiting case of PT-symmetric medium\n",
            "Title 5: AttentionLight: Rethinking queue length and attention mechanism for traffic signal control\n",
            "CPU times: user 238 ms, sys: 13.4 ms, total: 252 ms\n",
            "Wall time: 686 ms\n"
          ]
        }
      ]
    },
    {
      "cell_type": "markdown",
      "source": [
        "## Multiprocessing"
      ],
      "metadata": {
        "id": "e8sFk9q2ctNc"
      }
    },
    {
      "cell_type": "code",
      "source": [
        "import multiprocessing\n",
        "from multiprocessing import Pool"
      ],
      "metadata": {
        "id": "OLfc3MkEcv0Z"
      },
      "execution_count": null,
      "outputs": []
    },
    {
      "cell_type": "code",
      "source": [
        "multiprocessing.cpu_count()"
      ],
      "metadata": {
        "colab": {
          "base_uri": "https://localhost:8080/"
        },
        "id": "ZJyMxO84hImf",
        "outputId": "432912cf-490b-4c1b-a644-76923a521ecb"
      },
      "execution_count": null,
      "outputs": [
        {
          "output_type": "execute_result",
          "data": {
            "text/plain": [
              "2"
            ]
          },
          "metadata": {},
          "execution_count": 195
        }
      ]
    },
    {
      "cell_type": "code",
      "source": [
        "%%time \n",
        "p = Pool(2)\n",
        "for i, url in enumerate(urls):\n",
        "    p.apply_async(get_title, args=(url, i))\n",
        "p.close()\n",
        "p.join() "
      ],
      "metadata": {
        "colab": {
          "base_uri": "https://localhost:8080/"
        },
        "id": "r2_vRxu2cv_G",
        "outputId": "507f793e-edb1-49f2-fd4d-15fdaaa2de83"
      },
      "execution_count": null,
      "outputs": [
        {
          "output_type": "stream",
          "name": "stdout",
          "text": [
            "Title 0: Modeling Advection on Directed Graphs using Matérn Gaussian Processes for Traffic Flow\n",
            "Title 1: Time-Dependent Duhamel Renormalization method with Multiple Conservation and Dissipation Laws\n",
            "Title 2: Simulating local fields in carbon nanotube reinforced composites for infinite strip with voids\n",
            "Title 3: Robust reliability-based topology optimization under random-field material model\n",
            "Title 4: A Literature Review on Length of Stay Prediction for Stroke Patients using Machine Learning and Statistical Approaches\n",
            "Title 5: AttentionLight: Rethinking queue length and attention mechanism for traffic signal control\n",
            "Title 6: Confidence-Aware Multi-Teacher Knowledge Distillation\n",
            "Title 7: A Lightweight and Accurate Spatial-Temporal Transformer for Traffic Forecasting\n",
            "Title 8: Improving Deep Neural Network Classification Confidence using Heatmap-based eXplainable AITitle 9: Locally finite free space as limiting case of PT-symmetric medium\n",
            "\n",
            "CPU times: user 49.2 ms, sys: 33.2 ms, total: 82.4 ms\n",
            "Wall time: 1.93 s\n"
          ]
        }
      ]
    },
    {
      "cell_type": "markdown",
      "source": [
        "## Coroutine\n",
        "async aiohttp"
      ],
      "metadata": {
        "id": "Q9ogKagVWEt5"
      }
    },
    {
      "cell_type": "code",
      "source": [
        "async def get_title(cnt, url):\n",
        "      async with aiohttp.ClientSession() as session:\n",
        "          async with session.request('GET', url) as resp:\n",
        "              html = await resp.read()\n",
        "              title = etree.HTML(html).xpath('//h1[contains(@class, \"title\")]/text()')\n",
        "              print('Title %d: %s' % (cnt,''.join(title)))"
      ],
      "metadata": {
        "id": "lEWobIXXSu-V"
      },
      "execution_count": null,
      "outputs": []
    },
    {
      "cell_type": "code",
      "source": [
        "%%time\n",
        "start = time.time()\n",
        "loop = asyncio.get_event_loop()\n",
        "tasks = [get_title(cnt, url) for cnt, url in enumerate(urls)]\n",
        "loop.run_until_complete(asyncio.wait(tasks))"
      ],
      "metadata": {
        "colab": {
          "base_uri": "https://localhost:8080/"
        },
        "id": "TZHjaZY_OTnY",
        "outputId": "ab5db333-84c4-4326-8b21-728259275f12"
      },
      "execution_count": null,
      "outputs": [
        {
          "output_type": "stream",
          "name": "stdout",
          "text": [
            "Title 9: Locally finite free space as limiting case of PT-symmetric medium\n",
            "Title 0: Modeling Advection on Directed Graphs using Matérn Gaussian Processes for Traffic Flow\n",
            "Title 3: Robust reliability-based topology optimization under random-field material model\n",
            "Title 1: Time-Dependent Duhamel Renormalization method with Multiple Conservation and Dissipation Laws\n",
            "Title 4: A Literature Review on Length of Stay Prediction for Stroke Patients using Machine Learning and Statistical Approaches\n",
            "Title 7: A Lightweight and Accurate Spatial-Temporal Transformer for Traffic Forecasting\n",
            "Title 2: Simulating local fields in carbon nanotube reinforced composites for infinite strip with voids\n",
            "Title 5: AttentionLight: Rethinking queue length and attention mechanism for traffic signal control\n",
            "Title 8: Improving Deep Neural Network Classification Confidence using Heatmap-based eXplainable AI\n",
            "Title 6: Confidence-Aware Multi-Teacher Knowledge Distillation\n",
            "CPU times: user 91 ms, sys: 9.2 ms, total: 100 ms\n",
            "Wall time: 821 ms\n"
          ]
        },
        {
          "output_type": "execute_result",
          "data": {
            "text/plain": [
              "({<Task finished coro=<get_title() done, defined at <ipython-input-187-ae3faecb97ed>:1> result=None>,\n",
              "  <Task finished coro=<get_title() done, defined at <ipython-input-187-ae3faecb97ed>:1> result=None>,\n",
              "  <Task finished coro=<get_title() done, defined at <ipython-input-187-ae3faecb97ed>:1> result=None>,\n",
              "  <Task finished coro=<get_title() done, defined at <ipython-input-187-ae3faecb97ed>:1> result=None>,\n",
              "  <Task finished coro=<get_title() done, defined at <ipython-input-187-ae3faecb97ed>:1> result=None>,\n",
              "  <Task finished coro=<get_title() done, defined at <ipython-input-187-ae3faecb97ed>:1> result=None>,\n",
              "  <Task finished coro=<get_title() done, defined at <ipython-input-187-ae3faecb97ed>:1> result=None>,\n",
              "  <Task finished coro=<get_title() done, defined at <ipython-input-187-ae3faecb97ed>:1> result=None>,\n",
              "  <Task finished coro=<get_title() done, defined at <ipython-input-187-ae3faecb97ed>:1> result=None>,\n",
              "  <Task finished coro=<get_title() done, defined at <ipython-input-187-ae3faecb97ed>:1> result=None>},\n",
              " set())"
            ]
          },
          "metadata": {},
          "execution_count": 188
        }
      ]
    }
  ]
}