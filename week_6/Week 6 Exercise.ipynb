{
  "nbformat": 4,
  "nbformat_minor": 0,
  "metadata": {
    "colab": {
      "provenance": [],
      "collapsed_sections": []
    },
    "kernelspec": {
      "name": "python3",
      "display_name": "Python 3"
    },
    "language_info": {
      "name": "python"
    }
  },
  "cells": [
    {
      "cell_type": "code",
      "execution_count": 1,
      "metadata": {
        "id": "ewKb0DoQUtZC"
      },
      "outputs": [],
      "source": [
        "from multiprocessing import Pool\n",
        "from lxml import etree\n",
        "import aiohttp\n",
        "import asyncio\n",
        "import time"
      ]
    },
    {
      "cell_type": "code",
      "source": [
        "!pip install nest_asyncio --quiet\n",
        "import nest_asyncio\n",
        "nest_asyncio.apply()"
      ],
      "metadata": {
        "id": "Kt_f159fOk7o"
      },
      "execution_count": 2,
      "outputs": []
    },
    {
      "cell_type": "markdown",
      "source": [
        "Exercise: Use async for http requests and multiprocessing for parsing html. Compare the performance with the practices in the lecture note\n",
        "\n"
      ],
      "metadata": {
        "id": "t4a2mLx-Jy4x"
      }
    },
    {
      "cell_type": "code",
      "source": [
        "urls = ['https://arxiv.org/abs/2201.000%02d'%i for i in range(1, 11)]"
      ],
      "metadata": {
        "id": "yfSBgnkbJv3j"
      },
      "execution_count": 3,
      "outputs": []
    },
    {
      "cell_type": "code",
      "source": [
        "htmls: list\n",
        "async def get_html(url):\n",
        "      async with aiohttp.ClientSession() as session:\n",
        "          async with session.request('GET', url) as resp:\n",
        "              html = await resp.read()\n",
        "              htmls.append(html)\n",
        "\n",
        "def parse_html(html, cnt):\n",
        "  title = etree.HTML(html).xpath('//h1[contains(@class, \"title\")]/text()')\n",
        "  print('Title %d: %s' % (cnt,''.join(title)))"
      ],
      "metadata": {
        "id": "3Fp7Rb3rKJZR"
      },
      "execution_count": 4,
      "outputs": []
    },
    {
      "cell_type": "markdown",
      "source": [
        "Complete the following routines"
      ],
      "metadata": {
        "id": "laBCHpe8Njhb"
      }
    },
    {
      "cell_type": "code",
      "source": [
        "def main_get_html():\n",
        "  '''\n",
        "  use asyncio\n",
        "  '''\n",
        "  loop = asyncio.get_event_loop()\n",
        "  tasks = [get_html(url) for url in urls]\n",
        "  loop.run_until_complete(asyncio.gather(*tasks))\n",
        "\n",
        "def main_parse_html():\n",
        "  '''\n",
        "  use multiprocessing\n",
        "  '''\n",
        "  p = Pool()\n",
        "  for i, html in enumerate(htmls):\n",
        "    p.apply_async(parse_html, args=(html, i))\n",
        "  p.close()\n",
        "  p.join() \n"
      ],
      "metadata": {
        "id": "CnJNOL5QM514"
      },
      "execution_count": 5,
      "outputs": []
    },
    {
      "cell_type": "code",
      "source": [
        "%%time\n",
        "htmls = []\n",
        "main_get_html()\n",
        "main_parse_html()"
      ],
      "metadata": {
        "colab": {
          "base_uri": "https://localhost:8080/"
        },
        "id": "M_1sW-ibNSOt",
        "outputId": "5a072f4e-3b0a-4d32-f9d8-7020a9e8aba2"
      },
      "execution_count": 6,
      "outputs": [
        {
          "output_type": "stream",
          "name": "stdout",
          "text": [
            "Title 0: A Literature Review on Length of Stay Prediction for Stroke Patients using Machine Learning and Statistical ApproachesTitle 1: Locally finite free space as limiting case of PT-symmetric medium\n",
            "\n",
            "Title 2: A Lightweight and Accurate Spatial-Temporal Transformer for Traffic ForecastingTitle 3: Time-Dependent Duhamel Renormalization method with Multiple Conservation and Dissipation Laws\n",
            "\n",
            "Title 4: Robust reliability-based topology optimization under random-field material modelTitle 5: Improving Deep Neural Network Classification Confidence using Heatmap-based eXplainable AI\n",
            "\n",
            "Title 6: Modeling Advection on Directed Graphs using Matérn Gaussian Processes for Traffic Flow\n",
            "Title 7: Simulating local fields in carbon nanotube reinforced composites for infinite strip with voids\n",
            "Title 9: Confidence-Aware Multi-Teacher Knowledge DistillationTitle 8: AttentionLight: Rethinking queue length and attention mechanism for traffic signal control\n",
            "\n",
            "CPU times: user 167 ms, sys: 50.5 ms, total: 218 ms\n",
            "Wall time: 773 ms\n"
          ]
        }
      ]
    },
    {
      "cell_type": "markdown",
      "source": [
        "How about using multi threads for parsing html? Try it out"
      ],
      "metadata": {
        "id": "NfLB7MxxQXgN"
      }
    },
    {
      "cell_type": "code",
      "source": [
        "import threading"
      ],
      "metadata": {
        "id": "IdXJJ4FxQW4z"
      },
      "execution_count": 7,
      "outputs": []
    },
    {
      "cell_type": "code",
      "source": [
        "def main_parse_html_mt():\n",
        "  '''\n",
        "  use multithreading\n",
        "  '''\n",
        "  p = threading.Pool()\n",
        "  for i, html in enumerate(htmls):\n",
        "    p.apply_async(parse_html, args=(html, i))\n",
        "  p.close()\n",
        "  p.join() "
      ],
      "metadata": {
        "id": "ocgHyKuqIovz"
      },
      "execution_count": 8,
      "outputs": []
    },
    {
      "cell_type": "code",
      "source": [
        "%%time\n",
        "main_parse_html()"
      ],
      "metadata": {
        "id": "98gyDTVaI1BC",
        "outputId": "070c3f9d-cecc-4eb3-890c-677b5023c88c",
        "colab": {
          "base_uri": "https://localhost:8080/"
        }
      },
      "execution_count": 9,
      "outputs": [
        {
          "output_type": "stream",
          "name": "stdout",
          "text": [
            "Title 1: Locally finite free space as limiting case of PT-symmetric mediumTitle 0: A Literature Review on Length of Stay Prediction for Stroke Patients using Machine Learning and Statistical Approaches\n",
            "\n",
            "Title 3: Time-Dependent Duhamel Renormalization method with Multiple Conservation and Dissipation LawsTitle 2: A Lightweight and Accurate Spatial-Temporal Transformer for Traffic Forecasting\n",
            "Title 4: Robust reliability-based topology optimization under random-field material model\n",
            "\n",
            "Title 5: Improving Deep Neural Network Classification Confidence using Heatmap-based eXplainable AI\n",
            "Title 6: Modeling Advection on Directed Graphs using Matérn Gaussian Processes for Traffic Flow\n",
            "Title 7: Simulating local fields in carbon nanotube reinforced composites for infinite strip with voidsTitle 8: AttentionLight: Rethinking queue length and attention mechanism for traffic signal control\n",
            "Title 9: Confidence-Aware Multi-Teacher Knowledge Distillation\n",
            "\n",
            "CPU times: user 74.8 ms, sys: 36.5 ms, total: 111 ms\n",
            "Wall time: 391 ms\n"
          ]
        }
      ]
    }
  ]
}