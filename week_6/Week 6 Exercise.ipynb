{
  "nbformat": 4,
  "nbformat_minor": 0,
  "metadata": {
    "colab": {
      "provenance": [],
      "collapsed_sections": []
    },
    "kernelspec": {
      "name": "python3",
      "display_name": "Python 3"
    },
    "language_info": {
      "name": "python"
    }
  },
  "cells": [
    {
      "cell_type": "code",
      "execution_count": null,
      "metadata": {
        "id": "ewKb0DoQUtZC"
      },
      "outputs": [],
      "source": [
        "from multiprocessing import Pool\n",
        "from lxml import etree\n",
        "import aiohttp\n",
        "import asyncio\n",
        "import time"
      ]
    },
    {
      "cell_type": "code",
      "source": [
        "!pip install nest_asyncio --quiet\n",
        "import nest_asyncio\n",
        "nest_asyncio.apply()"
      ],
      "metadata": {
        "id": "Kt_f159fOk7o"
      },
      "execution_count": null,
      "outputs": []
    },
    {
      "cell_type": "markdown",
      "source": [
        "Exercise: Use async for http requests and multiprocessing for parsing html. Compare the performance with the practices in the lecture note\n",
        "\n"
      ],
      "metadata": {
        "id": "t4a2mLx-Jy4x"
      }
    },
    {
      "cell_type": "code",
      "source": [
        "urls = ['https://arxiv.org/abs/2201.000%02d'%i for i in range(1, 11)]"
      ],
      "metadata": {
        "id": "yfSBgnkbJv3j"
      },
      "execution_count": null,
      "outputs": []
    },
    {
      "cell_type": "code",
      "source": [
        "htmls: list\n",
        "async def get_html(url):\n",
        "      async with aiohttp.ClientSession() as session:\n",
        "          async with session.request('GET', url) as resp:\n",
        "              html = await resp.read()\n",
        "              htmls.append(html)\n",
        "\n",
        "def parse_html(html, cnt):\n",
        "  title = etree.HTML(html).xpath('//h1[contains(@class, \"title\")]/text()')\n",
        "  print('Title %d: %s' % (cnt,''.join(title)))"
      ],
      "metadata": {
        "id": "3Fp7Rb3rKJZR"
      },
      "execution_count": null,
      "outputs": []
    },
    {
      "cell_type": "markdown",
      "source": [
        "Complete the following routines"
      ],
      "metadata": {
        "id": "laBCHpe8Njhb"
      }
    },
    {
      "cell_type": "code",
      "source": [
        "def main_get_html():\n",
        "  '''\n",
        "  use asyncio\n",
        "  '''\n",
        "  pass\n",
        "\n",
        "def main_parse_html():\n",
        "  '''\n",
        "  use multiprocessing\n",
        "  '''\n",
        "  pass"
      ],
      "metadata": {
        "id": "CnJNOL5QM514"
      },
      "execution_count": null,
      "outputs": []
    },
    {
      "cell_type": "code",
      "source": [
        "%%time\n",
        "htmls = []\n",
        "main_get_html()\n",
        "main_parse_html()"
      ],
      "metadata": {
        "colab": {
          "base_uri": "https://localhost:8080/"
        },
        "id": "M_1sW-ibNSOt",
        "outputId": "4fd62ee1-b36c-484b-afed-8346f6c2a975"
      },
      "execution_count": null,
      "outputs": [
        {
          "output_type": "stream",
          "name": "stdout",
          "text": [
            "CPU times: user 35 µs, sys: 0 ns, total: 35 µs\n",
            "Wall time: 41.2 µs\n"
          ]
        }
      ]
    },
    {
      "cell_type": "markdown",
      "source": [
        "How about using multi threads for parsing html? Try it out"
      ],
      "metadata": {
        "id": "NfLB7MxxQXgN"
      }
    },
    {
      "cell_type": "code",
      "source": [
        "import threading"
      ],
      "metadata": {
        "id": "IdXJJ4FxQW4z"
      },
      "execution_count": null,
      "outputs": []
    }
  ]
}